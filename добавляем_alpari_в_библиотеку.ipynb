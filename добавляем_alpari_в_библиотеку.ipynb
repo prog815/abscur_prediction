{
  "nbformat": 4,
  "nbformat_minor": 0,
  "metadata": {
    "colab": {
      "name": "добавляем alpari в библиотеку.ipynb",
      "provenance": [],
      "collapsed_sections": [],
      "toc_visible": true,
      "authorship_tag": "ABX9TyPrtz4nHFE4ULB+igjvU+Yj",
      "include_colab_link": true
    },
    "kernelspec": {
      "name": "python3",
      "display_name": "Python 3"
    },
    "accelerator": "GPU"
  },
  "cells": [
    {
      "cell_type": "markdown",
      "metadata": {
        "id": "view-in-github",
        "colab_type": "text"
      },
      "source": [
        "<a href=\"https://colab.research.google.com/github/prog815/abscur_prediction/blob/master/%D0%B4%D0%BE%D0%B1%D0%B0%D0%B2%D0%BB%D1%8F%D0%B5%D0%BC_alpari_%D0%B2_%D0%B1%D0%B8%D0%B1%D0%BB%D0%B8%D0%BE%D1%82%D0%B5%D0%BA%D1%83.ipynb\" target=\"_parent\"><img src=\"https://colab.research.google.com/assets/colab-badge.svg\" alt=\"Open In Colab\"/></a>"
      ]
    },
    {
      "cell_type": "markdown",
      "metadata": {
        "id": "1mkX7IMcVHgR",
        "colab_type": "text"
      },
      "source": [
        "# **Добавляем архивы курсов \"Альпари\" в библиотеку**"
      ]
    },
    {
      "cell_type": "markdown",
      "metadata": {
        "id": "aM--woXnu26D",
        "colab_type": "text"
      },
      "source": [
        "**Абсолютный курс**\n",
        "\n",
        "Енин А.В.\n",
        "\n",
        "г. Оренбург\n",
        "\n",
        "09.05.2020 г."
      ]
    },
    {
      "cell_type": "markdown",
      "metadata": {
        "id": "q_qWG0YvRMXa",
        "colab_type": "text"
      },
      "source": [
        "Сайт - http://www.abscur.ru\n",
        "\n",
        "Twitter - https://twitter.com/abscurs\n",
        "\n",
        "ВКонтакте -  https://vk.com/abscur\n",
        "\n",
        "Одноклассники -  https://ok.ru/group/53547043520717\n",
        "\n",
        "FB -  https://www.facebook.com/abscur \n",
        "\n",
        "Telegram - https://t.me/AbsCur\n",
        "\n",
        "GitHub - https://github.com/prog815/abscur_prediction\n",
        "\n",
        "https://github.com/prog815/abscur\n",
        "\n",
        "WhatsUp - https://chat.whatsapp.com/KrNJXAKizPxDlDSjYfdpQs\n",
        "\n",
        "Viber - https://invite.viber.com/?g2=AQB63y7Cm%2BNJK0tNZW%2F9kI00M6Wr8HuZ7XeamzN4jZCve8Aq9%2FiD3DY56Eqcf7dc"
      ]
    },
    {
      "cell_type": "markdown",
      "metadata": {
        "id": "-0ZPA_7s0E-b",
        "colab_type": "text"
      },
      "source": [
        "# Введение\n",
        "\n",
        "На сайте http://ticks.alpari.org/ можно найти архивы с курсами брокера \"Альпари\". Делаем библиотеку для получения этих курсов тетрадке IPython. \n",
        "\n",
        "Результат размещаем в библиотеке abscur.alpari (https://github.com/prog815/abscur)."
      ]
    },
    {
      "cell_type": "markdown",
      "metadata": {
        "id": "MR8YNhsLNxAd",
        "colab_type": "text"
      },
      "source": [
        "# Библиотеки\n",
        "\n"
      ]
    },
    {
      "cell_type": "code",
      "metadata": {
        "id": "qb0Sc15EJKE8",
        "colab_type": "code",
        "outputId": "72746f16-c06c-40fc-de4a-82014ce86aec",
        "colab": {
          "base_uri": "https://localhost:8080/",
          "height": 263
        }
      },
      "source": [
        "! pip install git+https://github.com/prog815/abscur\n",
        "import abscur"
      ],
      "execution_count": 0,
      "outputs": [
        {
          "output_type": "stream",
          "text": [
            "Collecting git+https://github.com/prog815/abscur\n",
            "  Cloning https://github.com/prog815/abscur to /tmp/pip-req-build-rag9gufn\n",
            "  Running command git clone -q https://github.com/prog815/abscur /tmp/pip-req-build-rag9gufn\n",
            "Building wheels for collected packages: abscur\n",
            "  Building wheel for abscur (setup.py) ... \u001b[?25l\u001b[?25hdone\n",
            "  Created wheel for abscur: filename=abscur-0.1.19-cp36-none-any.whl size=7344 sha256=6587ede8a9b76e6ba7d144c3736040d14e359e6a375ddd1d6896b3312895991d\n",
            "  Stored in directory: /tmp/pip-ephem-wheel-cache-4n40dmel/wheels/57/99/b6/8f8d84361b37a8789f91280c8e92720b9101beffb944cd32ab\n",
            "Successfully built abscur\n",
            "Installing collected packages: abscur\n",
            "  Found existing installation: abscur 0.1.18\n",
            "    Uninstalling abscur-0.1.18:\n",
            "      Successfully uninstalled abscur-0.1.18\n",
            "Successfully installed abscur-0.1.19\n"
          ],
          "name": "stdout"
        }
      ]
    },
    {
      "cell_type": "markdown",
      "metadata": {
        "id": "GauqzexkvZhl",
        "colab_type": "text"
      },
      "source": [
        "# Импорт данных"
      ]
    },
    {
      "cell_type": "code",
      "metadata": {
        "id": "hWjronMfKRhO",
        "colab_type": "code",
        "outputId": "c57f3a0d-bc7e-4420-8e64-15fae403ed21",
        "colab": {
          "base_uri": "https://localhost:8080/",
          "height": 107
        }
      },
      "source": [
        "print(abscur.alpari.get_topics())\n",
        "print(abscur.alpari.get_topic_instuments('nano'))\n",
        "print(abscur.alpari.get_instruments_years('nano','AUDCAD'))\n",
        "print(abscur.alpari.get_zip_list('nano','AUDCAD','2020'))"
      ],
      "execution_count": 0,
      "outputs": [
        {
          "output_type": "stream",
          "text": [
            "['FixContractsTrader', 'contest', 'ecn1', 'mt5', 'nano', 'pro', 'proecn', 'standard1', 'standard2', 'standard3', 'standard4']\n",
            "['AUDCAD', 'AUDCHF', 'AUDJPY', 'AUDNZD', 'AUDSGD', 'AUDUSD', 'CADCHF', 'CADJPY', 'CHFJPY', 'CHFSGD', 'EURAUD', 'EURCAD', 'EURCHF', 'EURDKK', 'EUREUC', 'EURGBP', 'EURJPY', 'EURNOK', 'EURNZD', 'EURRUB', 'EURSEK', 'EURSGD', 'EURTRY', 'EURUSD', 'GBPAUD', 'GBPCAD', 'GBPCHF', 'GBPJPY', 'GBPNZD', 'GBPSGD', 'GBPUSD', 'HKDJPY', 'NZDCAD', 'NZDCHF', 'NZDJPY', 'NZDSGD', 'NZDUSD', 'SGDJPY', 'USDCAD', 'USDCHF', 'USDCNH', 'USDDKK', 'USDEUC', 'USDHKD', 'USDJPY', 'USDMXN', 'USDNOK', 'USDPLN', 'USDRUB', 'USDSEK', 'USDSGD', 'USDTRY', 'USDUSC', 'USDZAR', 'XAGUSD', 'XAUUSD']\n",
            "['2013', '2014', '2015', '2016', '2017', '2018', '2019', '2020']\n",
            "['202001_nano_AUDCAD.zip', '202002_nano_AUDCAD.zip', '202003_nano_AUDCAD.zip', '202004_nano_AUDCAD.zip', '202005_nano_AUDCAD.zip']\n"
          ],
          "name": "stdout"
        }
      ]
    },
    {
      "cell_type": "code",
      "metadata": {
        "id": "IQF5zo3h73G2",
        "colab_type": "code",
        "outputId": "c6b7d1da-a454-4ed7-b275-844c61993349",
        "colab": {
          "base_uri": "https://localhost:8080/",
          "height": 969
        }
      },
      "source": [
        "res = abscur.alpari.get_cot_hist('nano',['EURUSD','AUDCAD', 'AUDCHF'],'2m','15')\n",
        "res"
      ],
      "execution_count": 0,
      "outputs": [
        {
          "output_type": "stream",
          "text": [
            "202003_nano_EURUSD.zip загружен из сети\n",
            "202004_nano_EURUSD.zip загружен из сети\n",
            "202005_nano_EURUSD.zip загружен из сети\n",
            "202003_nano_AUDCAD.zip загружен из сети\n",
            "202004_nano_AUDCAD.zip загружен из сети\n",
            "202005_nano_AUDCAD.zip загружен из сети\n",
            "202003_nano_AUDCHF.zip загружен из сети\n",
            "202004_nano_AUDCHF.zip загружен из сети\n",
            "202005_nano_AUDCHF.zip загружен из сети\n"
          ],
          "name": "stdout"
        },
        {
          "output_type": "execute_result",
          "data": {
            "text/html": [
              "<div>\n",
              "<style scoped>\n",
              "    .dataframe tbody tr th:only-of-type {\n",
              "        vertical-align: middle;\n",
              "    }\n",
              "\n",
              "    .dataframe tbody tr th {\n",
              "        vertical-align: top;\n",
              "    }\n",
              "\n",
              "    .dataframe thead tr th {\n",
              "        text-align: left;\n",
              "    }\n",
              "</style>\n",
              "<table border=\"1\" class=\"dataframe\">\n",
              "  <thead>\n",
              "    <tr>\n",
              "      <th></th>\n",
              "      <th colspan=\"4\" halign=\"left\">EURUSD</th>\n",
              "      <th colspan=\"4\" halign=\"left\">AUDCAD</th>\n",
              "      <th colspan=\"4\" halign=\"left\">AUDCHF</th>\n",
              "    </tr>\n",
              "    <tr>\n",
              "      <th></th>\n",
              "      <th>open</th>\n",
              "      <th>high</th>\n",
              "      <th>low</th>\n",
              "      <th>close</th>\n",
              "      <th>open</th>\n",
              "      <th>high</th>\n",
              "      <th>low</th>\n",
              "      <th>close</th>\n",
              "      <th>open</th>\n",
              "      <th>high</th>\n",
              "      <th>low</th>\n",
              "      <th>close</th>\n",
              "    </tr>\n",
              "  </thead>\n",
              "  <tbody>\n",
              "    <tr>\n",
              "      <th>2020-03-02 00:00:00</th>\n",
              "      <td>1.104495</td>\n",
              "      <td>1.104550</td>\n",
              "      <td>1.104000</td>\n",
              "      <td>1.104500</td>\n",
              "      <td>0.870430</td>\n",
              "      <td>0.872070</td>\n",
              "      <td>0.870430</td>\n",
              "      <td>0.870880</td>\n",
              "      <td>0.624055</td>\n",
              "      <td>0.625840</td>\n",
              "      <td>0.624015</td>\n",
              "      <td>0.624730</td>\n",
              "    </tr>\n",
              "    <tr>\n",
              "      <th>2020-03-02 00:15:00</th>\n",
              "      <td>1.104450</td>\n",
              "      <td>1.104500</td>\n",
              "      <td>1.103980</td>\n",
              "      <td>1.104110</td>\n",
              "      <td>0.870940</td>\n",
              "      <td>0.871405</td>\n",
              "      <td>0.870475</td>\n",
              "      <td>0.870995</td>\n",
              "      <td>0.624785</td>\n",
              "      <td>0.625160</td>\n",
              "      <td>0.624500</td>\n",
              "      <td>0.625115</td>\n",
              "    </tr>\n",
              "    <tr>\n",
              "      <th>2020-03-02 00:30:00</th>\n",
              "      <td>1.104095</td>\n",
              "      <td>1.104945</td>\n",
              "      <td>1.104060</td>\n",
              "      <td>1.104495</td>\n",
              "      <td>0.871155</td>\n",
              "      <td>0.871200</td>\n",
              "      <td>0.870045</td>\n",
              "      <td>0.870045</td>\n",
              "      <td>0.625130</td>\n",
              "      <td>0.625385</td>\n",
              "      <td>0.624585</td>\n",
              "      <td>0.624585</td>\n",
              "    </tr>\n",
              "    <tr>\n",
              "      <th>2020-03-02 00:45:00</th>\n",
              "      <td>1.104500</td>\n",
              "      <td>1.104845</td>\n",
              "      <td>1.104415</td>\n",
              "      <td>1.104675</td>\n",
              "      <td>0.870015</td>\n",
              "      <td>0.870780</td>\n",
              "      <td>0.869570</td>\n",
              "      <td>0.870550</td>\n",
              "      <td>0.624590</td>\n",
              "      <td>0.624825</td>\n",
              "      <td>0.623965</td>\n",
              "      <td>0.624545</td>\n",
              "    </tr>\n",
              "    <tr>\n",
              "      <th>2020-03-02 01:00:00</th>\n",
              "      <td>1.104720</td>\n",
              "      <td>1.107285</td>\n",
              "      <td>1.104720</td>\n",
              "      <td>1.107195</td>\n",
              "      <td>0.871055</td>\n",
              "      <td>0.872995</td>\n",
              "      <td>0.870930</td>\n",
              "      <td>0.872850</td>\n",
              "      <td>0.624575</td>\n",
              "      <td>0.625955</td>\n",
              "      <td>0.624505</td>\n",
              "      <td>0.625790</td>\n",
              "    </tr>\n",
              "    <tr>\n",
              "      <th>...</th>\n",
              "      <td>...</td>\n",
              "      <td>...</td>\n",
              "      <td>...</td>\n",
              "      <td>...</td>\n",
              "      <td>...</td>\n",
              "      <td>...</td>\n",
              "      <td>...</td>\n",
              "      <td>...</td>\n",
              "      <td>...</td>\n",
              "      <td>...</td>\n",
              "      <td>...</td>\n",
              "      <td>...</td>\n",
              "    </tr>\n",
              "    <tr>\n",
              "      <th>2020-05-01 22:45:00</th>\n",
              "      <td>1.097810</td>\n",
              "      <td>1.098170</td>\n",
              "      <td>1.097595</td>\n",
              "      <td>1.097935</td>\n",
              "      <td>0.902665</td>\n",
              "      <td>0.903090</td>\n",
              "      <td>0.902615</td>\n",
              "      <td>0.903000</td>\n",
              "      <td>0.617055</td>\n",
              "      <td>0.617355</td>\n",
              "      <td>0.617010</td>\n",
              "      <td>0.617160</td>\n",
              "    </tr>\n",
              "    <tr>\n",
              "      <th>2020-05-01 23:00:00</th>\n",
              "      <td>1.097930</td>\n",
              "      <td>1.098025</td>\n",
              "      <td>1.097475</td>\n",
              "      <td>1.097520</td>\n",
              "      <td>0.903020</td>\n",
              "      <td>0.903200</td>\n",
              "      <td>0.902160</td>\n",
              "      <td>0.902415</td>\n",
              "      <td>0.617220</td>\n",
              "      <td>0.617430</td>\n",
              "      <td>0.617185</td>\n",
              "      <td>0.617330</td>\n",
              "    </tr>\n",
              "    <tr>\n",
              "      <th>2020-05-01 23:15:00</th>\n",
              "      <td>1.097550</td>\n",
              "      <td>1.097710</td>\n",
              "      <td>1.097315</td>\n",
              "      <td>1.097545</td>\n",
              "      <td>0.902445</td>\n",
              "      <td>0.903385</td>\n",
              "      <td>0.902380</td>\n",
              "      <td>0.903380</td>\n",
              "      <td>0.617315</td>\n",
              "      <td>0.617760</td>\n",
              "      <td>0.617280</td>\n",
              "      <td>0.617705</td>\n",
              "    </tr>\n",
              "    <tr>\n",
              "      <th>2020-05-01 23:30:00</th>\n",
              "      <td>1.097555</td>\n",
              "      <td>1.098085</td>\n",
              "      <td>1.097455</td>\n",
              "      <td>1.098010</td>\n",
              "      <td>0.903385</td>\n",
              "      <td>0.904135</td>\n",
              "      <td>0.903055</td>\n",
              "      <td>0.903955</td>\n",
              "      <td>0.617730</td>\n",
              "      <td>0.617730</td>\n",
              "      <td>0.617345</td>\n",
              "      <td>0.617430</td>\n",
              "    </tr>\n",
              "    <tr>\n",
              "      <th>2020-05-01 23:45:00</th>\n",
              "      <td>1.098015</td>\n",
              "      <td>1.098085</td>\n",
              "      <td>1.097890</td>\n",
              "      <td>1.098060</td>\n",
              "      <td>0.903975</td>\n",
              "      <td>0.904560</td>\n",
              "      <td>0.903575</td>\n",
              "      <td>0.904470</td>\n",
              "      <td>0.617420</td>\n",
              "      <td>0.617455</td>\n",
              "      <td>0.616860</td>\n",
              "      <td>0.617145</td>\n",
              "    </tr>\n",
              "  </tbody>\n",
              "</table>\n",
              "<p>3540 rows × 12 columns</p>\n",
              "</div>"
            ],
            "text/plain": [
              "                       EURUSD                      ...    AUDCHF                    \n",
              "                         open      high       low  ...      high       low     close\n",
              "2020-03-02 00:00:00  1.104495  1.104550  1.104000  ...  0.625840  0.624015  0.624730\n",
              "2020-03-02 00:15:00  1.104450  1.104500  1.103980  ...  0.625160  0.624500  0.625115\n",
              "2020-03-02 00:30:00  1.104095  1.104945  1.104060  ...  0.625385  0.624585  0.624585\n",
              "2020-03-02 00:45:00  1.104500  1.104845  1.104415  ...  0.624825  0.623965  0.624545\n",
              "2020-03-02 01:00:00  1.104720  1.107285  1.104720  ...  0.625955  0.624505  0.625790\n",
              "...                       ...       ...       ...  ...       ...       ...       ...\n",
              "2020-05-01 22:45:00  1.097810  1.098170  1.097595  ...  0.617355  0.617010  0.617160\n",
              "2020-05-01 23:00:00  1.097930  1.098025  1.097475  ...  0.617430  0.617185  0.617330\n",
              "2020-05-01 23:15:00  1.097550  1.097710  1.097315  ...  0.617760  0.617280  0.617705\n",
              "2020-05-01 23:30:00  1.097555  1.098085  1.097455  ...  0.617730  0.617345  0.617430\n",
              "2020-05-01 23:45:00  1.098015  1.098085  1.097890  ...  0.617455  0.616860  0.617145\n",
              "\n",
              "[3540 rows x 12 columns]"
            ]
          },
          "metadata": {
            "tags": []
          },
          "execution_count": 3
        }
      ]
    },
    {
      "cell_type": "code",
      "metadata": {
        "id": "OueRN7ZKkt_n",
        "colab_type": "code",
        "outputId": "20662eb7-79cf-4b80-d229-885c3e861b60",
        "colab": {
          "base_uri": "https://localhost:8080/",
          "height": 289
        }
      },
      "source": [
        "import matplotlib.pyplot as plt\n",
        "\n",
        "res.EURUSD.close.plot(label='EURUSD')\n",
        "res.AUDCAD.close.plot(label='AUDCAD')\n",
        "res.AUDCHF.close.plot(label='AUDCHF')\n",
        "plt.legend()"
      ],
      "execution_count": 0,
      "outputs": [
        {
          "output_type": "execute_result",
          "data": {
            "text/plain": [
              "<matplotlib.legend.Legend at 0x7fcdd798b0f0>"
            ]
          },
          "metadata": {
            "tags": []
          },
          "execution_count": 4
        },
        {
          "output_type": "display_data",
          "data": {
            "image/png": "[encoded data removed]",
            "text/plain": [
              "<Figure size 432x288 with 1 Axes>"
            ]
          },
          "metadata": {
            "tags": [],
            "needs_background": "light"
          }
        }
      ]
    },
    {
      "cell_type": "markdown",
      "metadata": {
        "id": "n8DcCaxn01s0",
        "colab_type": "text"
      },
      "source": [
        "# Выводы\n",
        "\n",
        "Библиотеку собрали. Теперь ей можно пользоваться (https://github.com/prog815/abscur). Хотя стоит задуматься об ускорении загрузок."
      ]
    }
  ]
}