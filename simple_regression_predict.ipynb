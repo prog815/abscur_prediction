{
  "nbformat": 4,
  "nbformat_minor": 0,
  "metadata": {
    "colab": {
      "name": "simple_regression_predict.ipynb",
      "version": "0.3.2",
      "provenance": [],
      "include_colab_link": true
    },
    "kernelspec": {
      "name": "python3",
      "display_name": "Python 3"
    }
  },
  "cells": [
    {
      "cell_type": "markdown",
      "metadata": {
        "id": "view-in-github",
        "colab_type": "text"
      },
      "source": [
        "<a href=\"https://colab.research.google.com/github/prog815/abscur_prediction/blob/master/simple_regression_predict.ipynb\" target=\"_parent\"><img src=\"https://colab.research.google.com/assets/colab-badge.svg\" alt=\"Open In Colab\"/></a>"
      ]
    },
    {
      "cell_type": "markdown",
      "metadata": {
        "id": "dpXdoIMvgPF_",
        "colab_type": "text"
      },
      "source": [
        "![alt text](https://github.com/prog815/abscur_prediction/raw/master/001.jpg)"
      ]
    },
    {
      "cell_type": "markdown",
      "metadata": {
        "id": "Qp619HRWkcaE",
        "colab_type": "text"
      },
      "source": [
        "# библиотеки"
      ]
    },
    {
      "cell_type": "code",
      "metadata": {
        "id": "pWF-9soskfNC",
        "colab_type": "code",
        "colab": {}
      },
      "source": [
        "import pandas as pd\n",
        "import numpy as np\n",
        "\n",
        "import matplotlib.pyplot as plt"
      ],
      "execution_count": 0,
      "outputs": []
    },
    {
      "cell_type": "markdown",
      "metadata": {
        "id": "zFeUmFMgkPDv",
        "colab_type": "text"
      },
      "source": [
        "# подгружаем данные из таблицы"
      ]
    },
    {
      "cell_type": "markdown",
      "metadata": {
        "id": "wx_iDzjWjt5v",
        "colab_type": "text"
      },
      "source": [
        "![alt text](https://github.com/prog815/abscur_prediction/raw/master/002.jpg)"
      ]
    },
    {
      "cell_type": "markdown",
      "metadata": {
        "id": "LG11rckkk_ct",
        "colab_type": "text"
      },
      "source": [
        "таблица с данными:\n",
        "\n",
        "https://docs.google.com/spreadsheets/d/1_-cdNCIC6NgyRDj0zLJBaohXo-K8qCfxfDLbYq2JLhs/edit#gid=422799220"
      ]
    },
    {
      "cell_type": "code",
      "metadata": {
        "id": "5END5n-CkaJq",
        "colab_type": "code",
        "colab": {}
      },
      "source": [
        "abs_data = pd.read_csv(\"https://docs.google.com/spreadsheets/d/1_-cdNCIC6NgyRDj0zLJBaohXo-K8qCfxfDLbYq2JLhs/export?format=csv&id=1_-cdNCIC6NgyRDj0zLJBaohXo-K8qCfxfDLbYq2JLhs&gid=422799220\",parse_dates=['дата'],decimal=',')"
      ],
      "execution_count": 0,
      "outputs": []
    },
    {
      "cell_type": "code",
      "metadata": {
        "id": "iuBEPfH9oNE8",
        "colab_type": "code",
        "outputId": "3b94dfc3-1baa-4793-aa9a-53f4ea971f95",
        "colab": {
          "base_uri": "https://localhost:8080/",
          "height": 816
        }
      },
      "source": [
        "abs_data.dtypes"
      ],
      "execution_count": 3,
      "outputs": [
        {
          "output_type": "execute_result",
          "data": {
            "text/plain": [
              "дата    datetime64[ns]\n",
              "aud            float64\n",
              "cad            float64\n",
              "hkd            float64\n",
              "jpy            float64\n",
              "sek            float64\n",
              "usd            float64\n",
              "chf            float64\n",
              "eur            float64\n",
              "cny            float64\n",
              "czk            float64\n",
              "gbp            float64\n",
              "ils            float64\n",
              "nok            float64\n",
              "nzd            float64\n",
              "rub            float64\n",
              "sgd            float64\n",
              "zar            float64\n",
              "aed            float64\n",
              "ars            float64\n",
              "brl            float64\n",
              "clp            float64\n",
              "cop            float64\n",
              "dkk            float64\n",
              "egp            float64\n",
              "huf            float64\n",
              "idr            float64\n",
              "inr            float64\n",
              "isk            float64\n",
              "krw            float64\n",
              "kwd            float64\n",
              "kzt            float64\n",
              "mxn            float64\n",
              "myr            float64\n",
              "pen            float64\n",
              "php            float64\n",
              "pkr            float64\n",
              "pln            float64\n",
              "qar            float64\n",
              "ron            float64\n",
              "sar            float64\n",
              "thb            float64\n",
              "try            float64\n",
              "twd            float64\n",
              "uah            float64\n",
              "vnd            float64\n",
              "dtype: object"
            ]
          },
          "metadata": {
            "tags": []
          },
          "execution_count": 3
        }
      ]
    },
    {
      "cell_type": "code",
      "metadata": {
        "id": "9Vdd1Cy6lWvY",
        "colab_type": "code",
        "outputId": "b72a24d8-4463-4c14-b1cc-9f3e1ed1eeec",
        "colab": {
          "base_uri": "https://localhost:8080/",
          "height": 34
        }
      },
      "source": [
        "abs_data.shape"
      ],
      "execution_count": 4,
      "outputs": [
        {
          "output_type": "execute_result",
          "data": {
            "text/plain": [
              "(1088, 46)"
            ]
          },
          "metadata": {
            "tags": []
          },
          "execution_count": 4
        }
      ]
    },
    {
      "cell_type": "markdown",
      "metadata": {
        "id": "3Q7Oc3BulrAI",
        "colab_type": "text"
      },
      "source": [
        "абсолютные курсы различный валют"
      ]
    },
    {
      "cell_type": "code",
      "metadata": {
        "id": "XdxDAD4MlcIr",
        "colab_type": "code",
        "outputId": "6754fa85-3566-46df-a6fc-8c0b8406375a",
        "colab": {
          "base_uri": "https://localhost:8080/",
          "height": 309
        }
      },
      "source": [
        "abs_data.tail()"
      ],
      "execution_count": 5,
      "outputs": [
        {
          "output_type": "execute_result",
          "data": {
            "text/html": [
              "<div>\n",
              "<style scoped>\n",
              "    .dataframe tbody tr th:only-of-type {\n",
              "        vertical-align: middle;\n",
              "    }\n",
              "\n",
              "    .dataframe tbody tr th {\n",
              "        vertical-align: top;\n",
              "    }\n",
              "\n",
              "    .dataframe thead th {\n",
              "        text-align: right;\n",
              "    }\n",
              "</style>\n",
              "<table border=\"1\" class=\"dataframe\">\n",
              "  <thead>\n",
              "    <tr style=\"text-align: right;\">\n",
              "      <th></th>\n",
              "      <th>дата</th>\n",
              "      <th>aud</th>\n",
              "      <th>cad</th>\n",
              "      <th>hkd</th>\n",
              "      <th>jpy</th>\n",
              "      <th>sek</th>\n",
              "      <th>usd</th>\n",
              "      <th>chf</th>\n",
              "      <th>eur</th>\n",
              "      <th>cny</th>\n",
              "      <th>czk</th>\n",
              "      <th>gbp</th>\n",
              "      <th>ils</th>\n",
              "      <th>nok</th>\n",
              "      <th>nzd</th>\n",
              "      <th>rub</th>\n",
              "      <th>sgd</th>\n",
              "      <th>zar</th>\n",
              "      <th>aed</th>\n",
              "      <th>ars</th>\n",
              "      <th>brl</th>\n",
              "      <th>clp</th>\n",
              "      <th>cop</th>\n",
              "      <th>dkk</th>\n",
              "      <th>egp</th>\n",
              "      <th>huf</th>\n",
              "      <th>idr</th>\n",
              "      <th>inr</th>\n",
              "      <th>isk</th>\n",
              "      <th>krw</th>\n",
              "      <th>kwd</th>\n",
              "      <th>kzt</th>\n",
              "      <th>mxn</th>\n",
              "      <th>myr</th>\n",
              "      <th>pen</th>\n",
              "      <th>php</th>\n",
              "      <th>pkr</th>\n",
              "      <th>pln</th>\n",
              "      <th>qar</th>\n",
              "      <th>ron</th>\n",
              "      <th>sar</th>\n",
              "      <th>thb</th>\n",
              "      <th>try</th>\n",
              "      <th>twd</th>\n",
              "      <th>uah</th>\n",
              "      <th>vnd</th>\n",
              "    </tr>\n",
              "  </thead>\n",
              "  <tbody>\n",
              "    <tr>\n",
              "      <th>1083</th>\n",
              "      <td>2019-08-22</td>\n",
              "      <td>12.139092</td>\n",
              "      <td>13.490846</td>\n",
              "      <td>2.287489</td>\n",
              "      <td>0.168447</td>\n",
              "      <td>1.859005</td>\n",
              "      <td>17.937439</td>\n",
              "      <td>18.255390</td>\n",
              "      <td>19.878012</td>\n",
              "      <td>2.535005</td>\n",
              "      <td>0.770875</td>\n",
              "      <td>21.861848</td>\n",
              "      <td>5.095185</td>\n",
              "      <td>2.000839</td>\n",
              "      <td>11.451450</td>\n",
              "      <td>0.273108</td>\n",
              "      <td>12.948771</td>\n",
              "      <td>1.179307</td>\n",
              "      <td>4.883341</td>\n",
              "      <td>0.325219</td>\n",
              "      <td>4.428547</td>\n",
              "      <td>0.025148</td>\n",
              "      <td>0.005304</td>\n",
              "      <td>2.666906</td>\n",
              "      <td>1.080833</td>\n",
              "      <td>0.060664</td>\n",
              "      <td>0.001260</td>\n",
              "      <td>0.249871</td>\n",
              "      <td>0.143680</td>\n",
              "      <td>0.014860</td>\n",
              "      <td>58.986051</td>\n",
              "      <td>0.046492</td>\n",
              "      <td>0.908123</td>\n",
              "      <td>4.287958</td>\n",
              "      <td>5.307691</td>\n",
              "      <td>0.343009</td>\n",
              "      <td>0.113041</td>\n",
              "      <td>4.563675</td>\n",
              "      <td>4.909901</td>\n",
              "      <td>4.208629</td>\n",
              "      <td>4.782756</td>\n",
              "      <td>0.582660</td>\n",
              "      <td>3.120922</td>\n",
              "      <td>0.572077</td>\n",
              "      <td>0.715565</td>\n",
              "      <td>0.000773</td>\n",
              "    </tr>\n",
              "    <tr>\n",
              "      <th>1084</th>\n",
              "      <td>2019-08-23</td>\n",
              "      <td>12.122353</td>\n",
              "      <td>13.489891</td>\n",
              "      <td>2.288456</td>\n",
              "      <td>0.169263</td>\n",
              "      <td>1.859296</td>\n",
              "      <td>17.943994</td>\n",
              "      <td>18.307531</td>\n",
              "      <td>19.934053</td>\n",
              "      <td>2.530981</td>\n",
              "      <td>0.771856</td>\n",
              "      <td>21.985595</td>\n",
              "      <td>5.106431</td>\n",
              "      <td>1.999892</td>\n",
              "      <td>11.460480</td>\n",
              "      <td>0.272686</td>\n",
              "      <td>12.941825</td>\n",
              "      <td>1.179225</td>\n",
              "      <td>4.885126</td>\n",
              "      <td>0.325417</td>\n",
              "      <td>4.381669</td>\n",
              "      <td>0.025031</td>\n",
              "      <td>0.005268</td>\n",
              "      <td>2.671969</td>\n",
              "      <td>1.081228</td>\n",
              "      <td>0.060615</td>\n",
              "      <td>0.001261</td>\n",
              "      <td>0.250083</td>\n",
              "      <td>0.143992</td>\n",
              "      <td>0.014803</td>\n",
              "      <td>59.002175</td>\n",
              "      <td>0.046457</td>\n",
              "      <td>0.903721</td>\n",
              "      <td>4.287476</td>\n",
              "      <td>5.316805</td>\n",
              "      <td>0.342636</td>\n",
              "      <td>0.113334</td>\n",
              "      <td>4.563602</td>\n",
              "      <td>4.921017</td>\n",
              "      <td>4.218987</td>\n",
              "      <td>4.784733</td>\n",
              "      <td>0.584278</td>\n",
              "      <td>3.114774</td>\n",
              "      <td>0.571805</td>\n",
              "      <td>0.715831</td>\n",
              "      <td>0.000773</td>\n",
              "    </tr>\n",
              "    <tr>\n",
              "      <th>1085</th>\n",
              "      <td>2019-08-24</td>\n",
              "      <td>12.133145</td>\n",
              "      <td>13.518193</td>\n",
              "      <td>2.289292</td>\n",
              "      <td>0.169325</td>\n",
              "      <td>1.859975</td>\n",
              "      <td>17.950548</td>\n",
              "      <td>18.314218</td>\n",
              "      <td>19.895154</td>\n",
              "      <td>2.531906</td>\n",
              "      <td>0.774026</td>\n",
              "      <td>21.993626</td>\n",
              "      <td>5.108297</td>\n",
              "      <td>2.000623</td>\n",
              "      <td>11.494105</td>\n",
              "      <td>0.272785</td>\n",
              "      <td>12.946553</td>\n",
              "      <td>1.176924</td>\n",
              "      <td>4.886910</td>\n",
              "      <td>0.325536</td>\n",
              "      <td>4.357044</td>\n",
              "      <td>0.024941</td>\n",
              "      <td>0.005242</td>\n",
              "      <td>2.672945</td>\n",
              "      <td>1.081623</td>\n",
              "      <td>0.060637</td>\n",
              "      <td>0.001261</td>\n",
              "      <td>0.250175</td>\n",
              "      <td>0.144044</td>\n",
              "      <td>0.014808</td>\n",
              "      <td>59.029356</td>\n",
              "      <td>0.046474</td>\n",
              "      <td>0.901018</td>\n",
              "      <td>4.289042</td>\n",
              "      <td>5.318747</td>\n",
              "      <td>0.342173</td>\n",
              "      <td>0.113376</td>\n",
              "      <td>4.565269</td>\n",
              "      <td>4.929236</td>\n",
              "      <td>4.220528</td>\n",
              "      <td>4.786481</td>\n",
              "      <td>0.584491</td>\n",
              "      <td>3.115911</td>\n",
              "      <td>0.572014</td>\n",
              "      <td>0.716092</td>\n",
              "      <td>0.000774</td>\n",
              "    </tr>\n",
              "    <tr>\n",
              "      <th>1086</th>\n",
              "      <td>2019-08-25</td>\n",
              "      <td>12.091963</td>\n",
              "      <td>13.502439</td>\n",
              "      <td>2.287590</td>\n",
              "      <td>0.170793</td>\n",
              "      <td>1.863740</td>\n",
              "      <td>17.941916</td>\n",
              "      <td>18.334390</td>\n",
              "      <td>20.013294</td>\n",
              "      <td>2.530688</td>\n",
              "      <td>0.773837</td>\n",
              "      <td>22.017850</td>\n",
              "      <td>5.105840</td>\n",
              "      <td>2.002983</td>\n",
              "      <td>11.464536</td>\n",
              "      <td>0.273086</td>\n",
              "      <td>12.921595</td>\n",
              "      <td>1.167872</td>\n",
              "      <td>4.884693</td>\n",
              "      <td>0.325379</td>\n",
              "      <td>4.354949</td>\n",
              "      <td>0.024929</td>\n",
              "      <td>0.005239</td>\n",
              "      <td>2.683014</td>\n",
              "      <td>1.081882</td>\n",
              "      <td>0.060763</td>\n",
              "      <td>0.001261</td>\n",
              "      <td>0.250055</td>\n",
              "      <td>0.144663</td>\n",
              "      <td>0.014783</td>\n",
              "      <td>59.064678</td>\n",
              "      <td>0.046451</td>\n",
              "      <td>0.898975</td>\n",
              "      <td>4.286979</td>\n",
              "      <td>5.316189</td>\n",
              "      <td>0.342009</td>\n",
              "      <td>0.113321</td>\n",
              "      <td>4.569477</td>\n",
              "      <td>4.921608</td>\n",
              "      <td>4.235368</td>\n",
              "      <td>4.784192</td>\n",
              "      <td>0.584210</td>\n",
              "      <td>3.110121</td>\n",
              "      <td>0.570777</td>\n",
              "      <td>0.715748</td>\n",
              "      <td>0.000773</td>\n",
              "    </tr>\n",
              "    <tr>\n",
              "      <th>1087</th>\n",
              "      <td>2019-08-26</td>\n",
              "      <td>12.121666</td>\n",
              "      <td>13.527526</td>\n",
              "      <td>2.290377</td>\n",
              "      <td>0.170239</td>\n",
              "      <td>1.861394</td>\n",
              "      <td>17.965106</td>\n",
              "      <td>18.397069</td>\n",
              "      <td>19.989509</td>\n",
              "      <td>2.514132</td>\n",
              "      <td>0.773909</td>\n",
              "      <td>22.001219</td>\n",
              "      <td>5.104726</td>\n",
              "      <td>1.998962</td>\n",
              "      <td>11.463006</td>\n",
              "      <td>0.271791</td>\n",
              "      <td>12.931032</td>\n",
              "      <td>1.172951</td>\n",
              "      <td>4.891073</td>\n",
              "      <td>0.325244</td>\n",
              "      <td>4.340927</td>\n",
              "      <td>0.024979</td>\n",
              "      <td>0.005243</td>\n",
              "      <td>2.680877</td>\n",
              "      <td>1.084572</td>\n",
              "      <td>0.060706</td>\n",
              "      <td>0.001261</td>\n",
              "      <td>0.249421</td>\n",
              "      <td>0.144352</td>\n",
              "      <td>0.014786</td>\n",
              "      <td>59.116303</td>\n",
              "      <td>0.046447</td>\n",
              "      <td>0.900249</td>\n",
              "      <td>4.278311</td>\n",
              "      <td>5.316255</td>\n",
              "      <td>0.342581</td>\n",
              "      <td>0.113508</td>\n",
              "      <td>4.574171</td>\n",
              "      <td>4.927537</td>\n",
              "      <td>4.228524</td>\n",
              "      <td>4.790235</td>\n",
              "      <td>0.586481</td>\n",
              "      <td>3.093778</td>\n",
              "      <td>0.571831</td>\n",
              "      <td>0.716673</td>\n",
              "      <td>0.000774</td>\n",
              "    </tr>\n",
              "  </tbody>\n",
              "</table>\n",
              "</div>"
            ],
            "text/plain": [
              "           дата        aud        cad  ...       twd       uah       vnd\n",
              "1083 2019-08-22  12.139092  13.490846  ...  0.572077  0.715565  0.000773\n",
              "1084 2019-08-23  12.122353  13.489891  ...  0.571805  0.715831  0.000773\n",
              "1085 2019-08-24  12.133145  13.518193  ...  0.572014  0.716092  0.000774\n",
              "1086 2019-08-25  12.091963  13.502439  ...  0.570777  0.715748  0.000773\n",
              "1087 2019-08-26  12.121666  13.527526  ...  0.571831  0.716673  0.000774\n",
              "\n",
              "[5 rows x 46 columns]"
            ]
          },
          "metadata": {
            "tags": []
          },
          "execution_count": 5
        }
      ]
    },
    {
      "cell_type": "code",
      "metadata": {
        "id": "Mq7uziUml42y",
        "colab_type": "code",
        "colab": {}
      },
      "source": [
        "dates = abs_data.pop('дата')"
      ],
      "execution_count": 0,
      "outputs": []
    },
    {
      "cell_type": "code",
      "metadata": {
        "id": "ctpsoJWMmGfA",
        "colab_type": "code",
        "outputId": "f9d8e573-ce3d-43a2-eb7f-be8a44506fab",
        "colab": {
          "base_uri": "https://localhost:8080/",
          "height": 34
        }
      },
      "source": [
        "dates.shape"
      ],
      "execution_count": 7,
      "outputs": [
        {
          "output_type": "execute_result",
          "data": {
            "text/plain": [
              "(1088,)"
            ]
          },
          "metadata": {
            "tags": []
          },
          "execution_count": 7
        }
      ]
    },
    {
      "cell_type": "code",
      "metadata": {
        "id": "qeSgPl6pmMCx",
        "colab_type": "code",
        "outputId": "220169c4-721f-4361-d8b9-39dab71737b1",
        "colab": {
          "base_uri": "https://localhost:8080/",
          "height": 34
        }
      },
      "source": [
        "abs_data.shape"
      ],
      "execution_count": 8,
      "outputs": [
        {
          "output_type": "execute_result",
          "data": {
            "text/plain": [
              "(1088, 45)"
            ]
          },
          "metadata": {
            "tags": []
          },
          "execution_count": 8
        }
      ]
    },
    {
      "cell_type": "code",
      "metadata": {
        "id": "G433txCM1xoi",
        "colab_type": "code",
        "outputId": "a9cb506a-9d96-4cc7-c1ca-ee21d134164b",
        "colab": {
          "base_uri": "https://localhost:8080/",
          "height": 799
        }
      },
      "source": [
        "abs_data.sum() # проверяем корректность загрузки для всех чисел"
      ],
      "execution_count": 9,
      "outputs": [
        {
          "output_type": "execute_result",
          "data": {
            "text/plain": [
              "aud    13588.212509\n",
              "cad    13977.734930\n",
              "hkd     2338.849081\n",
              "jpy      165.519828\n",
              "sek     2075.010135\n",
              "usd    18275.975220\n",
              "chf    18575.209244\n",
              "eur    20854.649756\n",
              "cny     2716.296573\n",
              "czk      802.171523\n",
              "gbp    23754.661247\n",
              "ils     5051.379678\n",
              "nok     2197.886475\n",
              "nzd    12704.118924\n",
              "rub      298.623456\n",
              "sgd    13362.821931\n",
              "zar     1349.477570\n",
              "aed     4975.706656\n",
              "ars      822.230491\n",
              "brl     5248.253255\n",
              "clp       27.895381\n",
              "cop        6.065006\n",
              "dkk     2799.370780\n",
              "egp     1091.623387\n",
              "huf       66.156640\n",
              "idr        1.322680\n",
              "inr      270.859701\n",
              "isk      164.718920\n",
              "krw       16.205571\n",
              "kwd    60296.750055\n",
              "kzt       53.013714\n",
              "mxn      954.728226\n",
              "myr     4387.900289\n",
              "pen     5542.309478\n",
              "php      356.133478\n",
              "pkr      154.750398\n",
              "pln     4876.930846\n",
              "qar     5007.852274\n",
              "ron     4506.580561\n",
              "sar     4872.919886\n",
              "thb      555.359082\n",
              "try     4304.033373\n",
              "twd      597.215104\n",
              "uah      684.185062\n",
              "vnd        0.797677\n",
              "dtype: float64"
            ]
          },
          "metadata": {
            "tags": []
          },
          "execution_count": 9
        }
      ]
    },
    {
      "cell_type": "markdown",
      "metadata": {
        "id": "NIb5nlQQ2W-v",
        "colab_type": "text"
      },
      "source": [
        "### к относительным изменениям"
      ]
    },
    {
      "cell_type": "code",
      "metadata": {
        "id": "g8xEp6L_2b4l",
        "colab_type": "code",
        "colab": {}
      },
      "source": [
        "abs_data_np = abs_data.to_numpy()"
      ],
      "execution_count": 0,
      "outputs": []
    },
    {
      "cell_type": "code",
      "metadata": {
        "id": "JlIqFRcm4pnN",
        "colab_type": "code",
        "colab": {}
      },
      "source": [
        "d_abs_data_np = (abs_data_np[1:,:]-abs_data_np[0:-1,:])/abs_data_np[0:-1,:]\n",
        "d_dates = dates[1:]\n"
      ],
      "execution_count": 0,
      "outputs": []
    },
    {
      "cell_type": "code",
      "metadata": {
        "id": "E7w-g6P7ETl3",
        "colab_type": "code",
        "colab": {
          "base_uri": "https://localhost:8080/",
          "height": 34
        },
        "outputId": "22a95083-91d4-4afb-fa4f-054a7a49d43a"
      },
      "source": [
        "d_abs_data_np.shape"
      ],
      "execution_count": 13,
      "outputs": [
        {
          "output_type": "execute_result",
          "data": {
            "text/plain": [
              "(1087, 45)"
            ]
          },
          "metadata": {
            "tags": []
          },
          "execution_count": 13
        }
      ]
    },
    {
      "cell_type": "code",
      "metadata": {
        "id": "YAbQmPAfEY1j",
        "colab_type": "code",
        "colab": {
          "base_uri": "https://localhost:8080/",
          "height": 34
        },
        "outputId": "84ce5261-d23e-4575-b2ec-25727164be47"
      },
      "source": [
        "d_dates.shape"
      ],
      "execution_count": 14,
      "outputs": [
        {
          "output_type": "execute_result",
          "data": {
            "text/plain": [
              "(1087,)"
            ]
          },
          "metadata": {
            "tags": []
          },
          "execution_count": 14
        }
      ]
    },
    {
      "cell_type": "markdown",
      "metadata": {
        "id": "7UdApJ6ZI8dw",
        "colab_type": "text"
      },
      "source": [
        "пример"
      ]
    },
    {
      "cell_type": "code",
      "metadata": {
        "id": "p4jk-iAiE4w_",
        "colab_type": "code",
        "colab": {
          "base_uri": "https://localhost:8080/",
          "height": 513
        },
        "outputId": "c65e9380-c23e-4c15-9983-1ec6251c4a9f"
      },
      "source": [
        "samp_index = np.random.randint(d_abs_data_np.shape[1])\n",
        "plot_len = 200\n",
        "\n",
        "plt.figure(figsize=[8,8])\n",
        "plt.plot(d_dates[-plot_len:],d_abs_data_np[-plot_len:,samp_index])\n",
        "plt.grid()\n",
        "plt.ylabel('dX/X')\n",
        "plt.xlabel('даты')\n",
        "plt.title('изменение курса ' + abs_data.columns[samp_index+1].upper())\n",
        "plt.show()"
      ],
      "execution_count": 33,
      "outputs": [
        {
          "output_type": "display_data",
          "data": {
            "image/png": "[encoded data removed]",
            "text/plain": [
              "<Figure size 576x576 with 1 Axes>"
            ]
          },
          "metadata": {
            "tags": []
          }
        }
      ]
    },
    {
      "cell_type": "markdown",
      "metadata": {
        "id": "NLuLPbYNj5sC",
        "colab_type": "text"
      },
      "source": [
        "![alt text](https://github.com/prog815/abscur_prediction/raw/master/003.jpg)"
      ]
    },
    {
      "cell_type": "markdown",
      "metadata": {
        "id": "n4v-Y16WkCCH",
        "colab_type": "text"
      },
      "source": [
        "![alt text](https://github.com/prog815/abscur_prediction/raw/master/004.jpg)"
      ]
    },
    {
      "cell_type": "markdown",
      "metadata": {
        "id": "aCn9RVx5kG36",
        "colab_type": "text"
      },
      "source": [
        "![alt text](https://github.com/prog815/abscur_prediction/raw/master/005.jpg)"
      ]
    },
    {
      "cell_type": "code",
      "metadata": {
        "id": "4TywQHvZeMPg",
        "colab_type": "code",
        "colab": {}
      },
      "source": [
        ""
      ],
      "execution_count": 0,
      "outputs": []
    }
  ]
}