{
  "nbformat": 4,
  "nbformat_minor": 0,
  "metadata": {
    "colab": {
      "name": "simple_regression_predict.ipynb",
      "version": "0.3.2",
      "provenance": [],
      "include_colab_link": true
    },
    "kernelspec": {
      "name": "python3",
      "display_name": "Python 3"
    }
  },
  "cells": [
    {
      "cell_type": "markdown",
      "metadata": {
        "id": "view-in-github",
        "colab_type": "text"
      },
      "source": [
        "<a href=\"https://colab.research.google.com/github/prog815/abscur_prediction/blob/master/simple_regression_predict.ipynb\" target=\"_parent\"><img src=\"https://colab.research.google.com/assets/colab-badge.svg\" alt=\"Open In Colab\"/></a>"
      ]
    },
    {
      "cell_type": "markdown",
      "metadata": {
        "id": "dpXdoIMvgPF_",
        "colab_type": "text"
      },
      "source": [
        "![alt text](https://github.com/prog815/abscur_prediction/raw/master/001.jpg)"
      ]
    },
    {
      "cell_type": "markdown",
      "metadata": {
        "id": "Qp619HRWkcaE",
        "colab_type": "text"
      },
      "source": [
        "# библиотеки"
      ]
    },
    {
      "cell_type": "code",
      "metadata": {
        "id": "pWF-9soskfNC",
        "colab_type": "code",
        "colab": {}
      },
      "source": [
        "import pandas as pd"
      ],
      "execution_count": 0,
      "outputs": []
    },
    {
      "cell_type": "markdown",
      "metadata": {
        "id": "wx_iDzjWjt5v",
        "colab_type": "text"
      },
      "source": [
        "![alt text](https://github.com/prog815/abscur_prediction/raw/master/002.jpg)"
      ]
    },
    {
      "cell_type": "markdown",
      "metadata": {
        "id": "zFeUmFMgkPDv",
        "colab_type": "text"
      },
      "source": [
        "# подгружаем данные из таблицы"
      ]
    },
    {
      "cell_type": "code",
      "metadata": {
        "id": "5END5n-CkaJq",
        "colab_type": "code",
        "colab": {}
      },
      "source": [
        ""
      ],
      "execution_count": 0,
      "outputs": []
    },
    {
      "cell_type": "markdown",
      "metadata": {
        "id": "NLuLPbYNj5sC",
        "colab_type": "text"
      },
      "source": [
        "![alt text](https://github.com/prog815/abscur_prediction/raw/master/003.jpg)"
      ]
    },
    {
      "cell_type": "markdown",
      "metadata": {
        "id": "n4v-Y16WkCCH",
        "colab_type": "text"
      },
      "source": [
        "![alt text](https://github.com/prog815/abscur_prediction/raw/master/004.jpg)"
      ]
    },
    {
      "cell_type": "markdown",
      "metadata": {
        "id": "aCn9RVx5kG36",
        "colab_type": "text"
      },
      "source": [
        "![alt text](https://github.com/prog815/abscur_prediction/raw/master/005.jpg)"
      ]
    },
    {
      "cell_type": "code",
      "metadata": {
        "id": "4TywQHvZeMPg",
        "colab_type": "code",
        "colab": {}
      },
      "source": [
        ""
      ],
      "execution_count": 0,
      "outputs": []
    }
  ]
}