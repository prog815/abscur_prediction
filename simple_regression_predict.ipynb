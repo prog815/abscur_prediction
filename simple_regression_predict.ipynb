{
  "nbformat": 4,
  "nbformat_minor": 0,
  "metadata": {
    "colab": {
      "name": "simple_regression_predict.ipynb",
      "version": "0.3.2",
      "provenance": [],
      "include_colab_link": true
    },
    "kernelspec": {
      "name": "python3",
      "display_name": "Python 3"
    }
  },
  "cells": [
    {
      "cell_type": "markdown",
      "metadata": {
        "id": "view-in-github",
        "colab_type": "text"
      },
      "source": [
        "<a href=\"https://colab.research.google.com/github/prog815/abscur_prediction/blob/master/simple_regression_predict.ipynb\" target=\"_parent\"><img src=\"https://colab.research.google.com/assets/colab-badge.svg\" alt=\"Open In Colab\"/></a>"
      ]
    },
    {
      "cell_type": "markdown",
      "metadata": {
        "id": "dpXdoIMvgPF_",
        "colab_type": "text"
      },
      "source": [
        "![alt text](https://github.com/prog815/abscur_prediction/raw/master/001.jpg)"
      ]
    },
    {
      "cell_type": "markdown",
      "metadata": {
        "id": "Qp619HRWkcaE",
        "colab_type": "text"
      },
      "source": [
        "# библиотеки"
      ]
    },
    {
      "cell_type": "code",
      "metadata": {
        "id": "pWF-9soskfNC",
        "colab_type": "code",
        "colab": {}
      },
      "source": [
        "import pandas as pd\n",
        "import numpy as np"
      ],
      "execution_count": 0,
      "outputs": []
    },
    {
      "cell_type": "markdown",
      "metadata": {
        "id": "zFeUmFMgkPDv",
        "colab_type": "text"
      },
      "source": [
        "# подгружаем данные из таблицы"
      ]
    },
    {
      "cell_type": "markdown",
      "metadata": {
        "id": "wx_iDzjWjt5v",
        "colab_type": "text"
      },
      "source": [
        "![alt text](https://github.com/prog815/abscur_prediction/raw/master/002.jpg)"
      ]
    },
    {
      "cell_type": "markdown",
      "metadata": {
        "id": "LG11rckkk_ct",
        "colab_type": "text"
      },
      "source": [
        "таблица с данными:\n",
        "\n",
        "https://docs.google.com/spreadsheets/d/1_-cdNCIC6NgyRDj0zLJBaohXo-K8qCfxfDLbYq2JLhs/edit#gid=422799220"
      ]
    },
    {
      "cell_type": "code",
      "metadata": {
        "id": "5END5n-CkaJq",
        "colab_type": "code",
        "colab": {}
      },
      "source": [
        "abs_data = pd.read_csv(\"https://docs.google.com/spreadsheets/d/1_-cdNCIC6NgyRDj0zLJBaohXo-K8qCfxfDLbYq2JLhs/export?format=csv&id=1_-cdNCIC6NgyRDj0zLJBaohXo-K8qCfxfDLbYq2JLhs&gid=422799220\",parse_dates=['дата'],decimal=',')"
      ],
      "execution_count": 0,
      "outputs": []
    },
    {
      "cell_type": "code",
      "metadata": {
        "id": "iuBEPfH9oNE8",
        "colab_type": "code",
        "colab": {
          "base_uri": "https://localhost:8080/",
          "height": 816
        },
        "outputId": "9842f214-76d4-45a6-e9fa-bc29795cd2f3"
      },
      "source": [
        "abs_data.dtypes"
      ],
      "execution_count": 41,
      "outputs": [
        {
          "output_type": "execute_result",
          "data": {
            "text/plain": [
              "дата    datetime64[ns]\n",
              "aud            float64\n",
              "cad            float64\n",
              "hkd            float64\n",
              "jpy            float64\n",
              "sek            float64\n",
              "usd            float64\n",
              "chf            float64\n",
              "eur            float64\n",
              "cny            float64\n",
              "czk            float64\n",
              "gbp            float64\n",
              "ils            float64\n",
              "nok            float64\n",
              "nzd            float64\n",
              "rub            float64\n",
              "sgd            float64\n",
              "zar            float64\n",
              "aed            float64\n",
              "ars            float64\n",
              "brl            float64\n",
              "clp            float64\n",
              "cop            float64\n",
              "dkk            float64\n",
              "egp            float64\n",
              "huf            float64\n",
              "idr            float64\n",
              "inr            float64\n",
              "isk            float64\n",
              "krw            float64\n",
              "kwd            float64\n",
              "kzt            float64\n",
              "mxn            float64\n",
              "myr            float64\n",
              "pen            float64\n",
              "php            float64\n",
              "pkr            float64\n",
              "pln            float64\n",
              "qar            float64\n",
              "ron            float64\n",
              "sar            float64\n",
              "thb            float64\n",
              "try            float64\n",
              "twd            float64\n",
              "uah            float64\n",
              "vnd            float64\n",
              "dtype: object"
            ]
          },
          "metadata": {
            "tags": []
          },
          "execution_count": 41
        }
      ]
    },
    {
      "cell_type": "code",
      "metadata": {
        "id": "9Vdd1Cy6lWvY",
        "colab_type": "code",
        "colab": {
          "base_uri": "https://localhost:8080/",
          "height": 34
        },
        "outputId": "9716d1c4-ab7f-4e9b-94ce-02e16fc44d3d"
      },
      "source": [
        "abs_data.shape"
      ],
      "execution_count": 42,
      "outputs": [
        {
          "output_type": "execute_result",
          "data": {
            "text/plain": [
              "(1083, 46)"
            ]
          },
          "metadata": {
            "tags": []
          },
          "execution_count": 42
        }
      ]
    },
    {
      "cell_type": "markdown",
      "metadata": {
        "id": "3Q7Oc3BulrAI",
        "colab_type": "text"
      },
      "source": [
        "абсолютные курсы различный валют"
      ]
    },
    {
      "cell_type": "code",
      "metadata": {
        "id": "XdxDAD4MlcIr",
        "colab_type": "code",
        "colab": {
          "base_uri": "https://localhost:8080/",
          "height": 309
        },
        "outputId": "2a1d7dbf-b1ab-4eb8-ef30-6b6331d77b2a"
      },
      "source": [
        "abs_data.tail()"
      ],
      "execution_count": 43,
      "outputs": [
        {
          "output_type": "execute_result",
          "data": {
            "text/html": [
              "<div>\n",
              "<style scoped>\n",
              "    .dataframe tbody tr th:only-of-type {\n",
              "        vertical-align: middle;\n",
              "    }\n",
              "\n",
              "    .dataframe tbody tr th {\n",
              "        vertical-align: top;\n",
              "    }\n",
              "\n",
              "    .dataframe thead th {\n",
              "        text-align: right;\n",
              "    }\n",
              "</style>\n",
              "<table border=\"1\" class=\"dataframe\">\n",
              "  <thead>\n",
              "    <tr style=\"text-align: right;\">\n",
              "      <th></th>\n",
              "      <th>дата</th>\n",
              "      <th>aud</th>\n",
              "      <th>cad</th>\n",
              "      <th>hkd</th>\n",
              "      <th>jpy</th>\n",
              "      <th>sek</th>\n",
              "      <th>usd</th>\n",
              "      <th>chf</th>\n",
              "      <th>eur</th>\n",
              "      <th>cny</th>\n",
              "      <th>czk</th>\n",
              "      <th>gbp</th>\n",
              "      <th>ils</th>\n",
              "      <th>nok</th>\n",
              "      <th>nzd</th>\n",
              "      <th>rub</th>\n",
              "      <th>sgd</th>\n",
              "      <th>zar</th>\n",
              "      <th>aed</th>\n",
              "      <th>ars</th>\n",
              "      <th>brl</th>\n",
              "      <th>clp</th>\n",
              "      <th>cop</th>\n",
              "      <th>dkk</th>\n",
              "      <th>egp</th>\n",
              "      <th>huf</th>\n",
              "      <th>idr</th>\n",
              "      <th>inr</th>\n",
              "      <th>isk</th>\n",
              "      <th>krw</th>\n",
              "      <th>kwd</th>\n",
              "      <th>kzt</th>\n",
              "      <th>mxn</th>\n",
              "      <th>myr</th>\n",
              "      <th>pen</th>\n",
              "      <th>php</th>\n",
              "      <th>pkr</th>\n",
              "      <th>pln</th>\n",
              "      <th>qar</th>\n",
              "      <th>ron</th>\n",
              "      <th>sar</th>\n",
              "      <th>thb</th>\n",
              "      <th>try</th>\n",
              "      <th>twd</th>\n",
              "      <th>uah</th>\n",
              "      <th>vnd</th>\n",
              "    </tr>\n",
              "  </thead>\n",
              "  <tbody>\n",
              "    <tr>\n",
              "      <th>1078</th>\n",
              "      <td>2019-08-17</td>\n",
              "      <td>12.156341</td>\n",
              "      <td>13.508860</td>\n",
              "      <td>2.285994</td>\n",
              "      <td>0.168724</td>\n",
              "      <td>1.856152</td>\n",
              "      <td>17.927618</td>\n",
              "      <td>18.318209</td>\n",
              "      <td>19.878866</td>\n",
              "      <td>2.546335</td>\n",
              "      <td>0.771404</td>\n",
              "      <td>21.736494</td>\n",
              "      <td>5.061084</td>\n",
              "      <td>1.988599</td>\n",
              "      <td>11.537329</td>\n",
              "      <td>0.270664</td>\n",
              "      <td>12.947477</td>\n",
              "      <td>1.174758</td>\n",
              "      <td>4.880495</td>\n",
              "      <td>0.319526</td>\n",
              "      <td>4.475358</td>\n",
              "      <td>0.025265</td>\n",
              "      <td>0.005197</td>\n",
              "      <td>2.666647</td>\n",
              "      <td>1.080622</td>\n",
              "      <td>0.061185</td>\n",
              "      <td>0.001258</td>\n",
              "      <td>0.251603</td>\n",
              "      <td>0.144693</td>\n",
              "      <td>0.014809</td>\n",
              "      <td>58.931666</td>\n",
              "      <td>0.046306</td>\n",
              "      <td>0.914082</td>\n",
              "      <td>4.283767</td>\n",
              "      <td>5.295790</td>\n",
              "      <td>0.342003</td>\n",
              "      <td>0.113057</td>\n",
              "      <td>4.570456</td>\n",
              "      <td>4.922939</td>\n",
              "      <td>4.207233</td>\n",
              "      <td>4.779347</td>\n",
              "      <td>0.580336</td>\n",
              "      <td>3.222207</td>\n",
              "      <td>0.572427</td>\n",
              "      <td>0.710983</td>\n",
              "      <td>0.000772</td>\n",
              "    </tr>\n",
              "    <tr>\n",
              "      <th>1079</th>\n",
              "      <td>2019-08-18</td>\n",
              "      <td>12.162561</td>\n",
              "      <td>13.506721</td>\n",
              "      <td>2.284641</td>\n",
              "      <td>0.168493</td>\n",
              "      <td>1.856081</td>\n",
              "      <td>17.922214</td>\n",
              "      <td>18.357202</td>\n",
              "      <td>19.889296</td>\n",
              "      <td>2.545567</td>\n",
              "      <td>0.772125</td>\n",
              "      <td>21.782762</td>\n",
              "      <td>5.058101</td>\n",
              "      <td>1.992524</td>\n",
              "      <td>11.526861</td>\n",
              "      <td>0.271240</td>\n",
              "      <td>12.941331</td>\n",
              "      <td>1.171338</td>\n",
              "      <td>4.879329</td>\n",
              "      <td>0.319429</td>\n",
              "      <td>4.476423</td>\n",
              "      <td>0.025257</td>\n",
              "      <td>0.005216</td>\n",
              "      <td>2.666363</td>\n",
              "      <td>1.079515</td>\n",
              "      <td>0.061232</td>\n",
              "      <td>0.001258</td>\n",
              "      <td>0.251527</td>\n",
              "      <td>0.144603</td>\n",
              "      <td>0.014830</td>\n",
              "      <td>58.947034</td>\n",
              "      <td>0.046292</td>\n",
              "      <td>0.912272</td>\n",
              "      <td>4.282476</td>\n",
              "      <td>5.294194</td>\n",
              "      <td>0.342613</td>\n",
              "      <td>0.113023</td>\n",
              "      <td>4.580605</td>\n",
              "      <td>4.914882</td>\n",
              "      <td>4.206251</td>\n",
              "      <td>4.778072</td>\n",
              "      <td>0.580161</td>\n",
              "      <td>3.211234</td>\n",
              "      <td>0.572298</td>\n",
              "      <td>0.710768</td>\n",
              "      <td>0.000772</td>\n",
              "    </tr>\n",
              "    <tr>\n",
              "      <th>1080</th>\n",
              "      <td>2019-08-19</td>\n",
              "      <td>12.155638</td>\n",
              "      <td>13.498490</td>\n",
              "      <td>2.287327</td>\n",
              "      <td>0.168517</td>\n",
              "      <td>1.855687</td>\n",
              "      <td>17.943014</td>\n",
              "      <td>18.318797</td>\n",
              "      <td>19.900497</td>\n",
              "      <td>2.546720</td>\n",
              "      <td>0.772173</td>\n",
              "      <td>21.782891</td>\n",
              "      <td>5.072404</td>\n",
              "      <td>1.996588</td>\n",
              "      <td>11.520322</td>\n",
              "      <td>0.269084</td>\n",
              "      <td>12.949524</td>\n",
              "      <td>1.167639</td>\n",
              "      <td>4.884872</td>\n",
              "      <td>0.323657</td>\n",
              "      <td>4.444705</td>\n",
              "      <td>0.025240</td>\n",
              "      <td>0.005221</td>\n",
              "      <td>2.668648</td>\n",
              "      <td>1.081198</td>\n",
              "      <td>0.061113</td>\n",
              "      <td>0.001262</td>\n",
              "      <td>0.251621</td>\n",
              "      <td>0.144415</td>\n",
              "      <td>0.014819</td>\n",
              "      <td>58.995072</td>\n",
              "      <td>0.046367</td>\n",
              "      <td>0.908180</td>\n",
              "      <td>4.298024</td>\n",
              "      <td>5.303409</td>\n",
              "      <td>0.342637</td>\n",
              "      <td>0.112351</td>\n",
              "      <td>4.568988</td>\n",
              "      <td>4.911293</td>\n",
              "      <td>4.207577</td>\n",
              "      <td>4.783732</td>\n",
              "      <td>0.581127</td>\n",
              "      <td>3.193702</td>\n",
              "      <td>0.572443</td>\n",
              "      <td>0.713223</td>\n",
              "      <td>0.000773</td>\n",
              "    </tr>\n",
              "    <tr>\n",
              "      <th>1081</th>\n",
              "      <td>2019-08-20</td>\n",
              "      <td>12.161286</td>\n",
              "      <td>13.478276</td>\n",
              "      <td>2.289095</td>\n",
              "      <td>0.168697</td>\n",
              "      <td>1.851678</td>\n",
              "      <td>17.955096</td>\n",
              "      <td>18.328029</td>\n",
              "      <td>19.904239</td>\n",
              "      <td>2.543677</td>\n",
              "      <td>0.771653</td>\n",
              "      <td>21.784336</td>\n",
              "      <td>5.091162</td>\n",
              "      <td>1.997608</td>\n",
              "      <td>11.516229</td>\n",
              "      <td>0.269082</td>\n",
              "      <td>12.955906</td>\n",
              "      <td>1.165613</td>\n",
              "      <td>4.888175</td>\n",
              "      <td>0.326835</td>\n",
              "      <td>4.427965</td>\n",
              "      <td>0.025242</td>\n",
              "      <td>0.005241</td>\n",
              "      <td>2.669893</td>\n",
              "      <td>1.081848</td>\n",
              "      <td>0.060872</td>\n",
              "      <td>0.001259</td>\n",
              "      <td>0.250722</td>\n",
              "      <td>0.144103</td>\n",
              "      <td>0.014846</td>\n",
              "      <td>59.049165</td>\n",
              "      <td>0.046396</td>\n",
              "      <td>0.906384</td>\n",
              "      <td>4.293308</td>\n",
              "      <td>5.308706</td>\n",
              "      <td>0.343045</td>\n",
              "      <td>0.112530</td>\n",
              "      <td>4.562747</td>\n",
              "      <td>4.925115</td>\n",
              "      <td>4.210312</td>\n",
              "      <td>4.786966</td>\n",
              "      <td>0.582587</td>\n",
              "      <td>3.152461</td>\n",
              "      <td>0.572831</td>\n",
              "      <td>0.714156</td>\n",
              "      <td>0.000774</td>\n",
              "    </tr>\n",
              "    <tr>\n",
              "      <th>1082</th>\n",
              "      <td>2019-08-21</td>\n",
              "      <td>12.158133</td>\n",
              "      <td>13.481009</td>\n",
              "      <td>2.285742</td>\n",
              "      <td>0.168434</td>\n",
              "      <td>1.856900</td>\n",
              "      <td>17.927191</td>\n",
              "      <td>18.282806</td>\n",
              "      <td>19.884843</td>\n",
              "      <td>2.539090</td>\n",
              "      <td>0.771163</td>\n",
              "      <td>21.775050</td>\n",
              "      <td>5.084561</td>\n",
              "      <td>1.999557</td>\n",
              "      <td>11.490802</td>\n",
              "      <td>0.271057</td>\n",
              "      <td>12.950723</td>\n",
              "      <td>1.174175</td>\n",
              "      <td>4.880525</td>\n",
              "      <td>0.327806</td>\n",
              "      <td>4.442602</td>\n",
              "      <td>0.025255</td>\n",
              "      <td>0.005283</td>\n",
              "      <td>2.667401</td>\n",
              "      <td>1.080179</td>\n",
              "      <td>0.060749</td>\n",
              "      <td>0.001258</td>\n",
              "      <td>0.250741</td>\n",
              "      <td>0.143915</td>\n",
              "      <td>0.014888</td>\n",
              "      <td>58.949639</td>\n",
              "      <td>0.046403</td>\n",
              "      <td>0.909355</td>\n",
              "      <td>4.291151</td>\n",
              "      <td>5.307816</td>\n",
              "      <td>0.343245</td>\n",
              "      <td>0.112692</td>\n",
              "      <td>4.568496</td>\n",
              "      <td>4.917191</td>\n",
              "      <td>4.208545</td>\n",
              "      <td>4.779985</td>\n",
              "      <td>0.582218</td>\n",
              "      <td>3.132815</td>\n",
              "      <td>0.571993</td>\n",
              "      <td>0.711436</td>\n",
              "      <td>0.000773</td>\n",
              "    </tr>\n",
              "  </tbody>\n",
              "</table>\n",
              "</div>"
            ],
            "text/plain": [
              "           дата        aud        cad  ...       twd       uah       vnd\n",
              "1078 2019-08-17  12.156341  13.508860  ...  0.572427  0.710983  0.000772\n",
              "1079 2019-08-18  12.162561  13.506721  ...  0.572298  0.710768  0.000772\n",
              "1080 2019-08-19  12.155638  13.498490  ...  0.572443  0.713223  0.000773\n",
              "1081 2019-08-20  12.161286  13.478276  ...  0.572831  0.714156  0.000774\n",
              "1082 2019-08-21  12.158133  13.481009  ...  0.571993  0.711436  0.000773\n",
              "\n",
              "[5 rows x 46 columns]"
            ]
          },
          "metadata": {
            "tags": []
          },
          "execution_count": 43
        }
      ]
    },
    {
      "cell_type": "code",
      "metadata": {
        "id": "Mq7uziUml42y",
        "colab_type": "code",
        "colab": {}
      },
      "source": [
        "dates = abs_data.pop('дата')"
      ],
      "execution_count": 0,
      "outputs": []
    },
    {
      "cell_type": "code",
      "metadata": {
        "id": "ctpsoJWMmGfA",
        "colab_type": "code",
        "colab": {
          "base_uri": "https://localhost:8080/",
          "height": 34
        },
        "outputId": "f0b24379-d705-4bb9-a509-1a64532d3e73"
      },
      "source": [
        "dates.shape"
      ],
      "execution_count": 45,
      "outputs": [
        {
          "output_type": "execute_result",
          "data": {
            "text/plain": [
              "(1083,)"
            ]
          },
          "metadata": {
            "tags": []
          },
          "execution_count": 45
        }
      ]
    },
    {
      "cell_type": "code",
      "metadata": {
        "id": "qeSgPl6pmMCx",
        "colab_type": "code",
        "colab": {
          "base_uri": "https://localhost:8080/",
          "height": 34
        },
        "outputId": "d2d913e2-8d9b-489c-9b41-417776ebf0d5"
      },
      "source": [
        "abs_data.shape"
      ],
      "execution_count": 46,
      "outputs": [
        {
          "output_type": "execute_result",
          "data": {
            "text/plain": [
              "(1083, 45)"
            ]
          },
          "metadata": {
            "tags": []
          },
          "execution_count": 46
        }
      ]
    },
    {
      "cell_type": "code",
      "metadata": {
        "id": "G433txCM1xoi",
        "colab_type": "code",
        "colab": {
          "base_uri": "https://localhost:8080/",
          "height": 799
        },
        "outputId": "16c7e0c2-12c7-47c6-ad69-23c8987d2a80"
      },
      "source": [
        "abs_data.sum() # проверяем корректность загрузки для всех чисел"
      ],
      "execution_count": 48,
      "outputs": [
        {
          "output_type": "execute_result",
          "data": {
            "text/plain": [
              "aud    13527.604289\n",
              "cad    13910.206035\n",
              "hkd     2327.405877\n",
              "jpy      164.671761\n",
              "sek     2065.706725\n",
              "usd    18186.236217\n",
              "chf    18483.600647\n",
              "eur    20754.939734\n",
              "cny     2703.653860\n",
              "czk      798.307020\n",
              "gbp    23644.801110\n",
              "ils     5025.859200\n",
              "nok     2187.883176\n",
              "nzd    12646.785347\n",
              "rub      297.260000\n",
              "sgd    13298.132155\n",
              "zar     1343.601291\n",
              "aed     4951.275511\n",
              "ars      820.603696\n",
              "brl     5226.390120\n",
              "clp       27.770352\n",
              "cop        6.038711\n",
              "dkk     2785.995070\n",
              "egp     1086.213251\n",
              "huf       65.853257\n",
              "idr        1.316376\n",
              "inr      269.610096\n",
              "isk      163.998189\n",
              "krw       16.131531\n",
              "kwd    60001.551492\n",
              "kzt       52.781394\n",
              "mxn      950.216140\n",
              "myr     4366.470524\n",
              "pen     5515.733790\n",
              "php      354.421070\n",
              "pkr      154.183819\n",
              "pln     4854.094652\n",
              "qar     4983.242975\n",
              "ron     4485.468526\n",
              "sar     4848.991488\n",
              "thb      552.436961\n",
              "try     4288.477866\n",
              "twd      594.356601\n",
              "uah      680.605152\n",
              "vnd        0.793809\n",
              "dtype: float64"
            ]
          },
          "metadata": {
            "tags": []
          },
          "execution_count": 48
        }
      ]
    },
    {
      "cell_type": "markdown",
      "metadata": {
        "id": "NIb5nlQQ2W-v",
        "colab_type": "text"
      },
      "source": [
        "### к относительным изменениям"
      ]
    },
    {
      "cell_type": "code",
      "metadata": {
        "id": "g8xEp6L_2b4l",
        "colab_type": "code",
        "colab": {}
      },
      "source": [
        "abs_data_np = abs_data.to_numpy()"
      ],
      "execution_count": 0,
      "outputs": []
    },
    {
      "cell_type": "code",
      "metadata": {
        "id": "JlIqFRcm4pnN",
        "colab_type": "code",
        "colab": {
          "base_uri": "https://localhost:8080/",
          "height": 34
        },
        "outputId": "cae3667e-84ac-445c-c079-3ddf7661e9c4"
      },
      "source": [
        "d_abs_data_np = (abs_data_np[1:,:]-abs_data_np[0:-1,:])/abs_data_np[0:-1,:]\n"
      ],
      "execution_count": 66,
      "outputs": [
        {
          "output_type": "execute_result",
          "data": {
            "text/plain": [
              "numpy.ndarray"
            ]
          },
          "metadata": {
            "tags": []
          },
          "execution_count": 66
        }
      ]
    },
    {
      "cell_type": "markdown",
      "metadata": {
        "id": "NLuLPbYNj5sC",
        "colab_type": "text"
      },
      "source": [
        "![alt text](https://github.com/prog815/abscur_prediction/raw/master/003.jpg)"
      ]
    },
    {
      "cell_type": "markdown",
      "metadata": {
        "id": "n4v-Y16WkCCH",
        "colab_type": "text"
      },
      "source": [
        "![alt text](https://github.com/prog815/abscur_prediction/raw/master/004.jpg)"
      ]
    },
    {
      "cell_type": "markdown",
      "metadata": {
        "id": "aCn9RVx5kG36",
        "colab_type": "text"
      },
      "source": [
        "![alt text](https://github.com/prog815/abscur_prediction/raw/master/005.jpg)"
      ]
    },
    {
      "cell_type": "code",
      "metadata": {
        "id": "4TywQHvZeMPg",
        "colab_type": "code",
        "colab": {}
      },
      "source": [
        ""
      ],
      "execution_count": 0,
      "outputs": []
    }
  ]
}