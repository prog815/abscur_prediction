{
  "nbformat": 4,
  "nbformat_minor": 0,
  "metadata": {
    "colab": {
      "name": "20-ABS-5.2 - ПрогнСледИзмГлубСетьЕдПред.ipynb",
      "provenance": [],
      "collapsed_sections": [],
      "authorship_tag": "ABX9TyN1Iho2+W7QW/SxE/2Lr0R8",
      "include_colab_link": true
    },
    "kernelspec": {
      "name": "python3",
      "display_name": "Python 3"
    },
    "accelerator": "GPU"
  },
  "cells": [
    {
      "cell_type": "markdown",
      "metadata": {
        "id": "view-in-github",
        "colab_type": "text"
      },
      "source": [
        "<a href=\"https://colab.research.google.com/github/prog815/abscur_prediction/blob/master/20_ABS_5_2_%D0%9F%D1%80%D0%BE%D0%B3%D0%BD%D0%A1%D0%BB%D0%B5%D0%B4%D0%98%D0%B7%D0%BC%D0%93%D0%BB%D1%83%D0%B1%D0%A1%D0%B5%D1%82%D1%8C%D0%95%D0%B4%D0%9F%D1%80%D0%B5%D0%B4.ipynb\" target=\"_parent\"><img src=\"https://colab.research.google.com/assets/colab-badge.svg\" alt=\"Open In Colab\"/></a>"
      ]
    },
    {
      "cell_type": "markdown",
      "metadata": {
        "id": "1mkX7IMcVHgR",
        "colab_type": "text"
      },
      "source": [
        "# **Прогноз следующего изменения (глубокая сеть). Один первичный обработчик на все входы.**"
      ]
    },
    {
      "cell_type": "markdown",
      "metadata": {
        "id": "aM--woXnu26D",
        "colab_type": "text"
      },
      "source": [
        "**Абсолютный курс**\n",
        "\n",
        "Енин А.В.\n",
        "\n",
        "г. Оренбург\n",
        "\n",
        "27.04.2020 г."
      ]
    },
    {
      "cell_type": "markdown",
      "metadata": {
        "id": "q_qWG0YvRMXa",
        "colab_type": "text"
      },
      "source": [
        "Сайт - http://www.abscur.ru\n",
        "\n",
        "Twitter - https://twitter.com/abscurs\n",
        "\n",
        "ВКонтакте -  https://vk.com/abscur\n",
        "\n",
        "Одноклассники -  https://ok.ru/group/53547043520717\n",
        "\n",
        "FB -  https://www.facebook.com/abscur \n",
        "\n",
        "Telegram - https://t.me/AbsCur\n",
        "\n",
        "GitHub - https://github.com/prog815/abscur_prediction\n",
        "\n",
        "WhatsUp - https://chat.whatsapp.com/KrNJXAKizPxDlDSjYfdpQs\n",
        "\n",
        "Viber - https://invite.viber.com/?g2=AQB63y7Cm%2BNJK0tNZW%2F9kI00M6Wr8HuZ7XeamzN4jZCve8Aq9%2FiD3DY56Eqcf7dc"
      ]
    },
    {
      "cell_type": "markdown",
      "metadata": {
        "id": "e6YeYGNnM3va",
        "colab_type": "text"
      },
      "source": [
        "## Альбом\n",
        "\n",
        "https://photos.app.goo.gl/kKptHb2QPbNz1utSA"
      ]
    },
    {
      "cell_type": "markdown",
      "metadata": {
        "id": "MR8YNhsLNxAd",
        "colab_type": "text"
      },
      "source": [
        "# Библиотеки"
      ]
    },
    {
      "cell_type": "code",
      "metadata": {
        "id": "hJf-lI45NvXv",
        "colab_type": "code",
        "colab": {}
      },
      "source": [
        "import numpy as np\n",
        "import pandas as pd\n",
        "import matplotlib.pyplot as plt\n",
        "from sklearn.model_selection import train_test_split"
      ],
      "execution_count": 0,
      "outputs": []
    },
    {
      "cell_type": "markdown",
      "metadata": {
        "id": "GauqzexkvZhl",
        "colab_type": "text"
      },
      "source": [
        "# Импорт данных"
      ]
    },
    {
      "cell_type": "markdown",
      "metadata": {
        "id": "QBPxlyfLvxZm",
        "colab_type": "text"
      },
      "source": [
        "Таблица с историей абсолютных курсов: https://docs.google.com/spreadsheets/d/1_-cdNCIC6NgyRDj0zLJBaohXo-K8qCfxfDLbYq2JLhs/edit#gid=422799220"
      ]
    },
    {
      "cell_type": "code",
      "metadata": {
        "id": "SF6XkvL0b2C3",
        "colab_type": "code",
        "outputId": "a61404bc-bbdb-4c01-f906-7f17e23692e1",
        "colab": {
          "base_uri": "https://localhost:8080/",
          "height": 315
        }
      },
      "source": [
        "! wget -O abscur.py https://github.com/prog815/abscur_prediction/raw/master/abscur.py \n",
        "import abscur"
      ],
      "execution_count": 0,
      "outputs": [
        {
          "output_type": "stream",
          "text": [
            "--2020-05-03 06:34:31--  https://github.com/prog815/abscur_prediction/raw/master/abscur.py\n",
            "Resolving github.com (github.com)... 140.82.118.3\n",
            "Connecting to github.com (github.com)|140.82.118.3|:443... connected.\n",
            "HTTP request sent, awaiting response... 302 Found\n",
            "Location: https://raw.githubusercontent.com/prog815/abscur_prediction/master/abscur.py [following]\n",
            "--2020-05-03 06:34:32--  https://raw.githubusercontent.com/prog815/abscur_prediction/master/abscur.py\n",
            "Resolving raw.githubusercontent.com (raw.githubusercontent.com)... 151.101.0.133, 151.101.64.133, 151.101.128.133, ...\n",
            "Connecting to raw.githubusercontent.com (raw.githubusercontent.com)|151.101.0.133|:443... connected.\n",
            "HTTP request sent, awaiting response... 200 OK\n",
            "Length: 1078 (1.1K) [text/plain]\n",
            "Saving to: ‘abscur.py’\n",
            "\n",
            "\rabscur.py             0%[                    ]       0  --.-KB/s               \rabscur.py           100%[===================>]   1.05K  --.-KB/s    in 0s      \n",
            "\n",
            "2020-05-03 06:34:32 (31.8 MB/s) - ‘abscur.py’ saved [1078/1078]\n",
            "\n"
          ],
          "name": "stdout"
        }
      ]
    },
    {
      "cell_type": "code",
      "metadata": {
        "id": "UHy9hWr4w1qq",
        "colab_type": "code",
        "colab": {}
      },
      "source": [
        "import sys\n",
        "if 'abscur' in sys.modules:\n",
        "    del sys.modules['abscur']\n",
        "import abscur"
      ],
      "execution_count": 0,
      "outputs": []
    },
    {
      "cell_type": "code",
      "metadata": {
        "id": "bSCx1bzqw41a",
        "colab_type": "code",
        "outputId": "fb64f1bc-323b-40dd-9bd6-7bada051ceed",
        "colab": {
          "base_uri": "https://localhost:8080/",
          "height": 35
        }
      },
      "source": [
        "data = abscur.get_data()\n",
        "d_data = data.pct_change()\n",
        "d_data.shape"
      ],
      "execution_count": 0,
      "outputs": [
        {
          "output_type": "execute_result",
          "data": {
            "text/plain": [
              "(1320, 45)"
            ]
          },
          "metadata": {
            "tags": []
          },
          "execution_count": 4
        }
      ]
    },
    {
      "cell_type": "markdown",
      "metadata": {
        "id": "kjTlJkuNMBiJ",
        "colab_type": "text"
      },
      "source": [
        "# Подготовка данных для модели"
      ]
    },
    {
      "cell_type": "markdown",
      "metadata": {
        "id": "Q1nW7JyyNMWu",
        "colab_type": "text"
      },
      "source": [
        "## Входы"
      ]
    },
    {
      "cell_type": "code",
      "metadata": {
        "id": "amAQbrc5PRZ7",
        "colab_type": "code",
        "colab": {}
      },
      "source": [
        "Z = 30 # глубина линии задержки\n",
        "(D,I) = d_data.shape\n",
        "cur_names = list(data.columns)\n",
        "\n",
        "inp = np.zeros((D,I,Z))\n",
        "\n",
        "for i in range(I):\n",
        "    for z in range(Z):\n",
        "        inp[:,i,z] = d_data[cur_names[i]].shift(z+1).values\n",
        "\n",
        "del D,I,Z"
      ],
      "execution_count": 0,
      "outputs": []
    },
    {
      "cell_type": "code",
      "metadata": {
        "id": "3oq8kpGmaYjP",
        "colab_type": "code",
        "outputId": "2c5e4872-1dc2-49a7-9d41-1d2be995196d",
        "colab": {
          "base_uri": "https://localhost:8080/",
          "height": 35
        }
      },
      "source": [
        "inp.shape"
      ],
      "execution_count": 0,
      "outputs": [
        {
          "output_type": "execute_result",
          "data": {
            "text/plain": [
              "(1320, 45, 30)"
            ]
          },
          "metadata": {
            "tags": []
          },
          "execution_count": 6
        }
      ]
    },
    {
      "cell_type": "markdown",
      "metadata": {
        "id": "Lp6F4UnzNO8A",
        "colab_type": "text"
      },
      "source": [
        "## Выход"
      ]
    },
    {
      "cell_type": "code",
      "metadata": {
        "id": "UdginOfbNF5T",
        "colab_type": "code",
        "outputId": "8eb85c74-098a-4055-c877-5fcf02b3e819",
        "colab": {
          "base_uri": "https://localhost:8080/",
          "height": 35
        }
      },
      "source": [
        "out_cur = np.random.choice(cur_names)\n",
        "print('прогнозная валюта - ',out_cur)\n",
        "out_name = 'out_' + out_cur\n",
        "out = np.array(d_data[out_cur]>0,dtype=int)"
      ],
      "execution_count": 0,
      "outputs": [
        {
          "output_type": "stream",
          "text": [
            "прогнозная валюта -  nzd\n"
          ],
          "name": "stdout"
        }
      ]
    },
    {
      "cell_type": "markdown",
      "metadata": {
        "id": "Yvl9tWVPTaNE",
        "colab_type": "text"
      },
      "source": [
        "## Чистим пустоты"
      ]
    },
    {
      "cell_type": "code",
      "metadata": {
        "id": "-r8KKU-8SDlI",
        "colab_type": "code",
        "colab": {}
      },
      "source": [
        "ind_nan = np.isnan(inp.sum((1,2)))\n",
        "inp = inp[~ind_nan]\n",
        "out = out[~ind_nan]\n",
        "del ind_nan"
      ],
      "execution_count": 0,
      "outputs": []
    },
    {
      "cell_type": "code",
      "metadata": {
        "id": "Xg-3UIFTUo7c",
        "colab_type": "code",
        "outputId": "374cd4db-ac77-4031-bef8-99e7059170d0",
        "colab": {
          "base_uri": "https://localhost:8080/",
          "height": 35
        }
      },
      "source": [
        "inp.shape,out.shape"
      ],
      "execution_count": 0,
      "outputs": [
        {
          "output_type": "execute_result",
          "data": {
            "text/plain": [
              "((1289, 45, 30), (1289,))"
            ]
          },
          "metadata": {
            "tags": []
          },
          "execution_count": 9
        }
      ]
    },
    {
      "cell_type": "markdown",
      "metadata": {
        "id": "k6z5wG0jVfQf",
        "colab_type": "text"
      },
      "source": [
        "## Разделяем выборки (индексами)"
      ]
    },
    {
      "cell_type": "code",
      "metadata": {
        "id": "yGa-QvdwVxkl",
        "colab_type": "code",
        "colab": {}
      },
      "source": [
        "all_len = inp.shape[0]\n",
        "train_len = int(all_len * 0.7)\n",
        "test_len = all_len - train_len\n",
        "ind_all = list(range(all_len))\n",
        "ind_train = ind_all[:train_len]\n",
        "ind_test = ind_all[train_len:]"
      ],
      "execution_count": 0,
      "outputs": []
    },
    {
      "cell_type": "markdown",
      "metadata": {
        "id": "dblkUl9QqNWX",
        "colab_type": "text"
      },
      "source": [
        "## Нормировка и кодирование"
      ]
    },
    {
      "cell_type": "code",
      "metadata": {
        "id": "5WpT_bUMqMHZ",
        "colab_type": "code",
        "outputId": "92083402-9a0a-4896-855b-5dbd25f506de",
        "colab": {
          "base_uri": "https://localhost:8080/",
          "height": 69
        }
      },
      "source": [
        "X_train = inp[ind_train]\n",
        "y_train = out[ind_train].reshape(-1,1)\n",
        "X_test = inp[ind_test]\n",
        "y_test = out[ind_test].reshape(-1,1)\n",
        "\n",
        "from sklearn.preprocessing import OneHotEncoder, StandardScaler, RobustScaler\n",
        "\n",
        "class DimScaler(StandardScaler):\n",
        "    def fit(self,X):\n",
        "        self.x_shape2 = X.shape[1:]\n",
        "        super(DimScaler,self).fit(X.reshape(X.shape[0],-1))\n",
        "\n",
        "    def transform(self,X):\n",
        "        return super(DimScaler,self).transform(X.reshape(X.shape[0],-1)).reshape(X.shape[0],*(self.x_shape2))\n",
        "\n",
        "ss = DimScaler()\n",
        "ss.fit(X_train)\n",
        "print(ss)\n",
        "\n",
        "enc = OneHotEncoder(sparse=False)\n",
        "enc.fit(y_train)\n",
        "print(enc)"
      ],
      "execution_count": 0,
      "outputs": [
        {
          "output_type": "stream",
          "text": [
            "DimScaler(copy=True, with_mean=True, with_std=True)\n",
            "OneHotEncoder(categories='auto', drop=None, dtype=<class 'numpy.float64'>,\n",
            "              handle_unknown='error', sparse=False)\n"
          ],
          "name": "stdout"
        }
      ]
    },
    {
      "cell_type": "markdown",
      "metadata": {
        "id": "MGk6PZNiLzEJ",
        "colab_type": "text"
      },
      "source": [
        "# Сеть"
      ]
    },
    {
      "cell_type": "code",
      "metadata": {
        "id": "xB4MGmV3Jr_E",
        "colab_type": "code",
        "outputId": "942c5694-4000-4f43-a761-00ec9c2573be",
        "colab": {
          "base_uri": "https://localhost:8080/",
          "height": 35
        }
      },
      "source": [
        "from __future__ import absolute_import, division, print_function, unicode_literals\n",
        "\n",
        "# TensorFlow и tf.keras\n",
        "import tensorflow as tf\n",
        "from tensorflow import keras\n",
        "\n",
        "# Вспомогательные библиотеки\n",
        "import numpy as np\n",
        "import matplotlib.pyplot as plt\n",
        "\n",
        "print(tf.__version__)"
      ],
      "execution_count": 0,
      "outputs": [
        {
          "output_type": "stream",
          "text": [
            "2.2.0-rc3\n"
          ],
          "name": "stdout"
        }
      ]
    },
    {
      "cell_type": "markdown",
      "metadata": {
        "id": "Dsyk7rxWMMyD",
        "colab_type": "text"
      },
      "source": [
        "## Создание модели"
      ]
    },
    {
      "cell_type": "code",
      "metadata": {
        "id": "Ae9iy83_jcD6",
        "colab_type": "code",
        "colab": {}
      },
      "source": [
        "class MLBlock(keras.layers.Layer):\n",
        "    \n",
        "    def __init__(self,obr):\n",
        "        super(MLBlock,self).__init__()\n",
        "        self.obr = obr\n",
        "\n",
        "    def call(self,inputs):\n",
        "        \n",
        "        return keras.layers.concatenate(list([self.obr(inputs[:,i,:]) for i in range(inputs.shape[1])]))\n",
        "        "
      ],
      "execution_count": 0,
      "outputs": []
    },
    {
      "cell_type": "code",
      "metadata": {
        "id": "K7-McpQ6KoCh",
        "colab_type": "code",
        "colab": {}
      },
      "source": [
        "regul = 1.0\n",
        "dropout = 0.3\n",
        "lr = 1e-2\n",
        "\n",
        "\n",
        "obr = keras.Sequential()\n",
        "obr.add(keras.layers.Dense(400,\n",
        "                           activation='relu',\n",
        "                           kernel_regularizer=keras.regularizers.l2(regul)))\n",
        "obr.add(keras.layers.Dropout(dropout))\n",
        "obr.add(keras.layers.BatchNormalization())\n",
        "\n",
        "obr.add(keras.layers.Dense(200,\n",
        "                           activation='relu',\n",
        "                           kernel_regularizer=keras.regularizers.l2(regul)))\n",
        "obr.add(keras.layers.Dropout(dropout))\n",
        "obr.add(keras.layers.BatchNormalization())\n",
        "\n",
        "pred_obr = MLBlock(obr)\n",
        "\n",
        "model = keras.Sequential()\n",
        "\n",
        "model.add(pred_obr)\n",
        "\n",
        "model.add(keras.layers.Dense(400,\n",
        "                             activation='relu',\n",
        "                             kernel_regularizer=keras.regularizers.l2(regul)))\n",
        "model.add(keras.layers.Dropout(dropout))\n",
        "\n",
        "model.add(keras.layers.BatchNormalization())\n",
        "model.add(keras.layers.Dense(2,activation='softmax'))\n",
        "\n",
        "model.compile(optimizer=tf.optimizers.Adam(learning_rate=lr),\n",
        "              loss=tf.losses.CategoricalCrossentropy(),\n",
        "              metrics=['accuracy'])\n"
      ],
      "execution_count": 0,
      "outputs": []
    },
    {
      "cell_type": "markdown",
      "metadata": {
        "id": "1TTB0t2FMPk7",
        "colab_type": "text"
      },
      "source": [
        "## Обучение"
      ]
    },
    {
      "cell_type": "code",
      "metadata": {
        "id": "uhCXwbAErFXJ",
        "colab_type": "code",
        "outputId": "0eca9a08-1be4-4874-83a5-74f58fc8b199",
        "colab": {
          "base_uri": "https://localhost:8080/",
          "height": 1000
        }
      },
      "source": [
        "es_callback = keras.callbacks.EarlyStopping(monitor='val_accuracy',\n",
        "                                            patience=100,\n",
        "                                            mode='max',\n",
        "                                            restore_best_weights=True)\n",
        "\n",
        "reduce_lr = keras.callbacks.ReduceLROnPlateau()\n",
        "\n",
        "hist = model.fit(ss.transform(X_train),\n",
        "                 enc.transform(y_train),\n",
        "                 validation_split=0.2,\n",
        "                 epochs=300,\n",
        "                 callbacks=[es_callback,reduce_lr],\n",
        "                 batch_size=128)\n",
        "\n",
        "print(model.summary())\n",
        "\n",
        "print(model.evaluate(ss.transform(X_test),enc.transform(y_test)))"
      ],
      "execution_count": 0,
      "outputs": [
        {
          "output_type": "stream",
          "text": [
            "Epoch 1/300\n",
            "WARNING:tensorflow:Layer ml_block_7 is casting an input tensor from dtype float64 to the layer's dtype of float32, which is new behavior in TensorFlow 2.  The layer has dtype float32 because it's dtype defaults to floatx.\n",
            "\n",
            "If you intended to run this layer in float32, you can safely ignore this warning. If in doubt, this warning is likely only an issue if you are porting a TensorFlow 1.X model to TensorFlow 2.\n",
            "\n",
            "To change all layers to have dtype float64 by default, call `tf.keras.backend.set_floatx('float64')`. To change just this layer, pass dtype='float64' to the layer constructor. If you are the author of this layer, you can disable autocasting by passing autocast=False to the base Layer constructor.\n",
            "\n",
            "6/6 [==============================] - 2s 324ms/step - loss: 453.3633 - accuracy: 0.5062 - val_loss: 237.0836 - val_accuracy: 0.5028 - lr: 0.0100\n",
            "Epoch 2/300\n",
            "6/6 [==============================] - 0s 51ms/step - loss: 129.7719 - accuracy: 0.5589 - val_loss: 110.6438 - val_accuracy: 0.4862 - lr: 0.0100\n",
            "Epoch 3/300\n",
            "6/6 [==============================] - 0s 54ms/step - loss: 100.1612 - accuracy: 0.5201 - val_loss: 66.2270 - val_accuracy: 0.5083 - lr: 0.0100\n",
            "Epoch 4/300\n",
            "6/6 [==============================] - 0s 51ms/step - loss: 62.0883 - accuracy: 0.5589 - val_loss: 50.3901 - val_accuracy: 0.5083 - lr: 0.0100\n",
            "Epoch 5/300\n",
            "6/6 [==============================] - 0s 55ms/step - loss: 40.8841 - accuracy: 0.5742 - val_loss: 34.8467 - val_accuracy: 0.5359 - lr: 0.0100\n",
            "Epoch 6/300\n",
            "6/6 [==============================] - 0s 51ms/step - loss: 33.1903 - accuracy: 0.5451 - val_loss: 29.2417 - val_accuracy: 0.4972 - lr: 0.0100\n",
            "Epoch 7/300\n",
            "6/6 [==============================] - 0s 55ms/step - loss: 27.0478 - accuracy: 0.5659 - val_loss: 23.4977 - val_accuracy: 0.4972 - lr: 0.0100\n",
            "Epoch 8/300\n",
            "6/6 [==============================] - 0s 50ms/step - loss: 21.3181 - accuracy: 0.5714 - val_loss: 19.5831 - val_accuracy: 0.4862 - lr: 0.0100\n",
            "Epoch 9/300\n",
            "6/6 [==============================] - 0s 49ms/step - loss: 18.8079 - accuracy: 0.5576 - val_loss: 17.9960 - val_accuracy: 0.5193 - lr: 0.0100\n",
            "Epoch 10/300\n",
            "6/6 [==============================] - 0s 52ms/step - loss: 17.6039 - accuracy: 0.5617 - val_loss: 16.4429 - val_accuracy: 0.4807 - lr: 0.0100\n",
            "Epoch 11/300\n",
            "6/6 [==============================] - 0s 50ms/step - loss: 15.9492 - accuracy: 0.5298 - val_loss: 14.8693 - val_accuracy: 0.4696 - lr: 0.0100\n",
            "Epoch 12/300\n",
            "6/6 [==============================] - 0s 48ms/step - loss: 14.4256 - accuracy: 0.5479 - val_loss: 13.6605 - val_accuracy: 0.4972 - lr: 0.0100\n",
            "Epoch 13/300\n",
            "6/6 [==============================] - 0s 51ms/step - loss: 13.1212 - accuracy: 0.5479 - val_loss: 12.6011 - val_accuracy: 0.5028 - lr: 0.0100\n",
            "Epoch 14/300\n",
            "6/6 [==============================] - 0s 55ms/step - loss: 12.5309 - accuracy: 0.5354 - val_loss: 11.2793 - val_accuracy: 0.5635 - lr: 0.0100\n",
            "Epoch 15/300\n",
            "6/6 [==============================] - 0s 51ms/step - loss: 11.4542 - accuracy: 0.5617 - val_loss: 10.8863 - val_accuracy: 0.4917 - lr: 0.0100\n",
            "Epoch 16/300\n",
            "6/6 [==============================] - 0s 54ms/step - loss: 11.3350 - accuracy: 0.5201 - val_loss: 10.8802 - val_accuracy: 0.4972 - lr: 0.0100\n",
            "Epoch 17/300\n",
            "6/6 [==============================] - 0s 50ms/step - loss: 10.2774 - accuracy: 0.5270 - val_loss: 9.8438 - val_accuracy: 0.5028 - lr: 0.0100\n",
            "Epoch 18/300\n",
            "6/6 [==============================] - 0s 52ms/step - loss: 9.2740 - accuracy: 0.5118 - val_loss: 8.7987 - val_accuracy: 0.5028 - lr: 0.0100\n",
            "Epoch 19/300\n",
            "6/6 [==============================] - 0s 52ms/step - loss: 8.9779 - accuracy: 0.5381 - val_loss: 8.8973 - val_accuracy: 0.5028 - lr: 0.0100\n",
            "Epoch 20/300\n",
            "6/6 [==============================] - 0s 50ms/step - loss: 8.5576 - accuracy: 0.5090 - val_loss: 8.4451 - val_accuracy: 0.4972 - lr: 0.0100\n",
            "Epoch 21/300\n",
            "6/6 [==============================] - 0s 50ms/step - loss: 8.1950 - accuracy: 0.5049 - val_loss: 7.6187 - val_accuracy: 0.4972 - lr: 0.0100\n",
            "Epoch 22/300\n",
            "6/6 [==============================] - 0s 50ms/step - loss: 7.2513 - accuracy: 0.4910 - val_loss: 7.2348 - val_accuracy: 0.4972 - lr: 0.0100\n",
            "Epoch 23/300\n",
            "6/6 [==============================] - 0s 51ms/step - loss: 6.6784 - accuracy: 0.5049 - val_loss: 7.1317 - val_accuracy: 0.5028 - lr: 0.0100\n",
            "Epoch 24/300\n",
            "6/6 [==============================] - 0s 51ms/step - loss: 7.0065 - accuracy: 0.5381 - val_loss: 7.1624 - val_accuracy: 0.4972 - lr: 0.0100\n",
            "Epoch 25/300\n",
            "6/6 [==============================] - 0s 50ms/step - loss: 7.0021 - accuracy: 0.4827 - val_loss: 6.9161 - val_accuracy: 0.4199 - lr: 0.0100\n",
            "Epoch 26/300\n",
            "6/6 [==============================] - 0s 52ms/step - loss: 7.1147 - accuracy: 0.5215 - val_loss: 6.7866 - val_accuracy: 0.4972 - lr: 0.0100\n",
            "Epoch 27/300\n",
            "6/6 [==============================] - 0s 51ms/step - loss: 6.6848 - accuracy: 0.5173 - val_loss: 7.2948 - val_accuracy: 0.4972 - lr: 0.0100\n",
            "Epoch 28/300\n",
            "6/6 [==============================] - 0s 50ms/step - loss: 7.1457 - accuracy: 0.5049 - val_loss: 7.5032 - val_accuracy: 0.5028 - lr: 0.0100\n",
            "Epoch 29/300\n",
            "6/6 [==============================] - 0s 50ms/step - loss: 7.1569 - accuracy: 0.5090 - val_loss: 7.1389 - val_accuracy: 0.4972 - lr: 0.0100\n",
            "Epoch 30/300\n",
            "6/6 [==============================] - 0s 55ms/step - loss: 7.2048 - accuracy: 0.4951 - val_loss: 7.3776 - val_accuracy: 0.5028 - lr: 0.0100\n",
            "Epoch 31/300\n",
            "6/6 [==============================] - 0s 50ms/step - loss: 7.0648 - accuracy: 0.4979 - val_loss: 7.0289 - val_accuracy: 0.4972 - lr: 0.0100\n",
            "Epoch 32/300\n",
            "6/6 [==============================] - 0s 50ms/step - loss: 7.2402 - accuracy: 0.5437 - val_loss: 7.0232 - val_accuracy: 0.4641 - lr: 0.0100\n",
            "Epoch 33/300\n",
            "6/6 [==============================] - 0s 50ms/step - loss: 7.7738 - accuracy: 0.5270 - val_loss: 7.3188 - val_accuracy: 0.4972 - lr: 0.0100\n",
            "Epoch 34/300\n",
            "6/6 [==============================] - 0s 51ms/step - loss: 7.0654 - accuracy: 0.5035 - val_loss: 7.2129 - val_accuracy: 0.5028 - lr: 0.0100\n",
            "Epoch 35/300\n",
            "6/6 [==============================] - 0s 52ms/step - loss: 6.9199 - accuracy: 0.5160 - val_loss: 7.2282 - val_accuracy: 0.5028 - lr: 0.0100\n",
            "Epoch 36/300\n",
            "6/6 [==============================] - 0s 52ms/step - loss: 7.1267 - accuracy: 0.4813 - val_loss: 7.0006 - val_accuracy: 0.4972 - lr: 0.0100\n",
            "Epoch 37/300\n",
            "6/6 [==============================] - 0s 49ms/step - loss: 5.6018 - accuracy: 0.5423 - val_loss: 3.2084 - val_accuracy: 0.4972 - lr: 1.0000e-03\n",
            "Epoch 38/300\n",
            "6/6 [==============================] - 0s 53ms/step - loss: 2.0780 - accuracy: 0.5062 - val_loss: 1.4805 - val_accuracy: 0.5028 - lr: 1.0000e-03\n",
            "Epoch 39/300\n",
            "6/6 [==============================] - 0s 51ms/step - loss: 1.9023 - accuracy: 0.5395 - val_loss: 2.3337 - val_accuracy: 0.5028 - lr: 1.0000e-03\n",
            "Epoch 40/300\n",
            "6/6 [==============================] - 0s 50ms/step - loss: 2.0871 - accuracy: 0.5451 - val_loss: 1.6339 - val_accuracy: 0.5028 - lr: 1.0000e-03\n",
            "Epoch 41/300\n",
            "6/6 [==============================] - 0s 51ms/step - loss: 1.4212 - accuracy: 0.4924 - val_loss: 1.3957 - val_accuracy: 0.4972 - lr: 1.0000e-03\n",
            "Epoch 42/300\n",
            "6/6 [==============================] - 0s 49ms/step - loss: 1.5704 - accuracy: 0.5146 - val_loss: 1.6917 - val_accuracy: 0.4972 - lr: 1.0000e-03\n",
            "Epoch 43/300\n",
            "6/6 [==============================] - 0s 52ms/step - loss: 1.5661 - accuracy: 0.5589 - val_loss: 1.4016 - val_accuracy: 0.5028 - lr: 1.0000e-03\n",
            "Epoch 44/300\n",
            "6/6 [==============================] - 0s 50ms/step - loss: 1.4060 - accuracy: 0.5160 - val_loss: 1.5229 - val_accuracy: 0.5028 - lr: 1.0000e-03\n",
            "Epoch 45/300\n",
            "6/6 [==============================] - 0s 55ms/step - loss: 1.6252 - accuracy: 0.5257 - val_loss: 1.8249 - val_accuracy: 0.5028 - lr: 1.0000e-03\n",
            "Epoch 46/300\n",
            "6/6 [==============================] - 0s 49ms/step - loss: 1.5358 - accuracy: 0.5395 - val_loss: 1.4591 - val_accuracy: 0.5028 - lr: 1.0000e-03\n",
            "Epoch 47/300\n",
            "6/6 [==============================] - 0s 53ms/step - loss: 1.3690 - accuracy: 0.5451 - val_loss: 1.5932 - val_accuracy: 0.4972 - lr: 1.0000e-03\n",
            "Epoch 48/300\n",
            "6/6 [==============================] - 0s 48ms/step - loss: 1.5341 - accuracy: 0.5243 - val_loss: 1.5855 - val_accuracy: 0.4972 - lr: 1.0000e-03\n",
            "Epoch 49/300\n",
            "6/6 [==============================] - 0s 52ms/step - loss: 1.3871 - accuracy: 0.5451 - val_loss: 1.2610 - val_accuracy: 0.4972 - lr: 1.0000e-03\n",
            "Epoch 50/300\n",
            "6/6 [==============================] - 0s 52ms/step - loss: 1.2458 - accuracy: 0.5520 - val_loss: 1.2881 - val_accuracy: 0.4972 - lr: 1.0000e-03\n",
            "Epoch 51/300\n",
            "6/6 [==============================] - 0s 54ms/step - loss: 1.3059 - accuracy: 0.5243 - val_loss: 1.3326 - val_accuracy: 0.5028 - lr: 1.0000e-03\n",
            "Epoch 52/300\n",
            "6/6 [==============================] - 0s 55ms/step - loss: 1.2945 - accuracy: 0.5340 - val_loss: 1.2677 - val_accuracy: 0.4972 - lr: 1.0000e-03\n",
            "Epoch 53/300\n",
            "6/6 [==============================] - 0s 52ms/step - loss: 1.2786 - accuracy: 0.5839 - val_loss: 1.3421 - val_accuracy: 0.4862 - lr: 1.0000e-03\n",
            "Epoch 54/300\n",
            "6/6 [==============================] - 0s 52ms/step - loss: 1.3345 - accuracy: 0.5381 - val_loss: 1.3222 - val_accuracy: 0.4862 - lr: 1.0000e-03\n",
            "Epoch 55/300\n",
            "6/6 [==============================] - 0s 52ms/step - loss: 1.2919 - accuracy: 0.5687 - val_loss: 1.2656 - val_accuracy: 0.4972 - lr: 1.0000e-03\n",
            "Epoch 56/300\n",
            "6/6 [==============================] - 0s 49ms/step - loss: 1.2607 - accuracy: 0.5756 - val_loss: 1.3232 - val_accuracy: 0.5028 - lr: 1.0000e-03\n",
            "Epoch 57/300\n",
            "6/6 [==============================] - 0s 51ms/step - loss: 1.3406 - accuracy: 0.5395 - val_loss: 1.3720 - val_accuracy: 0.5028 - lr: 1.0000e-03\n",
            "Epoch 58/300\n",
            "6/6 [==============================] - 0s 51ms/step - loss: 1.2708 - accuracy: 0.5437 - val_loss: 1.1980 - val_accuracy: 0.4807 - lr: 1.0000e-03\n",
            "Epoch 59/300\n",
            "6/6 [==============================] - 0s 55ms/step - loss: 1.1750 - accuracy: 0.5298 - val_loss: 1.1975 - val_accuracy: 0.4917 - lr: 1.0000e-03\n",
            "Epoch 60/300\n",
            "6/6 [==============================] - 0s 57ms/step - loss: 1.2049 - accuracy: 0.5659 - val_loss: 1.2226 - val_accuracy: 0.4917 - lr: 1.0000e-03\n",
            "Epoch 61/300\n",
            "6/6 [==============================] - 0s 56ms/step - loss: 1.2145 - accuracy: 0.5354 - val_loss: 1.2475 - val_accuracy: 0.5028 - lr: 1.0000e-03\n",
            "Epoch 62/300\n",
            "6/6 [==============================] - 0s 52ms/step - loss: 1.2162 - accuracy: 0.5298 - val_loss: 1.1925 - val_accuracy: 0.4420 - lr: 1.0000e-03\n",
            "Epoch 63/300\n",
            "6/6 [==============================] - 0s 50ms/step - loss: 1.1750 - accuracy: 0.5479 - val_loss: 1.2380 - val_accuracy: 0.4972 - lr: 1.0000e-03\n",
            "Epoch 64/300\n",
            "6/6 [==============================] - 0s 49ms/step - loss: 1.1914 - accuracy: 0.5659 - val_loss: 1.2606 - val_accuracy: 0.4972 - lr: 1.0000e-03\n",
            "Epoch 65/300\n",
            "6/6 [==============================] - 0s 51ms/step - loss: 1.2665 - accuracy: 0.5673 - val_loss: 1.2940 - val_accuracy: 0.4751 - lr: 1.0000e-03\n",
            "Epoch 66/300\n",
            "6/6 [==============================] - 0s 48ms/step - loss: 1.2384 - accuracy: 0.5492 - val_loss: 1.2059 - val_accuracy: 0.5028 - lr: 1.0000e-03\n",
            "Epoch 67/300\n",
            "6/6 [==============================] - 0s 50ms/step - loss: 1.1603 - accuracy: 0.5825 - val_loss: 1.2677 - val_accuracy: 0.5028 - lr: 1.0000e-03\n",
            "Epoch 68/300\n",
            "6/6 [==============================] - 0s 52ms/step - loss: 1.2230 - accuracy: 0.5562 - val_loss: 1.2658 - val_accuracy: 0.4917 - lr: 1.0000e-03\n",
            "Epoch 69/300\n",
            "6/6 [==============================] - 0s 51ms/step - loss: 1.2399 - accuracy: 0.5520 - val_loss: 1.2550 - val_accuracy: 0.5028 - lr: 1.0000e-03\n",
            "Epoch 70/300\n",
            "6/6 [==============================] - 0s 50ms/step - loss: 1.2223 - accuracy: 0.5603 - val_loss: 1.2757 - val_accuracy: 0.4972 - lr: 1.0000e-03\n",
            "Epoch 71/300\n",
            "6/6 [==============================] - 0s 53ms/step - loss: 1.2313 - accuracy: 0.5451 - val_loss: 1.1984 - val_accuracy: 0.4807 - lr: 1.0000e-03\n",
            "Epoch 72/300\n",
            "6/6 [==============================] - 0s 53ms/step - loss: 1.1953 - accuracy: 0.5562 - val_loss: 1.2274 - val_accuracy: 0.4917 - lr: 1.0000e-03\n",
            "Epoch 73/300\n",
            "6/6 [==============================] - 0s 49ms/step - loss: 1.1927 - accuracy: 0.5589 - val_loss: 1.1780 - val_accuracy: 0.4972 - lr: 1.0000e-04\n",
            "Epoch 74/300\n",
            "6/6 [==============================] - 0s 54ms/step - loss: 1.1003 - accuracy: 0.6061 - val_loss: 1.0753 - val_accuracy: 0.4972 - lr: 1.0000e-04\n",
            "Epoch 75/300\n",
            "6/6 [==============================] - 0s 52ms/step - loss: 1.0011 - accuracy: 0.5811 - val_loss: 0.9715 - val_accuracy: 0.5028 - lr: 1.0000e-04\n",
            "Epoch 76/300\n",
            "6/6 [==============================] - 0s 53ms/step - loss: 0.9032 - accuracy: 0.5728 - val_loss: 0.8925 - val_accuracy: 0.5028 - lr: 1.0000e-04\n",
            "Epoch 77/300\n",
            "6/6 [==============================] - 0s 49ms/step - loss: 0.8346 - accuracy: 0.5908 - val_loss: 0.8464 - val_accuracy: 0.5028 - lr: 1.0000e-04\n",
            "Epoch 78/300\n",
            "6/6 [==============================] - 0s 54ms/step - loss: 0.7846 - accuracy: 0.5798 - val_loss: 0.8207 - val_accuracy: 0.5028 - lr: 1.0000e-04\n",
            "Epoch 79/300\n",
            "6/6 [==============================] - 0s 52ms/step - loss: 0.7694 - accuracy: 0.5728 - val_loss: 0.8054 - val_accuracy: 0.5028 - lr: 1.0000e-04\n",
            "Epoch 80/300\n",
            "6/6 [==============================] - 0s 55ms/step - loss: 0.7567 - accuracy: 0.5881 - val_loss: 0.7992 - val_accuracy: 0.5028 - lr: 1.0000e-04\n",
            "Epoch 81/300\n",
            "6/6 [==============================] - 0s 51ms/step - loss: 0.7560 - accuracy: 0.5978 - val_loss: 0.7988 - val_accuracy: 0.5028 - lr: 1.0000e-04\n",
            "Epoch 82/300\n",
            "6/6 [==============================] - 0s 50ms/step - loss: 0.7460 - accuracy: 0.5964 - val_loss: 0.7884 - val_accuracy: 0.5028 - lr: 1.0000e-04\n",
            "Epoch 83/300\n",
            "6/6 [==============================] - 0s 55ms/step - loss: 0.7357 - accuracy: 0.5964 - val_loss: 0.7769 - val_accuracy: 0.5028 - lr: 1.0000e-04\n",
            "Epoch 84/300\n",
            "6/6 [==============================] - 0s 54ms/step - loss: 0.7341 - accuracy: 0.5853 - val_loss: 0.7750 - val_accuracy: 0.5028 - lr: 1.0000e-04\n",
            "Epoch 85/300\n",
            "6/6 [==============================] - 0s 51ms/step - loss: 0.7285 - accuracy: 0.5992 - val_loss: 0.7723 - val_accuracy: 0.5028 - lr: 1.0000e-04\n",
            "Epoch 86/300\n",
            "6/6 [==============================] - 0s 52ms/step - loss: 0.7259 - accuracy: 0.6089 - val_loss: 0.7655 - val_accuracy: 0.5028 - lr: 1.0000e-04\n",
            "Epoch 87/300\n",
            "6/6 [==============================] - 0s 53ms/step - loss: 0.7302 - accuracy: 0.6047 - val_loss: 0.7599 - val_accuracy: 0.4917 - lr: 1.0000e-04\n",
            "Epoch 88/300\n",
            "6/6 [==============================] - 0s 49ms/step - loss: 0.7259 - accuracy: 0.5908 - val_loss: 0.7554 - val_accuracy: 0.5083 - lr: 1.0000e-04\n",
            "Epoch 89/300\n",
            "6/6 [==============================] - 0s 50ms/step - loss: 0.7258 - accuracy: 0.6144 - val_loss: 0.7527 - val_accuracy: 0.4972 - lr: 1.0000e-04\n",
            "Epoch 90/300\n",
            "6/6 [==============================] - 0s 49ms/step - loss: 0.7287 - accuracy: 0.6006 - val_loss: 0.7499 - val_accuracy: 0.5249 - lr: 1.0000e-04\n",
            "Epoch 91/300\n",
            "6/6 [==============================] - 0s 47ms/step - loss: 0.7287 - accuracy: 0.5784 - val_loss: 0.7482 - val_accuracy: 0.4917 - lr: 1.0000e-04\n",
            "Epoch 92/300\n",
            "6/6 [==============================] - 0s 51ms/step - loss: 0.7219 - accuracy: 0.5825 - val_loss: 0.7506 - val_accuracy: 0.4972 - lr: 1.0000e-04\n",
            "Epoch 93/300\n",
            "6/6 [==============================] - 0s 55ms/step - loss: 0.7203 - accuracy: 0.6047 - val_loss: 0.7496 - val_accuracy: 0.4917 - lr: 1.0000e-04\n",
            "Epoch 94/300\n",
            "6/6 [==============================] - 0s 52ms/step - loss: 0.7151 - accuracy: 0.5825 - val_loss: 0.7552 - val_accuracy: 0.5028 - lr: 1.0000e-04\n",
            "Epoch 95/300\n",
            "6/6 [==============================] - 0s 52ms/step - loss: 0.7148 - accuracy: 0.5950 - val_loss: 0.7495 - val_accuracy: 0.4972 - lr: 1.0000e-04\n",
            "Epoch 96/300\n",
            "6/6 [==============================] - 0s 52ms/step - loss: 0.7207 - accuracy: 0.5742 - val_loss: 0.7541 - val_accuracy: 0.5028 - lr: 1.0000e-04\n",
            "Epoch 97/300\n",
            "6/6 [==============================] - 0s 51ms/step - loss: 0.7218 - accuracy: 0.6172 - val_loss: 0.7552 - val_accuracy: 0.5028 - lr: 1.0000e-04\n",
            "Epoch 98/300\n",
            "6/6 [==============================] - 0s 52ms/step - loss: 0.7167 - accuracy: 0.6033 - val_loss: 0.7502 - val_accuracy: 0.5028 - lr: 1.0000e-04\n",
            "Epoch 99/300\n",
            "6/6 [==============================] - 0s 52ms/step - loss: 0.7207 - accuracy: 0.5922 - val_loss: 0.7441 - val_accuracy: 0.5083 - lr: 1.0000e-04\n",
            "Epoch 100/300\n",
            "6/6 [==============================] - 0s 49ms/step - loss: 0.7127 - accuracy: 0.6019 - val_loss: 0.7425 - val_accuracy: 0.5028 - lr: 1.0000e-04\n",
            "Epoch 101/300\n",
            "6/6 [==============================] - 0s 52ms/step - loss: 0.7109 - accuracy: 0.5964 - val_loss: 0.7417 - val_accuracy: 0.5138 - lr: 1.0000e-04\n",
            "Epoch 102/300\n",
            "6/6 [==============================] - 0s 53ms/step - loss: 0.7184 - accuracy: 0.6144 - val_loss: 0.7446 - val_accuracy: 0.5138 - lr: 1.0000e-04\n",
            "Epoch 103/300\n",
            "6/6 [==============================] - 0s 51ms/step - loss: 0.7153 - accuracy: 0.6019 - val_loss: 0.7499 - val_accuracy: 0.5028 - lr: 1.0000e-04\n",
            "Epoch 104/300\n",
            "6/6 [==============================] - 0s 50ms/step - loss: 0.7141 - accuracy: 0.6338 - val_loss: 0.7501 - val_accuracy: 0.4972 - lr: 1.0000e-04\n",
            "Epoch 105/300\n",
            "6/6 [==============================] - 0s 48ms/step - loss: 0.7209 - accuracy: 0.5964 - val_loss: 0.7452 - val_accuracy: 0.4530 - lr: 1.0000e-04\n",
            "Epoch 106/300\n",
            "6/6 [==============================] - 0s 49ms/step - loss: 0.7150 - accuracy: 0.6089 - val_loss: 0.7498 - val_accuracy: 0.4917 - lr: 1.0000e-04\n",
            "Epoch 107/300\n",
            "6/6 [==============================] - 0s 53ms/step - loss: 0.7180 - accuracy: 0.5978 - val_loss: 0.7580 - val_accuracy: 0.4972 - lr: 1.0000e-04\n",
            "Epoch 108/300\n",
            "6/6 [==============================] - 0s 52ms/step - loss: 0.7100 - accuracy: 0.6130 - val_loss: 0.7489 - val_accuracy: 0.5028 - lr: 1.0000e-04\n",
            "Epoch 109/300\n",
            "6/6 [==============================] - 0s 52ms/step - loss: 0.7110 - accuracy: 0.5950 - val_loss: 0.7423 - val_accuracy: 0.5083 - lr: 1.0000e-04\n",
            "Epoch 110/300\n",
            "6/6 [==============================] - 0s 50ms/step - loss: 0.7108 - accuracy: 0.6006 - val_loss: 0.7446 - val_accuracy: 0.5083 - lr: 1.0000e-04\n",
            "Epoch 111/300\n",
            "6/6 [==============================] - 0s 53ms/step - loss: 0.7104 - accuracy: 0.5936 - val_loss: 0.7435 - val_accuracy: 0.4862 - lr: 1.0000e-04\n",
            "Epoch 112/300\n",
            "6/6 [==============================] - 0s 53ms/step - loss: 0.7154 - accuracy: 0.5950 - val_loss: 0.7437 - val_accuracy: 0.4862 - lr: 1.0000e-05\n",
            "Epoch 113/300\n",
            "6/6 [==============================] - 0s 50ms/step - loss: 0.7094 - accuracy: 0.6089 - val_loss: 0.7433 - val_accuracy: 0.4972 - lr: 1.0000e-05\n",
            "Epoch 114/300\n",
            "6/6 [==============================] - 0s 53ms/step - loss: 0.7071 - accuracy: 0.6144 - val_loss: 0.7431 - val_accuracy: 0.4972 - lr: 1.0000e-05\n",
            "Model: \"sequential_15\"\n",
            "_________________________________________________________________\n",
            "Layer (type)                 Output Shape              Param #   \n",
            "=================================================================\n",
            "ml_block_7 (MLBlock)         multiple                  95000     \n",
            "_________________________________________________________________\n",
            "dense_30 (Dense)             multiple                  3600400   \n",
            "_________________________________________________________________\n",
            "dropout_23 (Dropout)         multiple                  0         \n",
            "_________________________________________________________________\n",
            "batch_normalization_23 (Batc multiple                  1600      \n",
            "_________________________________________________________________\n",
            "dense_31 (Dense)             multiple                  802       \n",
            "=================================================================\n",
            "Total params: 3,697,802\n",
            "Trainable params: 3,695,802\n",
            "Non-trainable params: 2,000\n",
            "_________________________________________________________________\n",
            "None\n",
            "13/13 [==============================] - 0s 11ms/step - loss: 11.3133 - accuracy: 0.4548\n",
            "[11.313323020935059, 0.45478036999702454]\n"
          ],
          "name": "stdout"
        }
      ]
    },
    {
      "cell_type": "markdown",
      "metadata": {
        "id": "OfmNL734MTOm",
        "colab_type": "text"
      },
      "source": [
        "## Графики обучения"
      ]
    },
    {
      "cell_type": "code",
      "metadata": {
        "id": "XzSMdY8wnuHd",
        "colab_type": "code",
        "outputId": "71d4b8c2-3c3c-4c66-8abf-a759aeb0d814",
        "colab": {
          "base_uri": "https://localhost:8080/",
          "height": 545
        }
      },
      "source": [
        "plt.plot(hist.history['accuracy'],label='train')\n",
        "plt.plot(hist.history['val_accuracy'],label='val')\n",
        "plt.title('accuracy')\n",
        "plt.legend()\n",
        "plt.show()\n",
        "\n",
        "plt.plot(hist.history['loss'],label='train')\n",
        "plt.plot(hist.history['val_loss'],label='val')\n",
        "plt.title('loss')\n",
        "plt.legend()\n",
        "plt.show()"
      ],
      "execution_count": 0,
      "outputs": [
        {
          "output_type": "display_data",
          "data": {
            "image/png": "[encoded data removed]",
            "text/plain": [
              "<Figure size 432x288 with 1 Axes>"
            ]
          },
          "metadata": {
            "tags": [],
            "needs_background": "light"
          }
        },
        {
          "output_type": "display_data",
          "data": {
            "image/png": "[encoded data removed]",
            "text/plain": [
              "<Figure size 432x288 with 1 Axes>"
            ]
          },
          "metadata": {
            "tags": [],
            "needs_background": "light"
          }
        }
      ]
    },
    {
      "cell_type": "markdown",
      "metadata": {
        "id": "b2Z4wyofL2oS",
        "colab_type": "text"
      },
      "source": [
        "# Расчет по модели"
      ]
    },
    {
      "cell_type": "code",
      "metadata": {
        "id": "D_zyLv8Aq18M",
        "colab_type": "code",
        "colab": {}
      },
      "source": [
        "pred_train = enc.inverse_transform(model.predict(ss.transform(X_train)))\n",
        "pred_test = enc.inverse_transform(model.predict(ss.transform(X_test)))"
      ],
      "execution_count": 0,
      "outputs": []
    },
    {
      "cell_type": "markdown",
      "metadata": {
        "id": "0SQd_IvhLoHW",
        "colab_type": "text"
      },
      "source": [
        "# Результаты эксперимента"
      ]
    },
    {
      "cell_type": "code",
      "metadata": {
        "id": "hc94Ib7KvB-N",
        "colab_type": "code",
        "outputId": "687d3e13-9c35-4042-b7d0-bc9e02172fb8",
        "colab": {
          "base_uri": "https://localhost:8080/",
          "height": 364
        }
      },
      "source": [
        "from sklearn.metrics import *\n",
        "\n",
        "print('----------- train report -----------')\n",
        "print(classification_report(y_train,pred_train))\n",
        "\n",
        "print('----------- test report -----------')\n",
        "print(classification_report(y_test,pred_test))"
      ],
      "execution_count": 0,
      "outputs": [
        {
          "output_type": "stream",
          "text": [
            "----------- train report -----------\n",
            "              precision    recall  f1-score   support\n",
            "\n",
            "           0       0.59      0.52      0.55       464\n",
            "           1       0.55      0.61      0.58       438\n",
            "\n",
            "    accuracy                           0.56       902\n",
            "   macro avg       0.57      0.57      0.56       902\n",
            "weighted avg       0.57      0.56      0.56       902\n",
            "\n",
            "----------- test report -----------\n",
            "              precision    recall  f1-score   support\n",
            "\n",
            "           0       0.47      0.36      0.41       202\n",
            "           1       0.44      0.56      0.50       185\n",
            "\n",
            "    accuracy                           0.45       387\n",
            "   macro avg       0.46      0.46      0.45       387\n",
            "weighted avg       0.46      0.45      0.45       387\n",
            "\n"
          ],
          "name": "stdout"
        }
      ]
    }
  ]
}