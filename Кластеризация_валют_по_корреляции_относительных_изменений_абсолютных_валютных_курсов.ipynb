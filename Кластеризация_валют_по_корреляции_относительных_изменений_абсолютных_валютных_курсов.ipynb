{
  "nbformat": 4,
  "nbformat_minor": 0,
  "metadata": {
    "colab": {
      "name": "Кластеризация валют по корреляции относительных изменений абсолютных валютных курсов.ipynb",
      "provenance": [],
      "collapsed_sections": [],
      "toc_visible": true,
      "authorship_tag": "ABX9TyPYaGbMG6UYSUWCnd1NTc0n",
      "include_colab_link": true
    },
    "kernelspec": {
      "name": "python3",
      "display_name": "Python 3"
    }
  },
  "cells": [
    {
      "cell_type": "markdown",
      "metadata": {
        "id": "view-in-github",
        "colab_type": "text"
      },
      "source": [
        "<a href=\"https://colab.research.google.com/github/prog815/abscur_prediction/blob/master/%D0%9A%D0%BB%D0%B0%D1%81%D1%82%D0%B5%D1%80%D0%B8%D0%B7%D0%B0%D1%86%D0%B8%D1%8F_%D0%B2%D0%B0%D0%BB%D1%8E%D1%82_%D0%BF%D0%BE_%D0%BA%D0%BE%D1%80%D1%80%D0%B5%D0%BB%D1%8F%D1%86%D0%B8%D0%B8_%D0%BE%D1%82%D0%BD%D0%BE%D1%81%D0%B8%D1%82%D0%B5%D0%BB%D1%8C%D0%BD%D1%8B%D1%85_%D0%B8%D0%B7%D0%BC%D0%B5%D0%BD%D0%B5%D0%BD%D0%B8%D0%B9_%D0%B0%D0%B1%D1%81%D0%BE%D0%BB%D1%8E%D1%82%D0%BD%D1%8B%D1%85_%D0%B2%D0%B0%D0%BB%D1%8E%D1%82%D0%BD%D1%8B%D1%85_%D0%BA%D1%83%D1%80%D1%81%D0%BE%D0%B2.ipynb\" target=\"_parent\"><img src=\"https://colab.research.google.com/assets/colab-badge.svg\" alt=\"Open In Colab\"/></a>"
      ]
    },
    {
      "cell_type": "markdown",
      "metadata": {
        "id": "1mkX7IMcVHgR",
        "colab_type": "text"
      },
      "source": [
        "# **Кластеризация валют по корреляции относительных изменений абсолютных валютных курсов**"
      ]
    },
    {
      "cell_type": "markdown",
      "metadata": {
        "id": "aM--woXnu26D",
        "colab_type": "text"
      },
      "source": [
        "**Абсолютный курс**\n",
        "\n",
        "Енин А.В.\n",
        "\n",
        "г. Оренбург\n",
        "\n",
        "2020 г."
      ]
    },
    {
      "cell_type": "markdown",
      "metadata": {
        "id": "q_qWG0YvRMXa",
        "colab_type": "text"
      },
      "source": [
        "Сайт - http://www.abscur.ru\n",
        "\n",
        "Twitter - https://twitter.com/abscurs\n",
        "\n",
        "ВКонтакте -  https://vk.com/abscur\n",
        "\n",
        "Одноклассники -  https://ok.ru/group/53547043520717\n",
        "\n",
        "FB -  https://www.facebook.com/abscur \n",
        "\n",
        "Telegram - https://t.me/AbsCur\n",
        "\n",
        "GitHub - https://github.com/prog815/abscur_prediction\n",
        "\n",
        "WhatsUp - https://chat.whatsapp.com/KrNJXAKizPxDlDSjYfdpQs\n",
        "\n",
        "Viber - https://invite.viber.com/?g2=AQB63y7Cm%2BNJK0tNZW%2F9kI00M6Wr8HuZ7XeamzN4jZCve8Aq9%2FiD3DY56Eqcf7dc"
      ]
    },
    {
      "cell_type": "markdown",
      "metadata": {
        "id": "WzppVKjwUDDD",
        "colab_type": "text"
      },
      "source": [
        "Анализируем корреляцию относительных изменений абсолютных валютных курсов. Смотрим как они связаны в облаке после кластеризации."
      ]
    },
    {
      "cell_type": "markdown",
      "metadata": {
        "id": "unzAhdbWwsg2",
        "colab_type": "text"
      },
      "source": [
        "# Библиотеки"
      ]
    },
    {
      "cell_type": "code",
      "metadata": {
        "id": "lWBV_HiFwqX8",
        "colab_type": "code",
        "outputId": "f2d4cddd-93b1-43fd-c91c-3f23c5c2aa63",
        "colab": {
          "base_uri": "https://localhost:8080/",
          "height": 34
        }
      },
      "source": [
        "import datetime\n",
        "print(datetime.date.today())\n",
        "\n",
        "import numpy as np\n",
        "import pandas as pd\n",
        "\n",
        "import matplotlib.pyplot as plt\n",
        "import seaborn as sns\n",
        "\n",
        "from sklearn.cluster import KMeans"
      ],
      "execution_count": 0,
      "outputs": [
        {
          "output_type": "stream",
          "text": [
            "2020-03-25\n"
          ],
          "name": "stdout"
        }
      ]
    },
    {
      "cell_type": "markdown",
      "metadata": {
        "id": "GauqzexkvZhl",
        "colab_type": "text"
      },
      "source": [
        "# Импорт данных"
      ]
    },
    {
      "cell_type": "markdown",
      "metadata": {
        "id": "QBPxlyfLvxZm",
        "colab_type": "text"
      },
      "source": [
        "Таблица с историей абсолютных курсов: https://docs.google.com/spreadsheets/d/1_-cdNCIC6NgyRDj0zLJBaohXo-K8qCfxfDLbYq2JLhs/edit#gid=422799220"
      ]
    },
    {
      "cell_type": "code",
      "metadata": {
        "id": "l-fOlyOOtRJo",
        "colab_type": "code",
        "outputId": "ab27c406-358c-45d1-a3c3-daf096333f8c",
        "colab": {
          "base_uri": "https://localhost:8080/",
          "height": 34
        }
      },
      "source": [
        "data_url = 'https://docs.google.com/spreadsheets/d/1_-cdNCIC6NgyRDj0zLJBaohXo-K8qCfxfDLbYq2JLhs/export?format=csv&id=1_-cdNCIC6NgyRDj0zLJBaohXo-K8qCfxfDLbYq2JLhs&gid=422799220'\n",
        "abs_data = pd.read_csv(data_url,decimal=',',parse_dates=True,index_col=0)\n",
        "abs_data.shape"
      ],
      "execution_count": 0,
      "outputs": [
        {
          "output_type": "execute_result",
          "data": {
            "text/plain": [
              "(1299, 45)"
            ]
          },
          "metadata": {
            "tags": []
          },
          "execution_count": 2
        }
      ]
    },
    {
      "cell_type": "markdown",
      "metadata": {
        "id": "Yo6hLX-7UqBA",
        "colab_type": "text"
      },
      "source": [
        "## Подготовка данных"
      ]
    },
    {
      "cell_type": "code",
      "metadata": {
        "id": "JYtnp5stSazH",
        "colab_type": "code",
        "colab": {}
      },
      "source": [
        "dates = abs_data.index.values # даты\n",
        "cur_names = abs_data.columns.values # имена валют\n",
        "data = abs_data.values # матрица абсолютных курсов\n",
        "d_data = np.zeros_like(data) # матрица относительных изменений\n",
        "d_data[1:,:] = (data[1:,:]-data[:-1,:])/data[:-1,:] # расчет матрицы относительных изменений"
      ],
      "execution_count": 0,
      "outputs": []
    },
    {
      "cell_type": "markdown",
      "metadata": {
        "id": "P-ab6ya48iCT",
        "colab_type": "text"
      },
      "source": [
        "# Считаем корреляции"
      ]
    },
    {
      "cell_type": "code",
      "metadata": {
        "id": "Crdzs5UMj3_t",
        "colab_type": "code",
        "outputId": "3fed10dc-6fb7-4e80-c542-d3f17e650ba0",
        "colab": {
          "base_uri": "https://localhost:8080/",
          "height": 238
        }
      },
      "source": [
        "d_corr = np.corrcoef(d_data.T)\n",
        "d_corr[np.eye(d_corr.shape[0])==1] = 0 # убираем единичные элементы с гллавной диагонали\n",
        "d_corr"
      ],
      "execution_count": 0,
      "outputs": [
        {
          "output_type": "execute_result",
          "data": {
            "text/plain": [
              "array([[ 0.        ,  0.29390457, -0.36120454, ...,  0.00851968,\n",
              "        -0.16996001, -0.37598103],\n",
              "       [ 0.29390457,  0.        , -0.03860694, ...,  0.00823184,\n",
              "        -0.06553413, -0.03666872],\n",
              "       [-0.36120454, -0.03860694,  0.        , ...,  0.33829805,\n",
              "         0.37140179,  0.91506062],\n",
              "       ...,\n",
              "       [ 0.00851968,  0.00823184,  0.33829805, ...,  0.        ,\n",
              "         0.07694643,  0.29504194],\n",
              "       [-0.16996001, -0.06553413,  0.37140179, ...,  0.07694643,\n",
              "         0.        ,  0.34412408],\n",
              "       [-0.37598103, -0.03666872,  0.91506062, ...,  0.29504194,\n",
              "         0.34412408,  0.        ]])"
            ]
          },
          "metadata": {
            "tags": []
          },
          "execution_count": 23
        }
      ]
    },
    {
      "cell_type": "code",
      "metadata": {
        "id": "nV_C0VdQZtCh",
        "colab_type": "code",
        "colab": {}
      },
      "source": [
        "\n"
      ],
      "execution_count": 0,
      "outputs": []
    },
    {
      "cell_type": "markdown",
      "metadata": {
        "id": "hp-PDGsgqXdS",
        "colab_type": "text"
      },
      "source": [
        "# Ищем кластеры"
      ]
    },
    {
      "cell_type": "code",
      "metadata": {
        "id": "NF9X_LmbZN5d",
        "colab_type": "code",
        "outputId": "cca0b485-f23e-471e-ac0b-75a22c249a43",
        "colab": {
          "base_uri": "https://localhost:8080/",
          "height": 440
        }
      },
      "source": [
        "model = KMeans(n_clusters=5)\n",
        "\n",
        "model.fit(d_corr)\n",
        "\n",
        "clasters = model.predict(d_corr)\n",
        "\n",
        "cl_df = pd.DataFrame(clasters,index=cur_names)\n",
        "cl_df = cl_df.sort_values(0)\n",
        "\n",
        "x = cl_df.index\n",
        "h = cl_df.values.reshape((-1,))\n",
        "\n",
        "plt.figure(figsize=(10,7))\n",
        "plt.bar(x,h)\n",
        "plt.xticks(rotation=90)\n",
        "plt.show()"
      ],
      "execution_count": 0,
      "outputs": [
        {
          "output_type": "display_data",
          "data": {
            "image/png": "[encoded data removed]",
            "text/plain": [
              "<Figure size 720x504 with 1 Axes>"
            ]
          },
          "metadata": {
            "tags": []
          }
        }
      ]
    },
    {
      "cell_type": "code",
      "metadata": {
        "id": "2yLRH80qNwXy",
        "colab_type": "code",
        "outputId": "33454acb-77f0-449e-be76-df74fc05ca74",
        "colab": {
          "base_uri": "https://localhost:8080/",
          "height": 411
        }
      },
      "source": [
        "from sklearn.manifold import TSNE\n",
        "\n",
        "model = TSNE(learning_rate=500)\n",
        "\n",
        "transformed = model.fit_transform(d_corr)\n",
        "\n",
        "# Представляем результат в двумерных координатах\n",
        "x_axis = transformed[:, 0]\n",
        "y_axis = transformed[:, 1]\n",
        "\n",
        "plt.figure(figsize=(12,7))\n",
        "\n",
        "plt.scatter(x_axis, y_axis,c=clasters)\n",
        "\n",
        "for i in range(len(cur_names)):\n",
        "    plt.text(x_axis[i],y_axis[i], \" {} ({})\".format(cur_names[i],clasters[i]),fontsize=12)\n",
        "\n",
        "plt.axis('off')\n",
        "\n",
        "plt.show()"
      ],
      "execution_count": 0,
      "outputs": [
        {
          "output_type": "display_data",
          "data": {
            "image/png": "[encoded data removed]",
            "text/plain": [
              "<Figure size 864x504 with 1 Axes>"
            ]
          },
          "metadata": {
            "tags": []
          }
        }
      ]
    },
    {
      "cell_type": "markdown",
      "metadata": {
        "id": "ivVvgUPwkAGB",
        "colab_type": "text"
      },
      "source": [
        "Все валюты разделили на пять групп. На облаке видно как с противоположных сторон расположились группы доллара и евро."
      ]
    }
  ]
}