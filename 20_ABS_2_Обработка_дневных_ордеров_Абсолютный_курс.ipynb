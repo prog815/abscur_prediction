{
  "nbformat": 4,
  "nbformat_minor": 0,
  "metadata": {
    "colab": {
      "name": "20-ABS-2. Обработка дневных ордеров. Абсолютный курс.ipynb",
      "provenance": [],
      "collapsed_sections": [],
      "toc_visible": true,
      "authorship_tag": "ABX9TyOtRJI3mt/q6hzbgflP7BKU",
      "include_colab_link": true
    },
    "kernelspec": {
      "name": "python3",
      "display_name": "Python 3"
    },
    "accelerator": "GPU"
  },
  "cells": [
    {
      "cell_type": "markdown",
      "metadata": {
        "id": "view-in-github",
        "colab_type": "text"
      },
      "source": [
        "<a href=\"https://colab.research.google.com/github/prog815/abscur_prediction/blob/master/20_ABS_2_%D0%9E%D0%B1%D1%80%D0%B0%D0%B1%D0%BE%D1%82%D0%BA%D0%B0_%D0%B4%D0%BD%D0%B5%D0%B2%D0%BD%D1%8B%D1%85_%D0%BE%D1%80%D0%B4%D0%B5%D1%80%D0%BE%D0%B2_%D0%90%D0%B1%D1%81%D0%BE%D0%BB%D1%8E%D1%82%D0%BD%D1%8B%D0%B9_%D0%BA%D1%83%D1%80%D1%81.ipynb\" target=\"_parent\"><img src=\"https://colab.research.google.com/assets/colab-badge.svg\" alt=\"Open In Colab\"/></a>"
      ]
    },
    {
      "cell_type": "markdown",
      "metadata": {
        "id": "1mkX7IMcVHgR",
        "colab_type": "text"
      },
      "source": [
        "# **20-ABS-2. Обработка дневных ордеров. Абсолютный курс.**"
      ]
    },
    {
      "cell_type": "markdown",
      "metadata": {
        "id": "aM--woXnu26D",
        "colab_type": "text"
      },
      "source": [
        "**Абсолютный курс**\n",
        "\n",
        "Енин А.В.\n",
        "\n",
        "г. Оренбург\n",
        "\n",
        "01.05.2020 г."
      ]
    },
    {
      "cell_type": "markdown",
      "metadata": {
        "id": "q_qWG0YvRMXa",
        "colab_type": "text"
      },
      "source": [
        "Сайт - http://www.abscur.ru\n",
        "\n",
        "Twitter - https://twitter.com/abscurs\n",
        "\n",
        "ВКонтакте -  https://vk.com/abscur\n",
        "\n",
        "Одноклассники -  https://ok.ru/group/53547043520717\n",
        "\n",
        "FB -  https://www.facebook.com/abscur \n",
        "\n",
        "Telegram - https://t.me/AbsCur\n",
        "\n",
        "GitHub - https://github.com/prog815/abscur_prediction\n",
        "\n",
        "WhatsUp - https://chat.whatsapp.com/KrNJXAKizPxDlDSjYfdpQs\n",
        "\n",
        "Viber - https://invite.viber.com/?g2=AQB63y7Cm%2BNJK0tNZW%2F9kI00M6Wr8HuZ7XeamzN4jZCve8Aq9%2FiD3DY56Eqcf7dc"
      ]
    },
    {
      "cell_type": "markdown",
      "metadata": {
        "id": "e6YeYGNnM3va",
        "colab_type": "text"
      },
      "source": [
        "## Альбом\n",
        "\n",
        "https://photos.app.goo.gl/yiVMbEg6qMb11xB9A"
      ]
    },
    {
      "cell_type": "markdown",
      "metadata": {
        "id": "MR8YNhsLNxAd",
        "colab_type": "text"
      },
      "source": [
        "# Библиотеки\n",
        "\n"
      ]
    },
    {
      "cell_type": "code",
      "metadata": {
        "id": "qb0Sc15EJKE8",
        "colab_type": "code",
        "outputId": "3fbdfe7d-0860-42b3-97a3-bb5ed7b29522",
        "colab": {
          "base_uri": "https://localhost:8080/",
          "height": 211
        }
      },
      "source": [
        "! pip install git+https://github.com/prog815/abscur\n",
        "import abscur"
      ],
      "execution_count": 0,
      "outputs": [
        {
          "output_type": "stream",
          "text": [
            "Collecting git+https://github.com/prog815/abscur\n",
            "  Cloning https://github.com/prog815/abscur to /tmp/pip-req-build-ktmlujwa\n",
            "  Running command git clone -q https://github.com/prog815/abscur /tmp/pip-req-build-ktmlujwa\n",
            "Building wheels for collected packages: abscur\n",
            "  Building wheel for abscur (setup.py) ... \u001b[?25l\u001b[?25hdone\n",
            "  Created wheel for abscur: filename=abscur-0.1.12-cp36-none-any.whl size=2920 sha256=2db49d8a958314ac396748a95d60240dfe9e036cbf1f740a36d2c9be42d3c0d6\n",
            "  Stored in directory: /tmp/pip-ephem-wheel-cache-sd2f4akf/wheels/57/99/b6/8f8d84361b37a8789f91280c8e92720b9101beffb944cd32ab\n",
            "Successfully built abscur\n",
            "Installing collected packages: abscur\n",
            "Successfully installed abscur-0.1.12\n"
          ],
          "name": "stdout"
        }
      ]
    },
    {
      "cell_type": "code",
      "metadata": {
        "id": "hJf-lI45NvXv",
        "colab_type": "code",
        "colab": {}
      },
      "source": [
        "import numpy as np\n",
        "import pandas as pd\n",
        "import matplotlib.pyplot as plt\n",
        "from sklearn.model_selection import train_test_split\n",
        "import seaborn as sns"
      ],
      "execution_count": 0,
      "outputs": []
    },
    {
      "cell_type": "markdown",
      "metadata": {
        "id": "GauqzexkvZhl",
        "colab_type": "text"
      },
      "source": [
        "# Импорт данных"
      ]
    },
    {
      "cell_type": "markdown",
      "metadata": {
        "id": "QBPxlyfLvxZm",
        "colab_type": "text"
      },
      "source": [
        "Таблица с историей абсолютных курсов: https://docs.google.com/spreadsheets/d/1_-cdNCIC6NgyRDj0zLJBaohXo-K8qCfxfDLbYq2JLhs/edit#gid=422799220"
      ]
    },
    {
      "cell_type": "code",
      "metadata": {
        "id": "bSCx1bzqw41a",
        "colab_type": "code",
        "outputId": "21b4bc2c-ff57-4175-8129-78c7e28b278c",
        "colab": {
          "base_uri": "https://localhost:8080/",
          "height": 384
        }
      },
      "source": [
        "! pip install yfinance\n",
        "import yfinance as yf"
      ],
      "execution_count": 0,
      "outputs": [
        {
          "output_type": "stream",
          "text": [
            "Collecting yfinance\n",
            "  Downloading https://files.pythonhosted.org/packages/c2/31/8b374a12b90def92a4e27d0fc595fc43635f395984e36a075244d98bd265/yfinance-0.1.54.tar.gz\n",
            "Requirement already satisfied: pandas>=0.24 in /usr/local/lib/python3.6/dist-packages (from yfinance) (1.0.3)\n",
            "Requirement already satisfied: numpy>=1.15 in /usr/local/lib/python3.6/dist-packages (from yfinance) (1.18.3)\n",
            "Requirement already satisfied: requests>=2.20 in /usr/local/lib/python3.6/dist-packages (from yfinance) (2.23.0)\n",
            "Requirement already satisfied: multitasking>=0.0.7 in /usr/local/lib/python3.6/dist-packages (from yfinance) (0.0.9)\n",
            "Requirement already satisfied: python-dateutil>=2.6.1 in /usr/local/lib/python3.6/dist-packages (from pandas>=0.24->yfinance) (2.8.1)\n",
            "Requirement already satisfied: pytz>=2017.2 in /usr/local/lib/python3.6/dist-packages (from pandas>=0.24->yfinance) (2018.9)\n",
            "Requirement already satisfied: idna<3,>=2.5 in /usr/local/lib/python3.6/dist-packages (from requests>=2.20->yfinance) (2.9)\n",
            "Requirement already satisfied: certifi>=2017.4.17 in /usr/local/lib/python3.6/dist-packages (from requests>=2.20->yfinance) (2020.4.5.1)\n",
            "Requirement already satisfied: chardet<4,>=3.0.2 in /usr/local/lib/python3.6/dist-packages (from requests>=2.20->yfinance) (3.0.4)\n",
            "Requirement already satisfied: urllib3!=1.25.0,!=1.25.1,<1.26,>=1.21.1 in /usr/local/lib/python3.6/dist-packages (from requests>=2.20->yfinance) (1.24.3)\n",
            "Requirement already satisfied: six>=1.5 in /usr/local/lib/python3.6/dist-packages (from python-dateutil>=2.6.1->pandas>=0.24->yfinance) (1.12.0)\n",
            "Building wheels for collected packages: yfinance\n",
            "  Building wheel for yfinance (setup.py) ... \u001b[?25l\u001b[?25hdone\n",
            "  Created wheel for yfinance: filename=yfinance-0.1.54-py2.py3-none-any.whl size=22409 sha256=0c4aecd0bf6e251d99b5d0c28ee254a2dc2269ced6344e8a17bc08ee5f8f9577\n",
            "  Stored in directory: /root/.cache/pip/wheels/f9/e3/5b/ec24dd2984b12d61e0abf26289746c2436a0e7844f26f2515c\n",
            "Successfully built yfinance\n",
            "Installing collected packages: yfinance\n",
            "Successfully installed yfinance-0.1.54\n"
          ],
          "name": "stdout"
        }
      ]
    },
    {
      "cell_type": "code",
      "metadata": {
        "id": "tPNxFBloJ-yy",
        "colab_type": "code",
        "colab": {}
      },
      "source": [
        "gbpusd = yf.Ticker('GBPUSD=x')"
      ],
      "execution_count": 0,
      "outputs": []
    },
    {
      "cell_type": "code",
      "metadata": {
        "id": "mfAgjZhuOxvG",
        "colab_type": "code",
        "colab": {}
      },
      "source": [
        "hist = gbpusd.history('max')"
      ],
      "execution_count": 0,
      "outputs": []
    },
    {
      "cell_type": "code",
      "metadata": {
        "id": "sZOwutAFPn5N",
        "colab_type": "code",
        "outputId": "d1e98325-14eb-4a06-958f-5607ea000941",
        "colab": {
          "base_uri": "https://localhost:8080/",
          "height": 446
        }
      },
      "source": [
        "hist"
      ],
      "execution_count": 0,
      "outputs": [
        {
          "output_type": "execute_result",
          "data": {
            "text/html": [
              "<div>\n",
              "<style scoped>\n",
              "    .dataframe tbody tr th:only-of-type {\n",
              "        vertical-align: middle;\n",
              "    }\n",
              "\n",
              "    .dataframe tbody tr th {\n",
              "        vertical-align: top;\n",
              "    }\n",
              "\n",
              "    .dataframe thead th {\n",
              "        text-align: right;\n",
              "    }\n",
              "</style>\n",
              "<table border=\"1\" class=\"dataframe\">\n",
              "  <thead>\n",
              "    <tr style=\"text-align: right;\">\n",
              "      <th></th>\n",
              "      <th>Open</th>\n",
              "      <th>High</th>\n",
              "      <th>Low</th>\n",
              "      <th>Close</th>\n",
              "      <th>Volume</th>\n",
              "      <th>Dividends</th>\n",
              "      <th>Stock Splits</th>\n",
              "    </tr>\n",
              "    <tr>\n",
              "      <th>Date</th>\n",
              "      <th></th>\n",
              "      <th></th>\n",
              "      <th></th>\n",
              "      <th></th>\n",
              "      <th></th>\n",
              "      <th></th>\n",
              "      <th></th>\n",
              "    </tr>\n",
              "  </thead>\n",
              "  <tbody>\n",
              "    <tr>\n",
              "      <th>2003-12-01</th>\n",
              "      <td>1.7238</td>\n",
              "      <td>1.7272</td>\n",
              "      <td>1.7184</td>\n",
              "      <td>1.7186</td>\n",
              "      <td>0</td>\n",
              "      <td>0</td>\n",
              "      <td>0</td>\n",
              "    </tr>\n",
              "    <tr>\n",
              "      <th>2003-12-02</th>\n",
              "      <td>1.7190</td>\n",
              "      <td>1.7321</td>\n",
              "      <td>1.7173</td>\n",
              "      <td>1.7303</td>\n",
              "      <td>0</td>\n",
              "      <td>0</td>\n",
              "      <td>0</td>\n",
              "    </tr>\n",
              "    <tr>\n",
              "      <th>2003-12-03</th>\n",
              "      <td>1.7305</td>\n",
              "      <td>1.7318</td>\n",
              "      <td>1.7252</td>\n",
              "      <td>1.7281</td>\n",
              "      <td>0</td>\n",
              "      <td>0</td>\n",
              "      <td>0</td>\n",
              "    </tr>\n",
              "    <tr>\n",
              "      <th>2003-12-04</th>\n",
              "      <td>1.7274</td>\n",
              "      <td>1.7290</td>\n",
              "      <td>1.7183</td>\n",
              "      <td>1.7207</td>\n",
              "      <td>0</td>\n",
              "      <td>0</td>\n",
              "      <td>0</td>\n",
              "    </tr>\n",
              "    <tr>\n",
              "      <th>2003-12-05</th>\n",
              "      <td>1.7206</td>\n",
              "      <td>1.7331</td>\n",
              "      <td>1.7198</td>\n",
              "      <td>1.7331</td>\n",
              "      <td>0</td>\n",
              "      <td>0</td>\n",
              "      <td>0</td>\n",
              "    </tr>\n",
              "    <tr>\n",
              "      <th>...</th>\n",
              "      <td>...</td>\n",
              "      <td>...</td>\n",
              "      <td>...</td>\n",
              "      <td>...</td>\n",
              "      <td>...</td>\n",
              "      <td>...</td>\n",
              "      <td>...</td>\n",
              "    </tr>\n",
              "    <tr>\n",
              "      <th>2020-04-27</th>\n",
              "      <td>1.2369</td>\n",
              "      <td>1.2454</td>\n",
              "      <td>1.2361</td>\n",
              "      <td>1.2367</td>\n",
              "      <td>0</td>\n",
              "      <td>0</td>\n",
              "      <td>0</td>\n",
              "    </tr>\n",
              "    <tr>\n",
              "      <th>2020-04-28</th>\n",
              "      <td>1.2422</td>\n",
              "      <td>1.2518</td>\n",
              "      <td>1.2406</td>\n",
              "      <td>1.2423</td>\n",
              "      <td>0</td>\n",
              "      <td>0</td>\n",
              "      <td>0</td>\n",
              "    </tr>\n",
              "    <tr>\n",
              "      <th>2020-04-29</th>\n",
              "      <td>1.2434</td>\n",
              "      <td>1.2486</td>\n",
              "      <td>1.2390</td>\n",
              "      <td>1.2436</td>\n",
              "      <td>0</td>\n",
              "      <td>0</td>\n",
              "      <td>0</td>\n",
              "    </tr>\n",
              "    <tr>\n",
              "      <th>2020-04-30</th>\n",
              "      <td>1.2469</td>\n",
              "      <td>1.2638</td>\n",
              "      <td>1.2430</td>\n",
              "      <td>1.2471</td>\n",
              "      <td>0</td>\n",
              "      <td>0</td>\n",
              "      <td>0</td>\n",
              "    </tr>\n",
              "    <tr>\n",
              "      <th>2020-05-01</th>\n",
              "      <td>1.2581</td>\n",
              "      <td>1.2581</td>\n",
              "      <td>1.2504</td>\n",
              "      <td>1.2581</td>\n",
              "      <td>0</td>\n",
              "      <td>0</td>\n",
              "      <td>0</td>\n",
              "    </tr>\n",
              "  </tbody>\n",
              "</table>\n",
              "<p>4268 rows × 7 columns</p>\n",
              "</div>"
            ],
            "text/plain": [
              "              Open    High     Low   Close  Volume  Dividends  Stock Splits\n",
              "Date                                                                       \n",
              "2003-12-01  1.7238  1.7272  1.7184  1.7186       0          0             0\n",
              "2003-12-02  1.7190  1.7321  1.7173  1.7303       0          0             0\n",
              "2003-12-03  1.7305  1.7318  1.7252  1.7281       0          0             0\n",
              "2003-12-04  1.7274  1.7290  1.7183  1.7207       0          0             0\n",
              "2003-12-05  1.7206  1.7331  1.7198  1.7331       0          0             0\n",
              "...            ...     ...     ...     ...     ...        ...           ...\n",
              "2020-04-27  1.2369  1.2454  1.2361  1.2367       0          0             0\n",
              "2020-04-28  1.2422  1.2518  1.2406  1.2423       0          0             0\n",
              "2020-04-29  1.2434  1.2486  1.2390  1.2436       0          0             0\n",
              "2020-04-30  1.2469  1.2638  1.2430  1.2471       0          0             0\n",
              "2020-05-01  1.2581  1.2581  1.2504  1.2581       0          0             0\n",
              "\n",
              "[4268 rows x 7 columns]"
            ]
          },
          "metadata": {
            "tags": []
          },
          "execution_count": 6
        }
      ]
    },
    {
      "cell_type": "code",
      "metadata": {
        "id": "ooKSszGcmrIy",
        "colab_type": "code",
        "outputId": "5f48c836-3a69-4027-a102-4d2f8e80773c",
        "colab": {
          "base_uri": "https://localhost:8080/",
          "height": 35
        }
      },
      "source": [
        "hist.Open.shape[0]"
      ],
      "execution_count": 0,
      "outputs": [
        {
          "output_type": "execute_result",
          "data": {
            "text/plain": [
              "4268"
            ]
          },
          "metadata": {
            "tags": []
          },
          "execution_count": 7
        }
      ]
    },
    {
      "cell_type": "markdown",
      "metadata": {
        "id": "wBAClK2YWxj-",
        "colab_type": "text"
      },
      "source": [
        "# Расчет срабатываний ордеров"
      ]
    },
    {
      "cell_type": "code",
      "metadata": {
        "id": "j1ov2YIWv1FP",
        "colab_type": "code",
        "colab": {}
      },
      "source": [
        "buy,sell = abscur.trading.get_order_set(hist,tp=0.007)"
      ],
      "execution_count": 0,
      "outputs": []
    },
    {
      "cell_type": "code",
      "metadata": {
        "id": "PsGpB5NDxSIa",
        "colab_type": "code",
        "outputId": "3d6f065f-4732-409e-f4c9-089216c01b25",
        "colab": {
          "base_uri": "https://localhost:8080/",
          "height": 69
        }
      },
      "source": [
        "pd.Series(buy,dtype=int).value_counts()"
      ],
      "execution_count": 0,
      "outputs": [
        {
          "output_type": "execute_result",
          "data": {
            "text/plain": [
              "0    2668\n",
              "1    1600\n",
              "dtype: int64"
            ]
          },
          "metadata": {
            "tags": []
          },
          "execution_count": 9
        }
      ]
    },
    {
      "cell_type": "code",
      "metadata": {
        "id": "y2cLSJGryzWH",
        "colab_type": "code",
        "outputId": "10a49f8e-631e-41f2-e1b3-fb4d58793e49",
        "colab": {
          "base_uri": "https://localhost:8080/",
          "height": 69
        }
      },
      "source": [
        "pd.Series(sell,dtype=int).value_counts()"
      ],
      "execution_count": 0,
      "outputs": [
        {
          "output_type": "execute_result",
          "data": {
            "text/plain": [
              "0    2609\n",
              "1    1659\n",
              "dtype: int64"
            ]
          },
          "metadata": {
            "tags": []
          },
          "execution_count": 10
        }
      ]
    },
    {
      "cell_type": "code",
      "metadata": {
        "id": "DM7UwLBDlPkl",
        "colab_type": "code",
        "colab": {}
      },
      "source": [
        "def order_res_to_profit(order_res,tp=0.01,sl=0.005):\n",
        "    \"\"\"\n",
        "    функция получения финансового результата от отработки ордеров\n",
        "\n",
        "    Параметры: \n",
        "    order_res - ряд результатов отработки ордера (0-неудачно, 1-удачно)\n",
        "    tp - уровень TakeProfit (доля от единицы)\n",
        "    sl - уровень StopLoss (доля от единицы)\n",
        "\n",
        "    Результат:\n",
        "    res - ряд результатов (относительных изменений) для каждого тика\n",
        "    \"\"\"\n",
        "    res = np.zeros_like(order_res)\n",
        "    res[order_res==1] = + tp\n",
        "    res[order_res==0] = - sl\n",
        "    return res"
      ],
      "execution_count": 0,
      "outputs": []
    },
    {
      "cell_type": "markdown",
      "metadata": {
        "id": "GEPn9DnEW5pv",
        "colab_type": "text"
      },
      "source": [
        "# Расчет доходности ордеров"
      ]
    },
    {
      "cell_type": "code",
      "metadata": {
        "id": "1frMY6NlrEuy",
        "colab_type": "code",
        "colab": {}
      },
      "source": [
        "buy_res = order_res_to_profit(buy,tp=0.007)\n",
        "sell_res = order_res_to_profit(sell,tp=0.007)"
      ],
      "execution_count": 0,
      "outputs": []
    },
    {
      "cell_type": "code",
      "metadata": {
        "id": "6xVF_w9g5gYu",
        "colab_type": "code",
        "outputId": "caeb67b7-4afd-4d6a-9377-c17e71111017",
        "colab": {
          "base_uri": "https://localhost:8080/",
          "height": 473
        }
      },
      "source": [
        "plt.plot(buy_res[-100:],label='buy_res')\n",
        "plt.plot(sell_res[-100:],label='sell_res')\n",
        "order_res = buy_res + sell_res\n",
        "plt.plot(order_res[-100:],label='order_res')\n",
        "plt.legend()\n",
        "plt.show()\n",
        "print('buy_res (mean={})'.format(buy_res.mean()))\n",
        "print(pd.Series(buy_res).value_counts())\n",
        "print('sell_res (mean={})'.format(sell_res.mean()))\n",
        "print(pd.Series(sell_res).value_counts())\n",
        "print('order_res (mean={})'.format(order_res.mean()))\n",
        "print(pd.Series(order_res).value_counts())"
      ],
      "execution_count": 0,
      "outputs": [
        {
          "output_type": "display_data",
          "data": {
            "image/png": "[encoded data removed]",
            "text/plain": [
              "<Figure size 432x288 with 1 Axes>"
            ]
          },
          "metadata": {
            "tags": [],
            "needs_background": "light"
          }
        },
        {
          "output_type": "stream",
          "text": [
            "buy_res (mean=-0.0005014058106841613)\n",
            "-0.005    2668\n",
            " 0.007    1600\n",
            "dtype: int64\n",
            "sell_res (mean=-0.0003355201499531397)\n",
            "-0.005    2609\n",
            " 0.007    1659\n",
            "dtype: int64\n",
            "order_res (mean=-0.0008369259606373009)\n",
            " 0.002    3259\n",
            "-0.010    1009\n",
            "dtype: int64\n"
          ],
          "name": "stdout"
        }
      ]
    },
    {
      "cell_type": "markdown",
      "metadata": {
        "id": "3my7BaGwXA5X",
        "colab_type": "text"
      },
      "source": [
        "# Ищем уровни для максимизации доходности"
      ]
    },
    {
      "cell_type": "code",
      "metadata": {
        "id": "oA7abTrPIhDD",
        "colab_type": "code",
        "colab": {}
      },
      "source": [
        "def test1(ohlc_df,tp,sl,dist):\n",
        "    buy,sell = abscur.trading.get_order_set(ohlc_df,tp,sl,dist)\n",
        "    buy_res = order_res_to_profit(buy,tp,sl)\n",
        "    sell_res = order_res_to_profit(sell,tp,sl)\n",
        "    order_res = buy_res + sell_res\n",
        "    return order_res.mean()"
      ],
      "execution_count": 0,
      "outputs": []
    },
    {
      "cell_type": "code",
      "metadata": {
        "id": "grQ9M481Jhks",
        "colab_type": "code",
        "outputId": "90963818-5bbb-44ce-ddf8-c4cd44edd685",
        "colab": {
          "base_uri": "https://localhost:8080/",
          "height": 35
        }
      },
      "source": [
        "test1(hist,tp=0.01,sl=0.005,dist=7)"
      ],
      "execution_count": 0,
      "outputs": [
        {
          "output_type": "execute_result",
          "data": {
            "text/plain": [
              "-0.0007778819119025305"
            ]
          },
          "metadata": {
            "tags": []
          },
          "execution_count": 30
        }
      ]
    },
    {
      "cell_type": "code",
      "metadata": {
        "id": "ERtZXmNjJ4ta",
        "colab_type": "code",
        "outputId": "b5c5f25b-aad5-42c5-c2e6-f30983554e81",
        "colab": {
          "base_uri": "https://localhost:8080/",
          "height": 1000
        }
      },
      "source": [
        "tp_cnt = 20\n",
        "sl_cnt = 20\n",
        "tp_set = np.linspace(0.0001,0.05,tp_cnt)\n",
        "sl_set = np.linspace(0.0001,0.05,sl_cnt)\n",
        "res = np.zeros((tp_cnt,sl_cnt))\n",
        "for i in range(tp_cnt):\n",
        "    for k in range(sl_cnt):\n",
        "        res[i,k] = test1(hist,tp_set[i],sl_set[k],dist=7)\n",
        "        print('tp={:.4f}, sl={:.4f}, res={:.4f}'.format(tp_set[i],sl_set[k],res[i,k]))\n",
        "        \n",
        "    "
      ],
      "execution_count": 0,
      "outputs": [
        {
          "output_type": "stream",
          "text": [
            "tp=0.0001, sl=0.0001, res=-0.0002\n",
            "tp=0.0001, sl=0.0027, res=-0.0027\n",
            "tp=0.0001, sl=0.0054, res=-0.0026\n",
            "tp=0.0001, sl=0.0080, res=-0.0018\n",
            "tp=0.0001, sl=0.0106, res=-0.0012\n",
            "tp=0.0001, sl=0.0132, res=-0.0008\n",
            "tp=0.0001, sl=0.0159, res=-0.0007\n",
            "tp=0.0001, sl=0.0185, res=-0.0006\n",
            "tp=0.0001, sl=0.0211, res=-0.0005\n",
            "tp=0.0001, sl=0.0237, res=-0.0005\n",
            "tp=0.0001, sl=0.0264, res=-0.0006\n",
            "tp=0.0001, sl=0.0290, res=-0.0006\n",
            "tp=0.0001, sl=0.0316, res=-0.0006\n",
            "tp=0.0001, sl=0.0342, res=-0.0007\n",
            "tp=0.0001, sl=0.0369, res=-0.0007\n",
            "tp=0.0001, sl=0.0395, res=-0.0008\n",
            "tp=0.0001, sl=0.0421, res=-0.0008\n",
            "tp=0.0001, sl=0.0447, res=-0.0009\n",
            "tp=0.0001, sl=0.0474, res=-0.0009\n",
            "tp=0.0001, sl=0.0500, res=-0.0010\n",
            "tp=0.0027, sl=0.0001, res=-0.0000\n",
            "tp=0.0027, sl=0.0027, res=-0.0010\n",
            "tp=0.0027, sl=0.0054, res=-0.0010\n",
            "tp=0.0027, sl=0.0080, res=-0.0009\n",
            "tp=0.0027, sl=0.0106, res=-0.0011\n",
            "tp=0.0027, sl=0.0132, res=-0.0014\n",
            "tp=0.0027, sl=0.0159, res=-0.0020\n",
            "tp=0.0027, sl=0.0185, res=-0.0027\n",
            "tp=0.0027, sl=0.0211, res=-0.0035\n",
            "tp=0.0027, sl=0.0237, res=-0.0044\n",
            "tp=0.0027, sl=0.0264, res=-0.0053\n",
            "tp=0.0027, sl=0.0290, res=-0.0062\n",
            "tp=0.0027, sl=0.0316, res=-0.0071\n",
            "tp=0.0027, sl=0.0342, res=-0.0081\n",
            "tp=0.0027, sl=0.0369, res=-0.0090\n",
            "tp=0.0027, sl=0.0395, res=-0.0099\n",
            "tp=0.0027, sl=0.0421, res=-0.0109\n",
            "tp=0.0027, sl=0.0447, res=-0.0118\n",
            "tp=0.0027, sl=0.0474, res=-0.0128\n",
            "tp=0.0027, sl=0.0500, res=-0.0137\n",
            "tp=0.0054, sl=0.0001, res=0.0001\n",
            "tp=0.0054, sl=0.0027, res=-0.0003\n",
            "tp=0.0054, sl=0.0054, res=-0.0005\n",
            "tp=0.0054, sl=0.0080, res=-0.0008\n",
            "tp=0.0054, sl=0.0106, res=-0.0014\n",
            "tp=0.0054, sl=0.0132, res=-0.0025\n",
            "tp=0.0054, sl=0.0159, res=-0.0038\n",
            "tp=0.0054, sl=0.0185, res=-0.0053\n",
            "tp=0.0054, sl=0.0211, res=-0.0069\n",
            "tp=0.0054, sl=0.0237, res=-0.0085\n",
            "tp=0.0054, sl=0.0264, res=-0.0101\n",
            "tp=0.0054, sl=0.0290, res=-0.0118\n",
            "tp=0.0054, sl=0.0316, res=-0.0135\n",
            "tp=0.0054, sl=0.0342, res=-0.0152\n",
            "tp=0.0054, sl=0.0369, res=-0.0169\n",
            "tp=0.0054, sl=0.0395, res=-0.0186\n",
            "tp=0.0054, sl=0.0421, res=-0.0203\n",
            "tp=0.0054, sl=0.0447, res=-0.0220\n",
            "tp=0.0054, sl=0.0474, res=-0.0237\n",
            "tp=0.0054, sl=0.0500, res=-0.0254\n",
            "tp=0.0080, sl=0.0001, res=0.0001\n",
            "tp=0.0080, sl=0.0027, res=-0.0000\n",
            "tp=0.0080, sl=0.0054, res=-0.0005\n",
            "tp=0.0080, sl=0.0080, res=-0.0014\n",
            "tp=0.0080, sl=0.0106, res=-0.0027\n",
            "tp=0.0080, sl=0.0132, res=-0.0045\n",
            "tp=0.0080, sl=0.0159, res=-0.0065\n",
            "tp=0.0080, sl=0.0185, res=-0.0087\n",
            "tp=0.0080, sl=0.0211, res=-0.0109\n",
            "tp=0.0080, sl=0.0237, res=-0.0133\n",
            "tp=0.0080, sl=0.0264, res=-0.0156\n",
            "tp=0.0080, sl=0.0290, res=-0.0179\n",
            "tp=0.0080, sl=0.0316, res=-0.0203\n",
            "tp=0.0080, sl=0.0342, res=-0.0227\n",
            "tp=0.0080, sl=0.0369, res=-0.0250\n",
            "tp=0.0080, sl=0.0395, res=-0.0274\n",
            "tp=0.0080, sl=0.0421, res=-0.0298\n",
            "tp=0.0080, sl=0.0447, res=-0.0322\n",
            "tp=0.0080, sl=0.0474, res=-0.0346\n",
            "tp=0.0080, sl=0.0500, res=-0.0370\n",
            "tp=0.0106, sl=0.0001, res=0.0002\n",
            "tp=0.0106, sl=0.0027, res=-0.0001\n",
            "tp=0.0106, sl=0.0054, res=-0.0011\n",
            "tp=0.0106, sl=0.0080, res=-0.0027\n",
            "tp=0.0106, sl=0.0106, res=-0.0047\n",
            "tp=0.0106, sl=0.0132, res=-0.0073\n",
            "tp=0.0106, sl=0.0159, res=-0.0100\n",
            "tp=0.0106, sl=0.0185, res=-0.0129\n",
            "tp=0.0106, sl=0.0211, res=-0.0157\n",
            "tp=0.0106, sl=0.0237, res=-0.0187\n",
            "tp=0.0106, sl=0.0264, res=-0.0217\n",
            "tp=0.0106, sl=0.0290, res=-0.0246\n",
            "tp=0.0106, sl=0.0316, res=-0.0276\n",
            "tp=0.0106, sl=0.0342, res=-0.0306\n",
            "tp=0.0106, sl=0.0369, res=-0.0336\n",
            "tp=0.0106, sl=0.0395, res=-0.0367\n",
            "tp=0.0106, sl=0.0421, res=-0.0397\n",
            "tp=0.0106, sl=0.0447, res=-0.0427\n",
            "tp=0.0106, sl=0.0474, res=-0.0457\n",
            "tp=0.0106, sl=0.0500, res=-0.0488\n",
            "tp=0.0132, sl=0.0001, res=0.0002\n",
            "tp=0.0132, sl=0.0027, res=-0.0003\n",
            "tp=0.0132, sl=0.0054, res=-0.0019\n",
            "tp=0.0132, sl=0.0080, res=-0.0041\n",
            "tp=0.0132, sl=0.0106, res=-0.0067\n",
            "tp=0.0132, sl=0.0132, res=-0.0098\n",
            "tp=0.0132, sl=0.0159, res=-0.0131\n",
            "tp=0.0132, sl=0.0185, res=-0.0165\n",
            "tp=0.0132, sl=0.0211, res=-0.0198\n",
            "tp=0.0132, sl=0.0237, res=-0.0233\n",
            "tp=0.0132, sl=0.0264, res=-0.0267\n",
            "tp=0.0132, sl=0.0290, res=-0.0302\n",
            "tp=0.0132, sl=0.0316, res=-0.0336\n",
            "tp=0.0132, sl=0.0342, res=-0.0372\n",
            "tp=0.0132, sl=0.0369, res=-0.0406\n",
            "tp=0.0132, sl=0.0395, res=-0.0442\n",
            "tp=0.0132, sl=0.0421, res=-0.0477\n",
            "tp=0.0132, sl=0.0447, res=-0.0512\n",
            "tp=0.0132, sl=0.0474, res=-0.0547\n",
            "tp=0.0132, sl=0.0500, res=-0.0582\n",
            "tp=0.0159, sl=0.0001, res=0.0002\n",
            "tp=0.0159, sl=0.0027, res=-0.0009\n",
            "tp=0.0159, sl=0.0054, res=-0.0032\n",
            "tp=0.0159, sl=0.0080, res=-0.0060\n",
            "tp=0.0159, sl=0.0106, res=-0.0092\n",
            "tp=0.0159, sl=0.0132, res=-0.0127\n",
            "tp=0.0159, sl=0.0159, res=-0.0165\n",
            "tp=0.0159, sl=0.0185, res=-0.0204\n",
            "tp=0.0159, sl=0.0211, res=-0.0242\n",
            "tp=0.0159, sl=0.0237, res=-0.0281\n",
            "tp=0.0159, sl=0.0264, res=-0.0320\n",
            "tp=0.0159, sl=0.0290, res=-0.0359\n",
            "tp=0.0159, sl=0.0316, res=-0.0397\n",
            "tp=0.0159, sl=0.0342, res=-0.0437\n",
            "tp=0.0159, sl=0.0369, res=-0.0476\n",
            "tp=0.0159, sl=0.0395, res=-0.0515\n",
            "tp=0.0159, sl=0.0421, res=-0.0555\n",
            "tp=0.0159, sl=0.0447, res=-0.0594\n",
            "tp=0.0159, sl=0.0474, res=-0.0633\n",
            "tp=0.0159, sl=0.0500, res=-0.0673\n",
            "tp=0.0185, sl=0.0001, res=0.0001\n",
            "tp=0.0185, sl=0.0027, res=-0.0016\n",
            "tp=0.0185, sl=0.0054, res=-0.0043\n",
            "tp=0.0185, sl=0.0080, res=-0.0077\n",
            "tp=0.0185, sl=0.0106, res=-0.0114\n",
            "tp=0.0185, sl=0.0132, res=-0.0154\n",
            "tp=0.0185, sl=0.0159, res=-0.0195\n",
            "tp=0.0185, sl=0.0185, res=-0.0238\n",
            "tp=0.0185, sl=0.0211, res=-0.0279\n",
            "tp=0.0185, sl=0.0237, res=-0.0322\n",
            "tp=0.0185, sl=0.0264, res=-0.0364\n",
            "tp=0.0185, sl=0.0290, res=-0.0406\n",
            "tp=0.0185, sl=0.0316, res=-0.0448\n",
            "tp=0.0185, sl=0.0342, res=-0.0491\n",
            "tp=0.0185, sl=0.0369, res=-0.0533\n",
            "tp=0.0185, sl=0.0395, res=-0.0576\n",
            "tp=0.0185, sl=0.0421, res=-0.0619\n",
            "tp=0.0185, sl=0.0447, res=-0.0662\n",
            "tp=0.0185, sl=0.0474, res=-0.0704\n",
            "tp=0.0185, sl=0.0500, res=-0.0747\n",
            "tp=0.0211, sl=0.0001, res=0.0001\n",
            "tp=0.0211, sl=0.0027, res=-0.0022\n",
            "tp=0.0211, sl=0.0054, res=-0.0055\n",
            "tp=0.0211, sl=0.0080, res=-0.0094\n",
            "tp=0.0211, sl=0.0106, res=-0.0134\n",
            "tp=0.0211, sl=0.0132, res=-0.0177\n",
            "tp=0.0211, sl=0.0159, res=-0.0221\n",
            "tp=0.0211, sl=0.0185, res=-0.0266\n",
            "tp=0.0211, sl=0.0211, res=-0.0310\n",
            "tp=0.0211, sl=0.0237, res=-0.0355\n",
            "tp=0.0211, sl=0.0264, res=-0.0399\n",
            "tp=0.0211, sl=0.0290, res=-0.0445\n",
            "tp=0.0211, sl=0.0316, res=-0.0489\n",
            "tp=0.0211, sl=0.0342, res=-0.0535\n",
            "tp=0.0211, sl=0.0369, res=-0.0580\n",
            "tp=0.0211, sl=0.0395, res=-0.0625\n",
            "tp=0.0211, sl=0.0421, res=-0.0670\n",
            "tp=0.0211, sl=0.0447, res=-0.0716\n",
            "tp=0.0211, sl=0.0474, res=-0.0761\n",
            "tp=0.0211, sl=0.0500, res=-0.0806\n",
            "tp=0.0237, sl=0.0001, res=0.0000\n",
            "tp=0.0237, sl=0.0027, res=-0.0028\n",
            "tp=0.0237, sl=0.0054, res=-0.0066\n",
            "tp=0.0237, sl=0.0080, res=-0.0108\n",
            "tp=0.0237, sl=0.0106, res=-0.0151\n",
            "tp=0.0237, sl=0.0132, res=-0.0196\n",
            "tp=0.0237, sl=0.0159, res=-0.0242\n",
            "tp=0.0237, sl=0.0185, res=-0.0288\n",
            "tp=0.0237, sl=0.0211, res=-0.0334\n",
            "tp=0.0237, sl=0.0237, res=-0.0381\n",
            "tp=0.0237, sl=0.0264, res=-0.0427\n",
            "tp=0.0237, sl=0.0290, res=-0.0474\n",
            "tp=0.0237, sl=0.0316, res=-0.0521\n",
            "tp=0.0237, sl=0.0342, res=-0.0569\n",
            "tp=0.0237, sl=0.0369, res=-0.0616\n",
            "tp=0.0237, sl=0.0395, res=-0.0663\n",
            "tp=0.0237, sl=0.0421, res=-0.0710\n",
            "tp=0.0237, sl=0.0447, res=-0.0757\n",
            "tp=0.0237, sl=0.0474, res=-0.0805\n",
            "tp=0.0237, sl=0.0500, res=-0.0852\n",
            "tp=0.0264, sl=0.0001, res=-0.0000\n",
            "tp=0.0264, sl=0.0027, res=-0.0034\n",
            "tp=0.0264, sl=0.0054, res=-0.0075\n",
            "tp=0.0264, sl=0.0080, res=-0.0119\n",
            "tp=0.0264, sl=0.0106, res=-0.0164\n",
            "tp=0.0264, sl=0.0132, res=-0.0211\n",
            "tp=0.0264, sl=0.0159, res=-0.0259\n",
            "tp=0.0264, sl=0.0185, res=-0.0307\n",
            "tp=0.0264, sl=0.0211, res=-0.0354\n",
            "tp=0.0264, sl=0.0237, res=-0.0402\n",
            "tp=0.0264, sl=0.0264, res=-0.0450\n",
            "tp=0.0264, sl=0.0290, res=-0.0498\n",
            "tp=0.0264, sl=0.0316, res=-0.0547\n",
            "tp=0.0264, sl=0.0342, res=-0.0595\n",
            "tp=0.0264, sl=0.0369, res=-0.0644\n",
            "tp=0.0264, sl=0.0395, res=-0.0692\n",
            "tp=0.0264, sl=0.0421, res=-0.0741\n",
            "tp=0.0264, sl=0.0447, res=-0.0790\n",
            "tp=0.0264, sl=0.0474, res=-0.0838\n",
            "tp=0.0264, sl=0.0500, res=-0.0887\n",
            "tp=0.0290, sl=0.0001, res=-0.0000\n",
            "tp=0.0290, sl=0.0027, res=-0.0038\n",
            "tp=0.0290, sl=0.0054, res=-0.0080\n",
            "tp=0.0290, sl=0.0080, res=-0.0127\n",
            "tp=0.0290, sl=0.0106, res=-0.0173\n",
            "tp=0.0290, sl=0.0132, res=-0.0221\n",
            "tp=0.0290, sl=0.0159, res=-0.0269\n",
            "tp=0.0290, sl=0.0185, res=-0.0318\n",
            "tp=0.0290, sl=0.0211, res=-0.0367\n",
            "tp=0.0290, sl=0.0237, res=-0.0416\n",
            "tp=0.0290, sl=0.0264, res=-0.0464\n",
            "tp=0.0290, sl=0.0290, res=-0.0514\n",
            "tp=0.0290, sl=0.0316, res=-0.0563\n",
            "tp=0.0290, sl=0.0342, res=-0.0613\n",
            "tp=0.0290, sl=0.0369, res=-0.0662\n",
            "tp=0.0290, sl=0.0395, res=-0.0711\n",
            "tp=0.0290, sl=0.0421, res=-0.0761\n",
            "tp=0.0290, sl=0.0447, res=-0.0810\n",
            "tp=0.0290, sl=0.0474, res=-0.0860\n",
            "tp=0.0290, sl=0.0500, res=-0.0909\n",
            "tp=0.0316, sl=0.0001, res=-0.0001\n",
            "tp=0.0316, sl=0.0027, res=-0.0042\n",
            "tp=0.0316, sl=0.0054, res=-0.0087\n",
            "tp=0.0316, sl=0.0080, res=-0.0135\n",
            "tp=0.0316, sl=0.0106, res=-0.0183\n",
            "tp=0.0316, sl=0.0132, res=-0.0231\n",
            "tp=0.0316, sl=0.0159, res=-0.0280\n",
            "tp=0.0316, sl=0.0185, res=-0.0330\n",
            "tp=0.0316, sl=0.0211, res=-0.0379\n",
            "tp=0.0316, sl=0.0237, res=-0.0430\n",
            "tp=0.0316, sl=0.0264, res=-0.0479\n",
            "tp=0.0316, sl=0.0290, res=-0.0529\n",
            "tp=0.0316, sl=0.0316, res=-0.0579\n",
            "tp=0.0316, sl=0.0342, res=-0.0630\n",
            "tp=0.0316, sl=0.0369, res=-0.0680\n",
            "tp=0.0316, sl=0.0395, res=-0.0730\n",
            "tp=0.0316, sl=0.0421, res=-0.0780\n",
            "tp=0.0316, sl=0.0447, res=-0.0831\n",
            "tp=0.0316, sl=0.0474, res=-0.0881\n",
            "tp=0.0316, sl=0.0500, res=-0.0931\n",
            "tp=0.0342, sl=0.0001, res=-0.0001\n",
            "tp=0.0342, sl=0.0027, res=-0.0044\n",
            "tp=0.0342, sl=0.0054, res=-0.0091\n",
            "tp=0.0342, sl=0.0080, res=-0.0139\n",
            "tp=0.0342, sl=0.0106, res=-0.0187\n",
            "tp=0.0342, sl=0.0132, res=-0.0236\n",
            "tp=0.0342, sl=0.0159, res=-0.0286\n",
            "tp=0.0342, sl=0.0185, res=-0.0336\n",
            "tp=0.0342, sl=0.0211, res=-0.0386\n",
            "tp=0.0342, sl=0.0237, res=-0.0436\n",
            "tp=0.0342, sl=0.0264, res=-0.0486\n",
            "tp=0.0342, sl=0.0290, res=-0.0537\n",
            "tp=0.0342, sl=0.0316, res=-0.0587\n",
            "tp=0.0342, sl=0.0342, res=-0.0638\n",
            "tp=0.0342, sl=0.0369, res=-0.0689\n",
            "tp=0.0342, sl=0.0395, res=-0.0739\n",
            "tp=0.0342, sl=0.0421, res=-0.0790\n",
            "tp=0.0342, sl=0.0447, res=-0.0841\n",
            "tp=0.0342, sl=0.0474, res=-0.0891\n",
            "tp=0.0342, sl=0.0500, res=-0.0942\n",
            "tp=0.0369, sl=0.0001, res=-0.0001\n",
            "tp=0.0369, sl=0.0027, res=-0.0046\n",
            "tp=0.0369, sl=0.0054, res=-0.0093\n",
            "tp=0.0369, sl=0.0080, res=-0.0142\n",
            "tp=0.0369, sl=0.0106, res=-0.0191\n",
            "tp=0.0369, sl=0.0132, res=-0.0240\n",
            "tp=0.0369, sl=0.0159, res=-0.0290\n",
            "tp=0.0369, sl=0.0185, res=-0.0341\n",
            "tp=0.0369, sl=0.0211, res=-0.0391\n",
            "tp=0.0369, sl=0.0237, res=-0.0442\n",
            "tp=0.0369, sl=0.0264, res=-0.0492\n",
            "tp=0.0369, sl=0.0290, res=-0.0543\n",
            "tp=0.0369, sl=0.0316, res=-0.0594\n",
            "tp=0.0369, sl=0.0342, res=-0.0645\n",
            "tp=0.0369, sl=0.0369, res=-0.0696\n",
            "tp=0.0369, sl=0.0395, res=-0.0747\n",
            "tp=0.0369, sl=0.0421, res=-0.0798\n",
            "tp=0.0369, sl=0.0447, res=-0.0849\n",
            "tp=0.0369, sl=0.0474, res=-0.0900\n",
            "tp=0.0369, sl=0.0500, res=-0.0951\n",
            "tp=0.0395, sl=0.0001, res=-0.0001\n",
            "tp=0.0395, sl=0.0027, res=-0.0048\n",
            "tp=0.0395, sl=0.0054, res=-0.0096\n",
            "tp=0.0395, sl=0.0080, res=-0.0145\n",
            "tp=0.0395, sl=0.0106, res=-0.0194\n",
            "tp=0.0395, sl=0.0132, res=-0.0244\n",
            "tp=0.0395, sl=0.0159, res=-0.0294\n",
            "tp=0.0395, sl=0.0185, res=-0.0346\n",
            "tp=0.0395, sl=0.0211, res=-0.0396\n",
            "tp=0.0395, sl=0.0237, res=-0.0447\n",
            "tp=0.0395, sl=0.0264, res=-0.0498\n",
            "tp=0.0395, sl=0.0290, res=-0.0549\n",
            "tp=0.0395, sl=0.0316, res=-0.0600\n",
            "tp=0.0395, sl=0.0342, res=-0.0651\n",
            "tp=0.0395, sl=0.0369, res=-0.0702\n",
            "tp=0.0395, sl=0.0395, res=-0.0754\n",
            "tp=0.0395, sl=0.0421, res=-0.0805\n",
            "tp=0.0395, sl=0.0447, res=-0.0856\n",
            "tp=0.0395, sl=0.0474, res=-0.0908\n",
            "tp=0.0395, sl=0.0500, res=-0.0959\n",
            "tp=0.0421, sl=0.0001, res=-0.0001\n",
            "tp=0.0421, sl=0.0027, res=-0.0048\n",
            "tp=0.0421, sl=0.0054, res=-0.0097\n",
            "tp=0.0421, sl=0.0080, res=-0.0147\n",
            "tp=0.0421, sl=0.0106, res=-0.0196\n",
            "tp=0.0421, sl=0.0132, res=-0.0246\n",
            "tp=0.0421, sl=0.0159, res=-0.0297\n",
            "tp=0.0421, sl=0.0185, res=-0.0348\n",
            "tp=0.0421, sl=0.0211, res=-0.0399\n",
            "tp=0.0421, sl=0.0237, res=-0.0450\n",
            "tp=0.0421, sl=0.0264, res=-0.0501\n",
            "tp=0.0421, sl=0.0290, res=-0.0553\n",
            "tp=0.0421, sl=0.0316, res=-0.0604\n",
            "tp=0.0421, sl=0.0342, res=-0.0655\n",
            "tp=0.0421, sl=0.0369, res=-0.0707\n",
            "tp=0.0421, sl=0.0395, res=-0.0758\n",
            "tp=0.0421, sl=0.0421, res=-0.0810\n",
            "tp=0.0421, sl=0.0447, res=-0.0861\n",
            "tp=0.0421, sl=0.0474, res=-0.0913\n",
            "tp=0.0421, sl=0.0500, res=-0.0964\n",
            "tp=0.0447, sl=0.0001, res=-0.0001\n",
            "tp=0.0447, sl=0.0027, res=-0.0049\n",
            "tp=0.0447, sl=0.0054, res=-0.0099\n",
            "tp=0.0447, sl=0.0080, res=-0.0148\n",
            "tp=0.0447, sl=0.0106, res=-0.0198\n",
            "tp=0.0447, sl=0.0132, res=-0.0248\n",
            "tp=0.0447, sl=0.0159, res=-0.0300\n",
            "tp=0.0447, sl=0.0185, res=-0.0351\n",
            "tp=0.0447, sl=0.0211, res=-0.0402\n",
            "tp=0.0447, sl=0.0237, res=-0.0453\n",
            "tp=0.0447, sl=0.0264, res=-0.0504\n",
            "tp=0.0447, sl=0.0290, res=-0.0556\n",
            "tp=0.0447, sl=0.0316, res=-0.0607\n",
            "tp=0.0447, sl=0.0342, res=-0.0659\n",
            "tp=0.0447, sl=0.0369, res=-0.0711\n",
            "tp=0.0447, sl=0.0395, res=-0.0762\n",
            "tp=0.0447, sl=0.0421, res=-0.0814\n",
            "tp=0.0447, sl=0.0447, res=-0.0866\n",
            "tp=0.0447, sl=0.0474, res=-0.0917\n",
            "tp=0.0447, sl=0.0500, res=-0.0969\n",
            "tp=0.0474, sl=0.0001, res=-0.0002\n",
            "tp=0.0474, sl=0.0027, res=-0.0050\n",
            "tp=0.0474, sl=0.0054, res=-0.0100\n",
            "tp=0.0474, sl=0.0080, res=-0.0150\n",
            "tp=0.0474, sl=0.0106, res=-0.0200\n",
            "tp=0.0474, sl=0.0132, res=-0.0251\n",
            "tp=0.0474, sl=0.0159, res=-0.0302\n",
            "tp=0.0474, sl=0.0185, res=-0.0354\n",
            "tp=0.0474, sl=0.0211, res=-0.0405\n",
            "tp=0.0474, sl=0.0237, res=-0.0457\n",
            "tp=0.0474, sl=0.0264, res=-0.0508\n",
            "tp=0.0474, sl=0.0290, res=-0.0559\n",
            "tp=0.0474, sl=0.0316, res=-0.0611\n",
            "tp=0.0474, sl=0.0342, res=-0.0663\n",
            "tp=0.0474, sl=0.0369, res=-0.0714\n",
            "tp=0.0474, sl=0.0395, res=-0.0766\n",
            "tp=0.0474, sl=0.0421, res=-0.0818\n",
            "tp=0.0474, sl=0.0447, res=-0.0870\n",
            "tp=0.0474, sl=0.0474, res=-0.0922\n",
            "tp=0.0474, sl=0.0500, res=-0.0973\n",
            "tp=0.0500, sl=0.0001, res=-0.0002\n",
            "tp=0.0500, sl=0.0027, res=-0.0051\n",
            "tp=0.0500, sl=0.0054, res=-0.0101\n",
            "tp=0.0500, sl=0.0080, res=-0.0151\n",
            "tp=0.0500, sl=0.0106, res=-0.0202\n",
            "tp=0.0500, sl=0.0132, res=-0.0252\n",
            "tp=0.0500, sl=0.0159, res=-0.0304\n",
            "tp=0.0500, sl=0.0185, res=-0.0356\n",
            "tp=0.0500, sl=0.0211, res=-0.0406\n",
            "tp=0.0500, sl=0.0237, res=-0.0458\n",
            "tp=0.0500, sl=0.0264, res=-0.0510\n",
            "tp=0.0500, sl=0.0290, res=-0.0562\n",
            "tp=0.0500, sl=0.0316, res=-0.0613\n",
            "tp=0.0500, sl=0.0342, res=-0.0665\n",
            "tp=0.0500, sl=0.0369, res=-0.0717\n",
            "tp=0.0500, sl=0.0395, res=-0.0769\n",
            "tp=0.0500, sl=0.0421, res=-0.0821\n",
            "tp=0.0500, sl=0.0447, res=-0.0873\n",
            "tp=0.0500, sl=0.0474, res=-0.0925\n",
            "tp=0.0500, sl=0.0500, res=-0.0977\n"
          ],
          "name": "stdout"
        }
      ]
    },
    {
      "cell_type": "code",
      "metadata": {
        "id": "MmU0n5CSMto-",
        "colab_type": "code",
        "outputId": "11e63d2b-86d9-4122-dd94-d853d6aaa9fa",
        "colab": {
          "base_uri": "https://localhost:8080/",
          "height": 483
        }
      },
      "source": [
        "plt.figure(figsize=(7,7))\n",
        "sns.heatmap(res,yticklabels=tp_set.round(4),xticklabels=sl_set.round(4))\n",
        "plt.xlabel('SL level')\n",
        "plt.ylabel('TP level')\n",
        "plt.title('Доходность при разных уровнях TP и SL')\n",
        "plt.show()"
      ],
      "execution_count": 0,
      "outputs": [
        {
          "output_type": "display_data",
          "data": {
            "image/png": "[encoded data removed]",
            "text/plain": [
              "<Figure size 504x504 with 2 Axes>"
            ]
          },
          "metadata": {
            "tags": [],
            "needs_background": "light"
          }
        }
      ]
    },
    {
      "cell_type": "markdown",
      "metadata": {
        "id": "ruBmHGBjY8di",
        "colab_type": "text"
      },
      "source": [
        "# Выводы"
      ]
    },
    {
      "cell_type": "markdown",
      "metadata": {
        "id": "UzxWFYjyXJj5",
        "colab_type": "text"
      },
      "source": [
        "Максимальная доходность достигается, если в ордерах ставить SL на уровне 0.01% от уровня открытия и TP на уровне 0.5% от уровня открытия. \n",
        "\n",
        "По этой стратегии необходимо на каждом тике (начале торгового дня) открывать два ордера на продажу и на покупку с обозначенными выше TP и SL.\n",
        "\n",
        "И тогда есть шанс получить доходность в 0.02% в среднем на один тик (день). \n",
        "\n",
        "Но скорее всего всю доходность съест комиссия.\n",
        "\n",
        "В следующих экспериментах попробуем поточнее исследовать точку с максимальной доходностью. Еще не варьировали глубиной срабатывания ордера. Да и валютная пара была только одна. И с дневными тиками. Можно исследовать внутридневные."
      ]
    },
    {
      "cell_type": "markdown",
      "metadata": {
        "id": "OoCnMYinY_63",
        "colab_type": "text"
      },
      "source": [
        "Кроме того в библиотеку добавили два новых метода в новый созданный раздел \"Трейдинг\""
      ]
    }
  ]
}