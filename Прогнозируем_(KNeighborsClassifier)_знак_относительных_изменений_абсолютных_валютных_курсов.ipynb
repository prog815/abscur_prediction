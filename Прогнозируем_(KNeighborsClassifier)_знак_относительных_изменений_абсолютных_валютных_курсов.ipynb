{
  "nbformat": 4,
  "nbformat_minor": 0,
  "metadata": {
    "colab": {
      "name": "Прогнозируем (KNeighborsClassifier) знак относительных изменений абсолютных валютных курсов.ipynb",
      "provenance": [],
      "collapsed_sections": [],
      "toc_visible": true,
      "authorship_tag": "ABX9TyOED/pY3wPXPbow3IDVb2yc",
      "include_colab_link": true
    },
    "kernelspec": {
      "name": "python3",
      "display_name": "Python 3"
    }
  },
  "cells": [
    {
      "cell_type": "markdown",
      "metadata": {
        "id": "view-in-github",
        "colab_type": "text"
      },
      "source": [
        "<a href=\"https://colab.research.google.com/github/prog815/abscur_prediction/blob/master/%D0%9F%D1%80%D0%BE%D0%B3%D0%BD%D0%BE%D0%B7%D0%B8%D1%80%D1%83%D0%B5%D0%BC_(KNeighborsClassifier)_%D0%B7%D0%BD%D0%B0%D0%BA_%D0%BE%D1%82%D0%BD%D0%BE%D1%81%D0%B8%D1%82%D0%B5%D0%BB%D1%8C%D0%BD%D1%8B%D1%85_%D0%B8%D0%B7%D0%BC%D0%B5%D0%BD%D0%B5%D0%BD%D0%B8%D0%B9_%D0%B0%D0%B1%D1%81%D0%BE%D0%BB%D1%8E%D1%82%D0%BD%D1%8B%D1%85_%D0%B2%D0%B0%D0%BB%D1%8E%D1%82%D0%BD%D1%8B%D1%85_%D0%BA%D1%83%D1%80%D1%81%D0%BE%D0%B2.ipynb\" target=\"_parent\"><img src=\"https://colab.research.google.com/assets/colab-badge.svg\" alt=\"Open In Colab\"/></a>"
      ]
    },
    {
      "cell_type": "markdown",
      "metadata": {
        "id": "1mkX7IMcVHgR",
        "colab_type": "text"
      },
      "source": [
        "# **Прогнозируем (KNeighborsClassifier) знак относительных изменений абсолютных валютных курсов**"
      ]
    },
    {
      "cell_type": "markdown",
      "metadata": {
        "id": "aM--woXnu26D",
        "colab_type": "text"
      },
      "source": [
        "**Абсолютный курс**\n",
        "\n",
        "Енин А.В.\n",
        "\n",
        "г. Оренбург\n",
        "\n",
        "2020 г."
      ]
    },
    {
      "cell_type": "markdown",
      "metadata": {
        "id": "q_qWG0YvRMXa",
        "colab_type": "text"
      },
      "source": [
        "Сайт - http://www.abscur.ru\n",
        "\n",
        "Twitter - https://twitter.com/abscurs\n",
        "\n",
        "ВКонтакте -  https://vk.com/abscur\n",
        "\n",
        "Одноклассники -  https://ok.ru/group/53547043520717\n",
        "\n",
        "FB -  https://www.facebook.com/abscur \n",
        "\n",
        "Telegram - https://t.me/AbsCur\n",
        "\n",
        "GitHub - https://github.com/prog815/abscur_prediction"
      ]
    },
    {
      "cell_type": "markdown",
      "metadata": {
        "id": "WzppVKjwUDDD",
        "colab_type": "text"
      },
      "source": [
        "Прогнозируем направление относительных изменений абсолютного курса. Для этого применяем модель К ближайших соседей (KNeighborsClassifier) по предыдущим значениям (с некоторым окном) относительных изменений абсолютного курса."
      ]
    },
    {
      "cell_type": "markdown",
      "metadata": {
        "id": "unzAhdbWwsg2",
        "colab_type": "text"
      },
      "source": [
        "# Библиотеки"
      ]
    },
    {
      "cell_type": "code",
      "metadata": {
        "id": "lWBV_HiFwqX8",
        "colab_type": "code",
        "outputId": "01ce4fef-8d29-4946-d963-82f5f94c5ce1",
        "colab": {
          "base_uri": "https://localhost:8080/",
          "height": 35
        }
      },
      "source": [
        "import datetime\n",
        "print(datetime.date.today())\n",
        "\n",
        "import numpy as np\n",
        "import pandas as pd\n",
        "\n",
        "import matplotlib.pyplot as plt\n",
        "\n",
        "from sklearn.neighbors import KNeighborsClassifier\n",
        "from sklearn.model_selection import train_test_split\n",
        "from sklearn.metrics import *"
      ],
      "execution_count": 39,
      "outputs": [
        {
          "output_type": "stream",
          "text": [
            "2020-04-01\n"
          ],
          "name": "stdout"
        }
      ]
    },
    {
      "cell_type": "markdown",
      "metadata": {
        "id": "GauqzexkvZhl",
        "colab_type": "text"
      },
      "source": [
        "# Импорт данных"
      ]
    },
    {
      "cell_type": "markdown",
      "metadata": {
        "id": "QBPxlyfLvxZm",
        "colab_type": "text"
      },
      "source": [
        "Таблица с историей абсолютных курсов: https://docs.google.com/spreadsheets/d/1_-cdNCIC6NgyRDj0zLJBaohXo-K8qCfxfDLbYq2JLhs/edit#gid=422799220"
      ]
    },
    {
      "cell_type": "code",
      "metadata": {
        "id": "l-fOlyOOtRJo",
        "colab_type": "code",
        "outputId": "cdd11681-cfc8-404a-f2bf-92f9df81896c",
        "colab": {
          "base_uri": "https://localhost:8080/",
          "height": 35
        }
      },
      "source": [
        "data_url = 'https://docs.google.com/spreadsheets/d/1_-cdNCIC6NgyRDj0zLJBaohXo-K8qCfxfDLbYq2JLhs/export?format=csv&id=1_-cdNCIC6NgyRDj0zLJBaohXo-K8qCfxfDLbYq2JLhs&gid=422799220'\n",
        "abs_data = pd.read_csv(data_url,decimal=',',parse_dates=True,index_col=0)\n",
        "abs_data.shape"
      ],
      "execution_count": 9,
      "outputs": [
        {
          "output_type": "execute_result",
          "data": {
            "text/plain": [
              "(1306, 45)"
            ]
          },
          "metadata": {
            "tags": []
          },
          "execution_count": 9
        }
      ]
    },
    {
      "cell_type": "markdown",
      "metadata": {
        "id": "Yo6hLX-7UqBA",
        "colab_type": "text"
      },
      "source": [
        "# Подготовка данных\n",
        "\n",
        "Вычисляем матрицу относительных изменений абсолютных валютных курсов"
      ]
    },
    {
      "cell_type": "code",
      "metadata": {
        "id": "JYtnp5stSazH",
        "colab_type": "code",
        "colab": {}
      },
      "source": [
        "dates = abs_data.index.values # даты\n",
        "cur_names = abs_data.columns.values # имена валют\n",
        "data = abs_data.values # матрица абсолютных курсов\n",
        "d_data = np.zeros_like(data) # матрица относительных изменений\n",
        "d_data[1:,:] = (data[1:,:]-data[:-1,:])/data[:-1,:] # расчет матрицы относительных изменений"
      ],
      "execution_count": 0,
      "outputs": []
    },
    {
      "cell_type": "markdown",
      "metadata": {
        "id": "jGFfzbkBb5M2",
        "colab_type": "text"
      },
      "source": [
        "# Готовоим входы и выходы модели\n",
        "\n",
        "Нормируем относительные изменения.\n",
        "Сибираем матрицу входов и выходов для модели прогнозирования."
      ]
    },
    {
      "cell_type": "code",
      "metadata": {
        "id": "300mylGoKEst",
        "colab_type": "code",
        "colab": {}
      },
      "source": [
        "window = 30 # окно для входов\n",
        "\n",
        "y = d_data.copy()\n",
        "\n",
        "y = (y - y.mean(axis=0)) / y.std(axis=0) # нормируем\n",
        "\n",
        "x_ = [0]*window\n",
        "\n",
        "for w in range(window):\n",
        "    x_[w] = np.zeros_like(y)\n",
        "    x_[w][(1+w):,:] = y[:(-1-w),:]\n",
        "\n",
        "X = np.concatenate(x_,axis=1)[window:,:]\n",
        "y = y[window:]\n",
        "y = np.array(y >= 0,dtype=float) # переводим в бинарный вид"
      ],
      "execution_count": 0,
      "outputs": []
    },
    {
      "cell_type": "code",
      "metadata": {
        "id": "_HYf3zgrbK8w",
        "colab_type": "code",
        "outputId": "144b703f-ebbf-49ca-aac4-cfd81159a91e",
        "colab": {
          "base_uri": "https://localhost:8080/",
          "height": 35
        }
      },
      "source": [
        "X.shape,y.shape"
      ],
      "execution_count": 19,
      "outputs": [
        {
          "output_type": "execute_result",
          "data": {
            "text/plain": [
              "((1276, 1350), (1276, 45))"
            ]
          },
          "metadata": {
            "tags": []
          },
          "execution_count": 19
        }
      ]
    },
    {
      "cell_type": "markdown",
      "metadata": {
        "id": "C14zct3WcLPP",
        "colab_type": "text"
      },
      "source": [
        "# Учим модель\n",
        "\n",
        "Используем стандартный пакет **scikit-learn**\n",
        "\n",
        "https://scikit-learn.org/stable/modules/generated/sklearn.neighbors.KNeighborsClassifier.html#sklearn.neighbors.KNeighborsClassifier\n",
        "\n",
        "Готовим обучающую и тестовую выборки. Не перемешиваем. Выборки последовательные.\n",
        "\n",
        "Создаем модель.\n",
        "Учим модель на обучающей выборке. В цикле для каждого выхода учим по одной модели.\n",
        "\n",
        "Прогнозируем результаты для тестовой и обучающей выборок.\n"
      ]
    },
    {
      "cell_type": "code",
      "metadata": {
        "id": "DHiVIH9zEJ0m",
        "colab_type": "code",
        "outputId": "deeb3804-bc21-4274-cc1c-8f2de2d0a60b",
        "colab": {
          "base_uri": "https://localhost:8080/",
          "height": 55
        }
      },
      "source": [
        "X_train,X_test,y_train,y_test = train_test_split(X,y,shuffle=False)\n",
        "\n",
        "preds_train = np.zeros_like(y_train)\n",
        "preds_test = np.zeros_like(y_test)\n",
        "\n",
        "for k in range(y_train.shape[1]):\n",
        "    cl = KNeighborsClassifier(n_neighbors=3)\n",
        "    cl.fit(X_train,y_train[:,k])\n",
        "    preds_train[:,k] = cl.predict(X_train)\n",
        "    preds_test[:,k] = cl.predict(X_test)\n",
        "    print(k,end=' ')"
      ],
      "execution_count": 22,
      "outputs": [
        {
          "output_type": "stream",
          "text": [
            "0 1 2 3 4 5 6 7 8 9 10 11 12 13 14 15 16 17 18 19 20 21 22 23 24 25 26 27 28 29 30 31 32 33 34 35 36 37 38 39 40 41 42 43 44 "
          ],
          "name": "stdout"
        }
      ]
    },
    {
      "cell_type": "markdown",
      "metadata": {
        "id": "pY_9-GWLm3MQ",
        "colab_type": "text"
      },
      "source": [
        "# Метрики на одной валюте\n",
        "\n"
      ]
    },
    {
      "cell_type": "code",
      "metadata": {
        "id": "fmcFEGFAd2iC",
        "colab_type": "code",
        "outputId": "27b735d5-8183-41ab-bac6-680d79de8b49",
        "colab": {
          "base_uri": "https://localhost:8080/",
          "height": 260
        }
      },
      "source": [
        "n = np.random.randint(y.shape[1])\n",
        "\n",
        "print('метрики для',cur_names[n].upper())\n",
        "\n",
        "print('---- accuracy_score -----')\n",
        "print('train', accuracy_score(y_train[:,n],preds_train[:,n]))\n",
        "print('test',accuracy_score(y_test[:,n],preds_test[:,n]))\n",
        "\n",
        "print('---- f1_score -----')\n",
        "print('train', f1_score(y_train[:,n],preds_train[:,n]))\n",
        "print('test',f1_score(y_test[:,n],preds_test[:,n]))\n",
        "\n",
        "print('---- confusion_matrix -----')\n",
        "print('train\\n',confusion_matrix(y_train[:,n],preds_train[:,n]))\n",
        "print('test\\n',confusion_matrix(y_test[:,n],preds_test[:,n]))"
      ],
      "execution_count": 38,
      "outputs": [
        {
          "output_type": "stream",
          "text": [
            "метрики для BRL\n",
            "---- accuracy_score -----\n",
            "train 0.7711598746081505\n",
            "test 0.5047021943573667\n",
            "---- f1_score -----\n",
            "train 0.7951356407857813\n",
            "test 0.49032258064516127\n",
            "---- confusion_matrix -----\n",
            "train\n",
            " [[313 106]\n",
            " [113 425]]\n",
            "test\n",
            " [[85 71]\n",
            " [87 76]]\n"
          ],
          "name": "stdout"
        }
      ]
    },
    {
      "cell_type": "markdown",
      "metadata": {
        "id": "ohzDAvrrPg5R",
        "colab_type": "text"
      },
      "source": [
        "сильно сжалось по оси Y \n",
        "предсказания на порядок ниже чем оргинал"
      ]
    },
    {
      "cell_type": "markdown",
      "metadata": {
        "id": "3on_K4wdsIGX",
        "colab_type": "text"
      },
      "source": [
        "# Метрики на всех"
      ]
    },
    {
      "cell_type": "code",
      "metadata": {
        "id": "TaSswOKEMmfl",
        "colab_type": "code",
        "outputId": "e8a8d54d-2ad5-411c-941e-15d0c2718050",
        "colab": {
          "base_uri": "https://localhost:8080/",
          "height": 899
        }
      },
      "source": [
        "def my_metric(metric_func):\n",
        "    train_ = [metric_func(y_train[:,k],preds_train[:,k]) for k in range(y.shape[1])]\n",
        "    test_ = [metric_func(y_test[:,k],preds_test[:,k]) for k in range(y.shape[1])]\n",
        "\n",
        "    plt.figure(figsize=(12,7))\n",
        "    plt.bar(cur_names,test_,label=\"test (среднее={})\".format(np.mean(test_)))\n",
        "    plt.bar(cur_names,train_,width=0.3,label=\"train (среднее={})\".format(np.mean(train_)))\n",
        "    plt.xticks(rotation=70)\n",
        "    plt.legend()\n",
        "    plt.title(\"Метрика {}\".format(metric_func))\n",
        "    plt.show()\n",
        "\n",
        "my_metric(accuracy_score)\n",
        "my_metric(f1_score)\n"
      ],
      "execution_count": 40,
      "outputs": [
        {
          "output_type": "display_data",
          "data": {
            "image/png": "[encoded data removed]",
            "text/plain": [
              "<Figure size 864x504 with 1 Axes>"
            ]
          },
          "metadata": {
            "tags": []
          }
        },
        {
          "output_type": "display_data",
          "data": {
            "image/png": "[encoded data removed]",
            "text/plain": [
              "<Figure size 864x504 with 1 Axes>"
            ]
          },
          "metadata": {
            "tags": []
          }
        }
      ]
    },
    {
      "cell_type": "markdown",
      "metadata": {
        "id": "ivVvgUPwkAGB",
        "colab_type": "text"
      },
      "source": [
        "Оказывается направление в следующем дне можно весьма сносно предсказывать столь простой моделью как К ближайших соседей. На тесте некоторые показывают выше 60%."
      ]
    }
  ]
}