{
  "nbformat": 4,
  "nbformat_minor": 0,
  "metadata": {
    "colab": {
      "name": "Корреляции на графе относительных изменений абсолютных валютных курсов.ipynb",
      "provenance": [],
      "collapsed_sections": [],
      "toc_visible": true,
      "authorship_tag": "ABX9TyNSUQJAz+MXALNxn5b0arfB",
      "include_colab_link": true
    },
    "kernelspec": {
      "name": "python3",
      "display_name": "Python 3"
    }
  },
  "cells": [
    {
      "cell_type": "markdown",
      "metadata": {
        "id": "view-in-github",
        "colab_type": "text"
      },
      "source": [
        "<a href=\"https://colab.research.google.com/github/prog815/abscur_prediction/blob/master/%D0%9A%D0%BE%D1%80%D1%80%D0%B5%D0%BB%D1%8F%D1%86%D0%B8%D0%B8_%D0%BD%D0%B0_%D0%B3%D1%80%D0%B0%D1%84%D0%B5_%D0%BE%D1%82%D0%BD%D0%BE%D1%81%D0%B8%D1%82%D0%B5%D0%BB%D1%8C%D0%BD%D1%8B%D1%85_%D0%B8%D0%B7%D0%BC%D0%B5%D0%BD%D0%B5%D0%BD%D0%B8%D0%B9_%D0%B0%D0%B1%D1%81%D0%BE%D0%BB%D1%8E%D1%82%D0%BD%D1%8B%D1%85_%D0%B2%D0%B0%D0%BB%D1%8E%D1%82%D0%BD%D1%8B%D1%85_%D0%BA%D1%83%D1%80%D1%81%D0%BE%D0%B2.ipynb\" target=\"_parent\"><img src=\"https://colab.research.google.com/assets/colab-badge.svg\" alt=\"Open In Colab\"/></a>"
      ]
    },
    {
      "cell_type": "markdown",
      "metadata": {
        "id": "1mkX7IMcVHgR",
        "colab_type": "text"
      },
      "source": [
        "# **Корреляции на графе относительных изменений абсолютных валютных курсов**"
      ]
    },
    {
      "cell_type": "markdown",
      "metadata": {
        "id": "aM--woXnu26D",
        "colab_type": "text"
      },
      "source": [
        "**Абсолютный курс**\n",
        "\n",
        "Енин А.В.\n",
        "\n",
        "г. Оренбург\n",
        "\n",
        "2020 г."
      ]
    },
    {
      "cell_type": "markdown",
      "metadata": {
        "id": "q_qWG0YvRMXa",
        "colab_type": "text"
      },
      "source": [
        "Сайт - http://www.abscur.ru\n",
        "\n",
        "Twitter - https://twitter.com/abscurs\n",
        "\n",
        "ВКонтакте -  https://vk.com/abscur\n",
        "\n",
        "Одноклассники -  https://ok.ru/group/53547043520717\n",
        "\n",
        "FB -  https://www.facebook.com/abscur \n",
        "\n",
        "Telegram - https://t.me/AbsCur\n",
        "\n",
        "GitHub - https://github.com/prog815/abscur_prediction"
      ]
    },
    {
      "cell_type": "markdown",
      "metadata": {
        "id": "WzppVKjwUDDD",
        "colab_type": "text"
      },
      "source": [
        "Анализируем корреляцию относительных изменений абсолютных валютных курсов. Смотрим как они связаны."
      ]
    },
    {
      "cell_type": "markdown",
      "metadata": {
        "id": "unzAhdbWwsg2",
        "colab_type": "text"
      },
      "source": [
        "# Библиотеки"
      ]
    },
    {
      "cell_type": "code",
      "metadata": {
        "id": "lWBV_HiFwqX8",
        "colab_type": "code",
        "colab": {}
      },
      "source": [
        "import numpy as np\n",
        "import pandas as pd\n",
        "\n",
        "import matplotlib.pyplot as plt\n",
        "import seaborn as sns"
      ],
      "execution_count": 0,
      "outputs": []
    },
    {
      "cell_type": "markdown",
      "metadata": {
        "id": "GauqzexkvZhl",
        "colab_type": "text"
      },
      "source": [
        "# Импорт данных"
      ]
    },
    {
      "cell_type": "markdown",
      "metadata": {
        "id": "QBPxlyfLvxZm",
        "colab_type": "text"
      },
      "source": [
        "Таблица с историей абсолютных курсов: https://docs.google.com/spreadsheets/d/1_-cdNCIC6NgyRDj0zLJBaohXo-K8qCfxfDLbYq2JLhs/edit#gid=422799220"
      ]
    },
    {
      "cell_type": "code",
      "metadata": {
        "id": "l-fOlyOOtRJo",
        "colab_type": "code",
        "outputId": "a96d926a-c4c7-4b8f-e6f7-ddc5fd189ecb",
        "colab": {
          "base_uri": "https://localhost:8080/",
          "height": 34
        }
      },
      "source": [
        "data_url = 'https://docs.google.com/spreadsheets/d/1_-cdNCIC6NgyRDj0zLJBaohXo-K8qCfxfDLbYq2JLhs/export?format=csv&id=1_-cdNCIC6NgyRDj0zLJBaohXo-K8qCfxfDLbYq2JLhs&gid=422799220'\n",
        "abs_data = pd.read_csv(data_url,decimal=',',parse_dates=True,index_col=0)\n",
        "abs_data.shape"
      ],
      "execution_count": 2,
      "outputs": [
        {
          "output_type": "execute_result",
          "data": {
            "text/plain": [
              "(1296, 45)"
            ]
          },
          "metadata": {
            "tags": []
          },
          "execution_count": 2
        }
      ]
    },
    {
      "cell_type": "markdown",
      "metadata": {
        "id": "Yo6hLX-7UqBA",
        "colab_type": "text"
      },
      "source": [
        "## Подготовка данных"
      ]
    },
    {
      "cell_type": "code",
      "metadata": {
        "id": "JYtnp5stSazH",
        "colab_type": "code",
        "colab": {}
      },
      "source": [
        "dates = abs_data.index.values # даты\n",
        "cur_names = abs_data.columns.values # имена валют\n",
        "data = abs_data.values # матрица абсолютных курсов\n",
        "d_data = np.zeros_like(data) # матрица относительных изменений\n",
        "d_data[1:,:] = (data[1:,:]-data[:-1,:])/data[:-1,:] # расчет матрицы относительных изменений"
      ],
      "execution_count": 0,
      "outputs": []
    },
    {
      "cell_type": "markdown",
      "metadata": {
        "id": "P-ab6ya48iCT",
        "colab_type": "text"
      },
      "source": [
        "# Считаем корреляции"
      ]
    },
    {
      "cell_type": "code",
      "metadata": {
        "id": "Crdzs5UMj3_t",
        "colab_type": "code",
        "colab": {}
      },
      "source": [
        "d_corr = np.corrcoef(d_data.T)"
      ],
      "execution_count": 0,
      "outputs": []
    },
    {
      "cell_type": "markdown",
      "metadata": {
        "id": "hp-PDGsgqXdS",
        "colab_type": "text"
      },
      "source": [
        "# Выводим"
      ]
    },
    {
      "cell_type": "markdown",
      "metadata": {
        "id": "xyYRCrGgGyOT",
        "colab_type": "text"
      },
      "source": [
        "показываем только корреляции более 0.6 по модулю"
      ]
    },
    {
      "cell_type": "code",
      "metadata": {
        "id": "cY21w3EMl3G2",
        "colab_type": "code",
        "outputId": "f60d9552-5ff8-46c5-b4c5-6da5c4784fe8",
        "colab": {
          "base_uri": "https://localhost:8080/",
          "height": 1000
        }
      },
      "source": [
        "from graphviz import Graph\n",
        "g = Graph()\n",
        "for i in range(len(cur_names)):\n",
        "    for j in range(i):\n",
        "        ni = cur_names[i]\n",
        "        nj = cur_names[j]\n",
        "        cij = d_corr[i,j]\n",
        "        if abs(cij) > 0.6:\n",
        "            print(ni,nj,d_corr[i,j])\n",
        "            g.edge(ni,nj,str(np.round(d_corr[i,j],2)))\n",
        "g"
      ],
      "execution_count": 27,
      "outputs": [
        {
          "output_type": "stream",
          "text": [
            "usd hkd 0.987626496927098\n",
            "czk eur 0.6444618307472504\n",
            "aed hkd 0.98751592787779\n",
            "aed usd 0.9998788429529244\n",
            "dkk eur 0.8040706462456924\n",
            "dkk czk 0.7125768882343281\n",
            "huf eur 0.6088461868268361\n",
            "huf czk 0.7056435206593439\n",
            "huf dkk 0.6898844229969245\n",
            "kwd hkd 0.9303913331857576\n",
            "kwd usd 0.9431528141610696\n",
            "kwd aed 0.9430414772476172\n",
            "myr hkd 0.6090266506828291\n",
            "myr usd 0.6124578213614101\n",
            "myr aed 0.6123310532258985\n",
            "myr kwd 0.6167180487563465\n",
            "pln czk 0.6787776152350965\n",
            "pln dkk 0.605216641968362\n",
            "pln huf 0.7375169191055122\n",
            "ron eur 0.7255645451663373\n",
            "ron czk 0.6777481126315773\n",
            "ron dkk 0.8031267062341564\n",
            "ron huf 0.6682888834367253\n",
            "ron pln 0.6305915036735513\n",
            "sar hkd 0.9865712850998206\n",
            "sar usd 0.9991021814146296\n",
            "sar aed 0.9989844422211724\n",
            "sar kwd 0.9427245759889769\n",
            "sar myr 0.6108136375467204\n",
            "vnd hkd 0.916938202597158\n",
            "vnd usd 0.9280149846964704\n",
            "vnd aed 0.9281482638656525\n",
            "vnd kwd 0.8871606441355524\n",
            "vnd sar 0.9284253168200427\n"
          ],
          "name": "stdout"
        },
        {
          "output_type": "execute_result",
          "data": {
            "text/plain": [
              "<graphviz.dot.Graph at 0x7f8ce1e91cf8>"
            ],
            "image/svg+xml": "<?xml version=\"1.0\" encoding=\"UTF-8\" standalone=\"no\"?>\n<!DOCTYPE svg PUBLIC \"-//W3C//DTD SVG 1.1//EN\"\n \"http://www.w3.org/Graphics/SVG/1.1/DTD/svg11.dtd\">\n<!-- Generated by graphviz version 2.40.1 (20161225.0304)\n -->\n<!-- Title: %3 Pages: 1 -->\n<svg width=\"835pt\" height=\"566pt\"\n viewBox=\"0.00 0.00 835.00 566.00\" xmlns=\"http://www.w3.org/2000/svg\" xmlns:xlink=\"http://www.w3.org/1999/xlink\">\n<g id=\"graph0\" class=\"graph\" transform=\"scale(1 1) rotate(0) translate(4 562)\">\n<title>%3</title>\n<polygon fill=\"#ffffff\" stroke=\"transparent\" points=\"-4,4 -4,-562 831,-562 831,4 -4,4\"/>\n<!-- usd -->\n<g id=\"node1\" class=\"node\">\n<title>usd</title>\n<ellipse fill=\"none\" stroke=\"#000000\" cx=\"190\" cy=\"-105\" rx=\"27\" ry=\"18\"/>\n<text text-anchor=\"middle\" x=\"190\" y=\"-101.3\" font-family=\"Times,serif\" font-size=\"14.00\" fill=\"#000000\">usd</text>\n</g>\n<!-- hkd -->\n<g id=\"node2\" class=\"node\">\n<title>hkd</title>\n<ellipse fill=\"none\" stroke=\"#000000\" cx=\"265\" cy=\"-18\" rx=\"27\" ry=\"18\"/>\n<text text-anchor=\"middle\" x=\"265\" y=\"-14.3\" font-family=\"Times,serif\" font-size=\"14.00\" fill=\"#000000\">hkd</text>\n</g>\n<!-- usd&#45;&#45;hkd -->\n<g id=\"edge1\" class=\"edge\">\n<title>usd&#45;&#45;hkd</title>\n<path fill=\"none\" stroke=\"#000000\" d=\"M203.7562,-89.0429C217.2886,-73.3453 237.8288,-49.5185 251.3311,-33.856\"/>\n<text text-anchor=\"middle\" x=\"245.5\" y=\"-57.8\" font-family=\"Times,serif\" font-size=\"14.00\" fill=\"#000000\">0.99</text>\n</g>\n<!-- czk -->\n<g id=\"node3\" class=\"node\">\n<title>czk</title>\n<ellipse fill=\"none\" stroke=\"#000000\" cx=\"615\" cy=\"-192\" rx=\"27\" ry=\"18\"/>\n<text text-anchor=\"middle\" x=\"615\" y=\"-188.3\" font-family=\"Times,serif\" font-size=\"14.00\" fill=\"#000000\">czk</text>\n</g>\n<!-- eur -->\n<g id=\"node4\" class=\"node\">\n<title>eur</title>\n<ellipse fill=\"none\" stroke=\"#000000\" cx=\"718\" cy=\"-105\" rx=\"27\" ry=\"18\"/>\n<text text-anchor=\"middle\" x=\"718\" y=\"-101.3\" font-family=\"Times,serif\" font-size=\"14.00\" fill=\"#000000\">eur</text>\n</g>\n<!-- czk&#45;&#45;eur -->\n<g id=\"edge2\" class=\"edge\">\n<title>czk&#45;&#45;eur</title>\n<path fill=\"none\" stroke=\"#000000\" d=\"M619.1844,-174.0646C622.4796,-163.3262 628.049,-150.0497 637,-141 652.1504,-125.6825 674.9549,-116.3519 692.5108,-111.0411\"/>\n<text text-anchor=\"middle\" x=\"650.5\" y=\"-144.8\" font-family=\"Times,serif\" font-size=\"14.00\" fill=\"#000000\">0.64</text>\n</g>\n<!-- aed -->\n<g id=\"node5\" class=\"node\">\n<title>aed</title>\n<ellipse fill=\"none\" stroke=\"#000000\" cx=\"348\" cy=\"-192\" rx=\"27\" ry=\"18\"/>\n<text text-anchor=\"middle\" x=\"348\" y=\"-188.3\" font-family=\"Times,serif\" font-size=\"14.00\" fill=\"#000000\">aed</text>\n</g>\n<!-- aed&#45;&#45;usd -->\n<g id=\"edge4\" class=\"edge\">\n<title>aed&#45;&#45;usd</title>\n<path fill=\"none\" stroke=\"#000000\" d=\"M337.8316,-175.1071C330.3186,-163.9555 319.1405,-149.8249 306,-141 278.6919,-122.6605 241.5904,-113.3041 216.7717,-108.7928\"/>\n<text text-anchor=\"middle\" x=\"331.5\" y=\"-144.8\" font-family=\"Times,serif\" font-size=\"14.00\" fill=\"#000000\">1.0</text>\n</g>\n<!-- aed&#45;&#45;hkd -->\n<g id=\"edge3\" class=\"edge\">\n<title>aed&#45;&#45;hkd</title>\n<path fill=\"none\" stroke=\"#000000\" d=\"M349.0468,-173.6778C349.0876,-163.7909 348.2812,-151.4973 345,-141 331.5483,-97.9652 298.4544,-55.6402 279.3102,-33.616\"/>\n<text text-anchor=\"middle\" x=\"351.5\" y=\"-101.3\" font-family=\"Times,serif\" font-size=\"14.00\" fill=\"#000000\">0.99</text>\n</g>\n<!-- dkk -->\n<g id=\"node6\" class=\"node\">\n<title>dkk</title>\n<ellipse fill=\"none\" stroke=\"#000000\" cx=\"634\" cy=\"-279\" rx=\"27\" ry=\"18\"/>\n<text text-anchor=\"middle\" x=\"634\" y=\"-275.3\" font-family=\"Times,serif\" font-size=\"14.00\" fill=\"#000000\">dkk</text>\n</g>\n<!-- dkk&#45;&#45;czk -->\n<g id=\"edge6\" class=\"edge\">\n<title>dkk&#45;&#45;czk</title>\n<path fill=\"none\" stroke=\"#000000\" d=\"M630.0632,-260.9735C626.8023,-246.0422 622.1912,-224.9283 618.9318,-210.0034\"/>\n<text text-anchor=\"middle\" x=\"638.5\" y=\"-231.8\" font-family=\"Times,serif\" font-size=\"14.00\" fill=\"#000000\">0.71</text>\n</g>\n<!-- dkk&#45;&#45;eur -->\n<g id=\"edge5\" class=\"edge\">\n<title>dkk&#45;&#45;eur</title>\n<path fill=\"none\" stroke=\"#000000\" d=\"M644.7448,-262.4052C648.4781,-256.3889 652.5826,-249.4786 656,-243 678.1804,-200.9513 699.9897,-149.3769 710.8648,-122.7665\"/>\n<text text-anchor=\"middle\" x=\"697.5\" y=\"-188.3\" font-family=\"Times,serif\" font-size=\"14.00\" fill=\"#000000\">0.8</text>\n</g>\n<!-- huf -->\n<g id=\"node7\" class=\"node\">\n<title>huf</title>\n<ellipse fill=\"none\" stroke=\"#000000\" cx=\"709\" cy=\"-366\" rx=\"27\" ry=\"18\"/>\n<text text-anchor=\"middle\" x=\"709\" y=\"-362.3\" font-family=\"Times,serif\" font-size=\"14.00\" fill=\"#000000\">huf</text>\n</g>\n<!-- huf&#45;&#45;czk -->\n<g id=\"edge8\" class=\"edge\">\n<title>huf&#45;&#45;czk</title>\n<path fill=\"none\" stroke=\"#000000\" d=\"M705.3326,-347.9537C698.9894,-320.0691 683.8906,-265.7879 656,-228 649.6997,-219.464 641.0645,-211.5064 633.3434,-205.2549\"/>\n<text text-anchor=\"middle\" x=\"703.5\" y=\"-275.3\" font-family=\"Times,serif\" font-size=\"14.00\" fill=\"#000000\">0.71</text>\n</g>\n<!-- huf&#45;&#45;eur -->\n<g id=\"edge7\" class=\"edge\">\n<title>huf&#45;&#45;eur</title>\n<path fill=\"none\" stroke=\"#000000\" d=\"M713.0163,-347.9518C715.8857,-334.0956 719.4944,-314.4441 721,-297 726.504,-233.2293 722.0645,-157.1146 719.5007,-123.043\"/>\n<text text-anchor=\"middle\" x=\"736.5\" y=\"-231.8\" font-family=\"Times,serif\" font-size=\"14.00\" fill=\"#000000\">0.61</text>\n</g>\n<!-- huf&#45;&#45;dkk -->\n<g id=\"edge9\" class=\"edge\">\n<title>huf&#45;&#45;dkk</title>\n<path fill=\"none\" stroke=\"#000000\" d=\"M691.31,-352.2195C683.7098,-345.8706 674.9886,-337.9822 668,-330 658.7471,-319.4315 649.9967,-306.2025 643.6907,-295.8664\"/>\n<text text-anchor=\"middle\" x=\"681.5\" y=\"-318.8\" font-family=\"Times,serif\" font-size=\"14.00\" fill=\"#000000\">0.69</text>\n</g>\n<!-- kwd -->\n<g id=\"node8\" class=\"node\">\n<title>kwd</title>\n<ellipse fill=\"none\" stroke=\"#000000\" cx=\"241\" cy=\"-279\" rx=\"27.0966\" ry=\"18\"/>\n<text text-anchor=\"middle\" x=\"241\" y=\"-275.3\" font-family=\"Times,serif\" font-size=\"14.00\" fill=\"#000000\">kwd</text>\n</g>\n<!-- kwd&#45;&#45;usd -->\n<g id=\"edge11\" class=\"edge\">\n<title>kwd&#45;&#45;usd</title>\n<path fill=\"none\" stroke=\"#000000\" d=\"M235.7342,-261.0343C225.9359,-227.605 205.0137,-156.2232 195.2372,-122.868\"/>\n<text text-anchor=\"middle\" x=\"234.5\" y=\"-188.3\" font-family=\"Times,serif\" font-size=\"14.00\" fill=\"#000000\">0.94</text>\n</g>\n<!-- kwd&#45;&#45;hkd -->\n<g id=\"edge10\" class=\"edge\">\n<title>kwd&#45;&#45;hkd</title>\n<path fill=\"none\" stroke=\"#000000\" d=\"M244.2936,-260.8957C246.7206,-247.0101 249.944,-227.3464 252,-210 259.3983,-147.5798 259.3233,-131.7495 263,-69 263.6323,-58.2081 264.1162,-46.1196 264.4495,-36.4212\"/>\n<text text-anchor=\"middle\" x=\"272.5\" y=\"-144.8\" font-family=\"Times,serif\" font-size=\"14.00\" fill=\"#000000\">0.93</text>\n</g>\n<!-- kwd&#45;&#45;aed -->\n<g id=\"edge12\" class=\"edge\">\n<title>kwd&#45;&#45;aed</title>\n<path fill=\"none\" stroke=\"#000000\" d=\"M255.6465,-263.5194C265.9372,-252.9981 280.2654,-239.0406 294,-228 304.7138,-219.3877 317.48,-210.808 327.9093,-204.1857\"/>\n<text text-anchor=\"middle\" x=\"307.5\" y=\"-231.8\" font-family=\"Times,serif\" font-size=\"14.00\" fill=\"#000000\">0.94</text>\n</g>\n<!-- myr -->\n<g id=\"node9\" class=\"node\">\n<title>myr</title>\n<ellipse fill=\"none\" stroke=\"#000000\" cx=\"254\" cy=\"-366\" rx=\"27\" ry=\"18\"/>\n<text text-anchor=\"middle\" x=\"254\" y=\"-362.3\" font-family=\"Times,serif\" font-size=\"14.00\" fill=\"#000000\">myr</text>\n</g>\n<!-- myr&#45;&#45;usd -->\n<g id=\"edge14\" class=\"edge\">\n<title>myr&#45;&#45;usd</title>\n<path fill=\"none\" stroke=\"#000000\" d=\"M239.8513,-350.5201C228.5792,-337.2912 213.3498,-317.2368 205,-297 180.3238,-237.1942 184.3812,-158.1039 187.8332,-123.0502\"/>\n<text text-anchor=\"middle\" x=\"204.5\" y=\"-231.8\" font-family=\"Times,serif\" font-size=\"14.00\" fill=\"#000000\">0.61</text>\n</g>\n<!-- myr&#45;&#45;hkd -->\n<g id=\"edge13\" class=\"edge\">\n<title>myr&#45;&#45;hkd</title>\n<path fill=\"none\" stroke=\"#000000\" d=\"M274.0705,-353.8221C293.2026,-341.4217 321.8557,-320.6907 341,-297 368.1094,-263.4526 374.1871,-252.0006 384,-210 396.5293,-156.3725 399.0827,-133.1294 369,-87 349.7072,-57.416 312.8199,-37.532 288.565,-26.9894\"/>\n<text text-anchor=\"middle\" x=\"404.5\" y=\"-188.3\" font-family=\"Times,serif\" font-size=\"14.00\" fill=\"#000000\">0.61</text>\n</g>\n<!-- myr&#45;&#45;aed -->\n<g id=\"edge15\" class=\"edge\">\n<title>myr&#45;&#45;aed</title>\n<path fill=\"none\" stroke=\"#000000\" d=\"M263.3856,-348.9223C276.4029,-325.2021 300.6363,-280.9185 321,-243 327.0672,-231.7025 333.8172,-218.9525 339.0504,-209.0269\"/>\n<text text-anchor=\"middle\" x=\"323.5\" y=\"-275.3\" font-family=\"Times,serif\" font-size=\"14.00\" fill=\"#000000\">0.61</text>\n</g>\n<!-- myr&#45;&#45;kwd -->\n<g id=\"edge16\" class=\"edge\">\n<title>myr&#45;&#45;kwd</title>\n<path fill=\"none\" stroke=\"#000000\" d=\"M246.9292,-348.3284C244.9492,-342.5776 243.0518,-336.1028 242,-330 240.1348,-319.1783 239.8419,-306.8745 240.0358,-297.0634\"/>\n<text text-anchor=\"middle\" x=\"255.5\" y=\"-318.8\" font-family=\"Times,serif\" font-size=\"14.00\" fill=\"#000000\">0.62</text>\n</g>\n<!-- pln -->\n<g id=\"node10\" class=\"node\">\n<title>pln</title>\n<ellipse fill=\"none\" stroke=\"#000000\" cx=\"590\" cy=\"-453\" rx=\"27\" ry=\"18\"/>\n<text text-anchor=\"middle\" x=\"590\" y=\"-449.3\" font-family=\"Times,serif\" font-size=\"14.00\" fill=\"#000000\">pln</text>\n</g>\n<!-- pln&#45;&#45;czk -->\n<g id=\"edge17\" class=\"edge\">\n<title>pln&#45;&#45;czk</title>\n<path fill=\"none\" stroke=\"#000000\" d=\"M587.3222,-435.0601C583.8105,-408.6597 578.6849,-357.8373 584,-315 588.7453,-276.7549 601.4892,-233.3201 609.0786,-209.6628\"/>\n<text text-anchor=\"middle\" x=\"597.5\" y=\"-318.8\" font-family=\"Times,serif\" font-size=\"14.00\" fill=\"#000000\">0.68</text>\n</g>\n<!-- pln&#45;&#45;dkk -->\n<g id=\"edge18\" class=\"edge\">\n<title>pln&#45;&#45;dkk</title>\n<path fill=\"none\" stroke=\"#000000\" d=\"M592.4122,-434.9896C593.8278,-425.1941 595.7743,-412.8883 598,-402 605.9877,-362.9243 607.8602,-352.9913 620,-315 621.9595,-308.8677 624.4181,-302.2722 626.726,-296.4231\"/>\n<text text-anchor=\"middle\" x=\"622.5\" y=\"-362.3\" font-family=\"Times,serif\" font-size=\"14.00\" fill=\"#000000\">0.61</text>\n</g>\n<!-- pln&#45;&#45;huf -->\n<g id=\"edge19\" class=\"edge\">\n<title>pln&#45;&#45;huf</title>\n<path fill=\"none\" stroke=\"#000000\" d=\"M594.7643,-434.8695C598.4343,-424.0576 604.5188,-410.7724 614,-402 633.1603,-384.272 661.9182,-375.0098 682.7726,-370.35\"/>\n<text text-anchor=\"middle\" x=\"627.5\" y=\"-405.8\" font-family=\"Times,serif\" font-size=\"14.00\" fill=\"#000000\">0.74</text>\n</g>\n<!-- ron -->\n<g id=\"node11\" class=\"node\">\n<title>ron</title>\n<ellipse fill=\"none\" stroke=\"#000000\" cx=\"663\" cy=\"-540\" rx=\"27\" ry=\"18\"/>\n<text text-anchor=\"middle\" x=\"663\" y=\"-536.3\" font-family=\"Times,serif\" font-size=\"14.00\" fill=\"#000000\">ron</text>\n</g>\n<!-- ron&#45;&#45;czk -->\n<g id=\"edge21\" class=\"edge\">\n<title>ron&#45;&#45;czk</title>\n<path fill=\"none\" stroke=\"#000000\" d=\"M636.1227,-537.944C589.368,-532.7445 498,-514.6914 498,-453 498,-453 498,-453 498,-279 498,-233.6902 555.2021,-209.2085 589.6127,-198.5803\"/>\n<text text-anchor=\"middle\" x=\"511.5\" y=\"-362.3\" font-family=\"Times,serif\" font-size=\"14.00\" fill=\"#000000\">0.68</text>\n</g>\n<!-- ron&#45;&#45;eur -->\n<g id=\"edge20\" class=\"edge\">\n<title>ron&#45;&#45;eur</title>\n<path fill=\"none\" stroke=\"#000000\" d=\"M689.415,-535.528C729.2256,-527.1058 800,-504.8426 800,-453 800,-453 800,-453 800,-192 800,-156.7152 763.8397,-129.9278 739.5445,-115.9121\"/>\n<text text-anchor=\"middle\" x=\"813.5\" y=\"-318.8\" font-family=\"Times,serif\" font-size=\"14.00\" fill=\"#000000\">0.73</text>\n</g>\n<!-- ron&#45;&#45;dkk -->\n<g id=\"edge22\" class=\"edge\">\n<title>ron&#45;&#45;dkk</title>\n<path fill=\"none\" stroke=\"#000000\" d=\"M660.9608,-521.647C655.6232,-473.6091 641.2899,-344.6091 635.9985,-296.9862\"/>\n<text text-anchor=\"middle\" x=\"658.5\" y=\"-405.8\" font-family=\"Times,serif\" font-size=\"14.00\" fill=\"#000000\">0.8</text>\n</g>\n<!-- ron&#45;&#45;huf -->\n<g id=\"edge23\" class=\"edge\">\n<title>ron&#45;&#45;huf</title>\n<path fill=\"none\" stroke=\"#000000\" d=\"M670.3454,-522.5993C672.658,-516.7517 675.1014,-510.1514 677,-504 690.056,-461.6998 700.5723,-410.6592 705.6657,-384.0819\"/>\n<text text-anchor=\"middle\" x=\"707.5\" y=\"-449.3\" font-family=\"Times,serif\" font-size=\"14.00\" fill=\"#000000\">0.67</text>\n</g>\n<!-- ron&#45;&#45;pln -->\n<g id=\"edge24\" class=\"edge\">\n<title>ron&#45;&#45;pln</title>\n<path fill=\"none\" stroke=\"#000000\" d=\"M645.2046,-526.3104C637.5849,-519.9784 628.8776,-512.0781 622,-504 613.191,-493.6534 605.0767,-480.6635 599.2231,-470.3831\"/>\n<text text-anchor=\"middle\" x=\"635.5\" y=\"-492.8\" font-family=\"Times,serif\" font-size=\"14.00\" fill=\"#000000\">0.63</text>\n</g>\n<!-- sar -->\n<g id=\"node12\" class=\"node\">\n<title>sar</title>\n<ellipse fill=\"none\" stroke=\"#000000\" cx=\"182\" cy=\"-453\" rx=\"27\" ry=\"18\"/>\n<text text-anchor=\"middle\" x=\"182\" y=\"-449.3\" font-family=\"Times,serif\" font-size=\"14.00\" fill=\"#000000\">sar</text>\n</g>\n<!-- sar&#45;&#45;usd -->\n<g id=\"edge26\" class=\"edge\">\n<title>sar&#45;&#45;usd</title>\n<path fill=\"none\" stroke=\"#000000\" d=\"M179.1665,-435.0938C178.3475,-429.3304 177.5321,-422.9075 177,-417 165.9946,-294.8078 163.5561,-262.2925 182,-141 182.9048,-135.0501 184.2237,-128.6159 185.5307,-122.8552\"/>\n<text text-anchor=\"middle\" x=\"178.5\" y=\"-275.3\" font-family=\"Times,serif\" font-size=\"14.00\" fill=\"#000000\">1.0</text>\n</g>\n<!-- sar&#45;&#45;hkd -->\n<g id=\"edge25\" class=\"edge\">\n<title>sar&#45;&#45;hkd</title>\n<path fill=\"none\" stroke=\"#000000\" d=\"M173.9625,-435.6167C149.4665,-379.8317 81.6925,-202.2535 154,-87 173.8971,-55.2852 214.2573,-35.7888 240.4367,-25.9354\"/>\n<text text-anchor=\"middle\" x=\"136.5\" y=\"-231.8\" font-family=\"Times,serif\" font-size=\"14.00\" fill=\"#000000\">0.99</text>\n</g>\n<!-- sar&#45;&#45;aed -->\n<g id=\"edge27\" class=\"edge\">\n<title>sar&#45;&#45;aed</title>\n<path fill=\"none\" stroke=\"#000000\" d=\"M204.96,-443.4986C219.5696,-436.9831 238.5735,-427.6173 254,-417 271.8796,-404.6943 276.3599,-400.8837 290,-384 318.1666,-349.1355 327.8235,-339.84 341,-297 350.0232,-267.6633 350.2181,-231.6113 349.2859,-210.2921\"/>\n<text text-anchor=\"middle\" x=\"343.5\" y=\"-318.8\" font-family=\"Times,serif\" font-size=\"14.00\" fill=\"#000000\">1.0</text>\n</g>\n<!-- sar&#45;&#45;kwd -->\n<g id=\"edge28\" class=\"edge\">\n<title>sar&#45;&#45;kwd</title>\n<path fill=\"none\" stroke=\"#000000\" d=\"M180.6751,-434.9024C179.7474,-413.4559 180.2151,-376.9784 191,-348 198.6884,-327.3418 214.365,-307.3565 226.1266,-294.2591\"/>\n<text text-anchor=\"middle\" x=\"204.5\" y=\"-362.3\" font-family=\"Times,serif\" font-size=\"14.00\" fill=\"#000000\">0.94</text>\n</g>\n<!-- sar&#45;&#45;myr -->\n<g id=\"edge29\" class=\"edge\">\n<title>sar&#45;&#45;myr</title>\n<path fill=\"none\" stroke=\"#000000\" d=\"M195.2059,-437.0429C208.197,-421.3453 227.9157,-397.5185 240.8778,-381.856\"/>\n<text text-anchor=\"middle\" x=\"236.5\" y=\"-405.8\" font-family=\"Times,serif\" font-size=\"14.00\" fill=\"#000000\">0.61</text>\n</g>\n<!-- vnd -->\n<g id=\"node13\" class=\"node\">\n<title>vnd</title>\n<ellipse fill=\"none\" stroke=\"#000000\" cx=\"182\" cy=\"-540\" rx=\"27\" ry=\"18\"/>\n<text text-anchor=\"middle\" x=\"182\" y=\"-536.3\" font-family=\"Times,serif\" font-size=\"14.00\" fill=\"#000000\">vnd</text>\n</g>\n<!-- vnd&#45;&#45;usd -->\n<g id=\"edge31\" class=\"edge\">\n<title>vnd&#45;&#45;usd</title>\n<path fill=\"none\" stroke=\"#000000\" d=\"M155.9932,-534.5087C118.8377,-524.9643 55,-501.5076 55,-453 55,-453 55,-453 55,-322.5 55,-293.5821 13.3913,-340.4699 70,-228 94.2769,-179.7667 144.2119,-138.2514 171.387,-118.066\"/>\n<text text-anchor=\"middle\" x=\"68.5\" y=\"-318.8\" font-family=\"Times,serif\" font-size=\"14.00\" fill=\"#000000\">0.93</text>\n</g>\n<!-- vnd&#45;&#45;hkd -->\n<g id=\"edge30\" class=\"edge\">\n<title>vnd&#45;&#45;hkd</title>\n<path fill=\"none\" stroke=\"#000000\" d=\"M156.6937,-533.559C106.6851,-520.0859 0,-487.3213 0,-453 0,-453 0,-453 0,-105 0,-55.2455 170.7614,-29.309 238.132,-21.0124\"/>\n<text text-anchor=\"middle\" x=\"13.5\" y=\"-275.3\" font-family=\"Times,serif\" font-size=\"14.00\" fill=\"#000000\">0.92</text>\n</g>\n<!-- vnd&#45;&#45;aed -->\n<g id=\"edge32\" class=\"edge\">\n<title>vnd&#45;&#45;aed</title>\n<path fill=\"none\" stroke=\"#000000\" d=\"M208.5972,-536.6201C273.554,-527.6256 435,-500.4931 435,-453 435,-453 435,-453 435,-322.5 435,-272.9424 391.0274,-227.8906 365.6057,-205.986\"/>\n<text text-anchor=\"middle\" x=\"448.5\" y=\"-362.3\" font-family=\"Times,serif\" font-size=\"14.00\" fill=\"#000000\">0.93</text>\n</g>\n<!-- vnd&#45;&#45;kwd -->\n<g id=\"edge33\" class=\"edge\">\n<title>vnd&#45;&#45;kwd</title>\n<path fill=\"none\" stroke=\"#000000\" d=\"M197.5305,-524.9927C223.029,-499.1029 272.6665,-443.1095 290,-384 294.5023,-368.6465 294.4734,-363.3619 290,-348 285.1395,-331.3088 279.0143,-329.2104 269,-315 264.2565,-308.2689 258.746,-301.0654 253.8745,-294.8843\"/>\n<text text-anchor=\"middle\" x=\"296.5\" y=\"-405.8\" font-family=\"Times,serif\" font-size=\"14.00\" fill=\"#000000\">0.89</text>\n</g>\n<!-- vnd&#45;&#45;sar -->\n<g id=\"edge34\" class=\"edge\">\n<title>vnd&#45;&#45;sar</title>\n<path fill=\"none\" stroke=\"#000000\" d=\"M182,-521.9735C182,-507.0422 182,-485.9283 182,-471.0034\"/>\n<text text-anchor=\"middle\" x=\"195.5\" y=\"-492.8\" font-family=\"Times,serif\" font-size=\"14.00\" fill=\"#000000\">0.93</text>\n</g>\n</g>\n</svg>\n"
          },
          "metadata": {
            "tags": []
          },
          "execution_count": 27
        }
      ]
    },
    {
      "cell_type": "markdown",
      "metadata": {
        "id": "ivVvgUPwkAGB",
        "colab_type": "text"
      },
      "source": [
        "На диаграмме можно видеть как валюты разделились на две группы. Одна вокруг доллара США, другая около Евро."
      ]
    }
  ]
}