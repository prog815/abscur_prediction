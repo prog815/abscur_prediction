{
  "nbformat": 4,
  "nbformat_minor": 0,
  "metadata": {
    "colab": {
      "name": "Прогнозируем (RandomForestClassifier-multiout) знак относительных изменений абсолютных валютных курсов.ipynb",
      "provenance": [],
      "collapsed_sections": [],
      "toc_visible": true,
      "authorship_tag": "ABX9TyOIoMEK3XwKFCXg3g9abrMy",
      "include_colab_link": true
    },
    "kernelspec": {
      "name": "python3",
      "display_name": "Python 3"
    }
  },
  "cells": [
    {
      "cell_type": "markdown",
      "metadata": {
        "id": "view-in-github",
        "colab_type": "text"
      },
      "source": [
        "<a href=\"https://colab.research.google.com/github/prog815/abscur_prediction/blob/master/%D0%9F%D1%80%D0%BE%D0%B3%D0%BD%D0%BE%D0%B7%D0%B8%D1%80%D1%83%D0%B5%D0%BC_(RandomForestClassifier_multiout)_%D0%B7%D0%BD%D0%B0%D0%BA_%D0%BE%D1%82%D0%BD%D0%BE%D1%81%D0%B8%D1%82%D0%B5%D0%BB%D1%8C%D0%BD%D1%8B%D1%85_%D0%B8%D0%B7%D0%BC%D0%B5%D0%BD%D0%B5%D0%BD%D0%B8%D0%B9_%D0%B0%D0%B1%D1%81%D0%BE%D0%BB%D1%8E%D1%82%D0%BD%D1%8B%D1%85_%D0%B2%D0%B0%D0%BB%D1%8E%D1%82%D0%BD%D1%8B%D1%85_%D0%BA%D1%83%D1%80%D1%81%D0%BE%D0%B2.ipynb\" target=\"_parent\"><img src=\"https://colab.research.google.com/assets/colab-badge.svg\" alt=\"Open In Colab\"/></a>"
      ]
    },
    {
      "cell_type": "markdown",
      "metadata": {
        "id": "1mkX7IMcVHgR",
        "colab_type": "text"
      },
      "source": [
        "# **Прогнозируем (RandomForestClassifier-multiout) знак относительных изменений абсолютных валютных курсов**"
      ]
    },
    {
      "cell_type": "markdown",
      "metadata": {
        "id": "aM--woXnu26D",
        "colab_type": "text"
      },
      "source": [
        "**Абсолютный курс**\n",
        "\n",
        "Енин А.В.\n",
        "\n",
        "г. Оренбург\n",
        "\n",
        "2020 г."
      ]
    },
    {
      "cell_type": "markdown",
      "metadata": {
        "id": "q_qWG0YvRMXa",
        "colab_type": "text"
      },
      "source": [
        "Сайт - http://www.abscur.ru\n",
        "\n",
        "Twitter - https://twitter.com/abscurs\n",
        "\n",
        "ВКонтакте -  https://vk.com/abscur\n",
        "\n",
        "Одноклассники -  https://ok.ru/group/53547043520717\n",
        "\n",
        "FB -  https://www.facebook.com/abscur \n",
        "\n",
        "Telegram - https://t.me/AbsCur\n",
        "\n",
        "GitHub - https://github.com/prog815/abscur_prediction\n",
        "\n",
        "WhatsUp - https://chat.whatsapp.com/KrNJXAKizPxDlDSjYfdpQs\n",
        "\n",
        "Viber - https://invite.viber.com/?g2=AQB63y7Cm%2BNJK0tNZW%2F9kI00M6Wr8HuZ7XeamzN4jZCve8Aq9%2FiD3DY56Eqcf7dc"
      ]
    },
    {
      "cell_type": "markdown",
      "metadata": {
        "id": "WzppVKjwUDDD",
        "colab_type": "text"
      },
      "source": [
        "Прогнозируем знак относительных изменений абсолютного курса. Для этого применяем модель случайного леса (RandomForestClassifier-multiout) по предыдущим значениям (с некоторым окном) относительных изменений абсолютного курса."
      ]
    },
    {
      "cell_type": "markdown",
      "metadata": {
        "id": "unzAhdbWwsg2",
        "colab_type": "text"
      },
      "source": [
        "# Библиотеки"
      ]
    },
    {
      "cell_type": "code",
      "metadata": {
        "id": "lWBV_HiFwqX8",
        "colab_type": "code",
        "outputId": "ba33a2a0-bf1f-4300-9508-475c849e771e",
        "colab": {
          "base_uri": "https://localhost:8080/",
          "height": 34
        }
      },
      "source": [
        "import datetime\n",
        "print('[{}]'.format(datetime.date.today()))\n",
        "\n",
        "import numpy as np\n",
        "import pandas as pd\n",
        "\n",
        "import matplotlib.pyplot as plt\n",
        "\n",
        "from sklearn.ensemble import *\n",
        "from sklearn.model_selection import *\n",
        "from sklearn.metrics import *"
      ],
      "execution_count": 0,
      "outputs": [
        {
          "output_type": "stream",
          "text": [
            "[2020-04-07]\n"
          ],
          "name": "stdout"
        }
      ]
    },
    {
      "cell_type": "markdown",
      "metadata": {
        "id": "GauqzexkvZhl",
        "colab_type": "text"
      },
      "source": [
        "# Импорт данных"
      ]
    },
    {
      "cell_type": "markdown",
      "metadata": {
        "id": "QBPxlyfLvxZm",
        "colab_type": "text"
      },
      "source": [
        "Таблица с историей абсолютных курсов: https://docs.google.com/spreadsheets/d/1_-cdNCIC6NgyRDj0zLJBaohXo-K8qCfxfDLbYq2JLhs/edit#gid=422799220"
      ]
    },
    {
      "cell_type": "code",
      "metadata": {
        "id": "l-fOlyOOtRJo",
        "colab_type": "code",
        "outputId": "5e236441-0b13-48ee-8257-6361b9ee0155",
        "colab": {
          "base_uri": "https://localhost:8080/",
          "height": 34
        }
      },
      "source": [
        "data_url = 'https://docs.google.com/spreadsheets/d/1_-cdNCIC6NgyRDj0zLJBaohXo-K8qCfxfDLbYq2JLhs/export?format=csv&id=1_-cdNCIC6NgyRDj0zLJBaohXo-K8qCfxfDLbYq2JLhs&gid=422799220'\n",
        "abs_data = pd.read_csv(data_url,decimal=',',parse_dates=True,index_col=0)\n",
        "abs_data.shape"
      ],
      "execution_count": 0,
      "outputs": [
        {
          "output_type": "execute_result",
          "data": {
            "text/plain": [
              "(1312, 45)"
            ]
          },
          "metadata": {
            "tags": []
          },
          "execution_count": 2
        }
      ]
    },
    {
      "cell_type": "markdown",
      "metadata": {
        "id": "Yo6hLX-7UqBA",
        "colab_type": "text"
      },
      "source": [
        "# Подготовка данных\n",
        "\n",
        "Вычисляем матрицу относительных изменений абсолютных валютных курсов"
      ]
    },
    {
      "cell_type": "code",
      "metadata": {
        "id": "JYtnp5stSazH",
        "colab_type": "code",
        "colab": {}
      },
      "source": [
        "dates = abs_data.index.values # даты\n",
        "cur_names = abs_data.columns.values # имена валют\n",
        "data = abs_data.values # матрица абсолютных курсов\n",
        "d_data = np.zeros_like(data) # матрица относительных изменений\n",
        "d_data[1:,:] = (data[1:,:]-data[:-1,:])/data[:-1,:] # расчет матрицы относительных изменений"
      ],
      "execution_count": 0,
      "outputs": []
    },
    {
      "cell_type": "markdown",
      "metadata": {
        "id": "jGFfzbkBb5M2",
        "colab_type": "text"
      },
      "source": [
        "# Готовим входы и выходы модели\n",
        "\n",
        "Нормируем относительные изменения.\n",
        "Сибираем матрицу входов и выходов для модели прогнозирования."
      ]
    },
    {
      "cell_type": "code",
      "metadata": {
        "id": "300mylGoKEst",
        "colab_type": "code",
        "colab": {}
      },
      "source": [
        "window = 50 # окно для входов\n",
        "\n",
        "y = d_data.copy()\n",
        "\n",
        "y = (y - y.mean(axis=0)) / y.std(axis=0) # нормируем\n",
        "\n",
        "x_ = [0]*window\n",
        "\n",
        "for w in range(window):\n",
        "    x_[w] = np.zeros_like(y)\n",
        "    x_[w][(1+w):,:] = y[:(-1-w),:]\n",
        "\n",
        "X = np.concatenate(x_,axis=1)[window:,:]\n",
        "y = y[window:]\n",
        "y = np.array(y >= 0,dtype=float) # бинаризируем"
      ],
      "execution_count": 0,
      "outputs": []
    },
    {
      "cell_type": "code",
      "metadata": {
        "id": "_HYf3zgrbK8w",
        "colab_type": "code",
        "outputId": "51342dc2-397a-40d2-b653-29cdc135d604",
        "colab": {
          "base_uri": "https://localhost:8080/",
          "height": 34
        }
      },
      "source": [
        "X.shape,y.shape"
      ],
      "execution_count": 0,
      "outputs": [
        {
          "output_type": "execute_result",
          "data": {
            "text/plain": [
              "((1262, 2250), (1262, 45))"
            ]
          },
          "metadata": {
            "tags": []
          },
          "execution_count": 5
        }
      ]
    },
    {
      "cell_type": "markdown",
      "metadata": {
        "id": "C14zct3WcLPP",
        "colab_type": "text"
      },
      "source": [
        "# Учим классификатор в одной модели для всех валют\n",
        "\n",
        "Используем стандартный пакет **scikit-learn**\n",
        "\n",
        "**RandimForest классификатор:** https://scikit-learn.org/stable/modules/generated/sklearn.ensemble.RandomForestClassifier.html?highlight=randomforest#sklearn.ensemble.RandomForestClassifier\n",
        "\n",
        "\n",
        "\n"
      ]
    },
    {
      "cell_type": "code",
      "metadata": {
        "id": "MjhK9YscBuaP",
        "colab_type": "code",
        "outputId": "c905cc5b-b8f0-4c7e-b1f5-cc891bd58dd0",
        "colab": {
          "base_uri": "https://localhost:8080/",
          "height": 205
        }
      },
      "source": [
        "X_train,X_test,y_train,y_test = train_test_split(X,y,shuffle=False)\n",
        "\n",
        "preds_train = np.zeros_like(y_train)\n",
        "preds_test = np.zeros_like(y_test)\n",
        "\n",
        "k = np.random.randint(y.shape[1])\n",
        "print('для',cur_names[k],k)\n",
        "\n",
        "cl = RandomForestClassifier(n_estimators=100)\n",
        "\n",
        "cl.fit(X_train,y_train)\n",
        "\n",
        "print(cl)\n",
        "print('classes',cl.classes_)\n",
        "\n",
        "preds_train = cl.predict(X_train)\n",
        "preds_test = cl.predict(X_test)"
      ],
      "execution_count": 0,
      "outputs": [
        {
          "output_type": "stream",
          "text": [
            "для ron 38\n",
            "RandomForestClassifier(bootstrap=True, ccp_alpha=0.0, class_weight=None,\n",
            "                       criterion='gini', max_depth=None, max_features='auto',\n",
            "                       max_leaf_nodes=None, max_samples=None,\n",
            "                       min_impurity_decrease=0.0, min_impurity_split=None,\n",
            "                       min_samples_leaf=1, min_samples_split=2,\n",
            "                       min_weight_fraction_leaf=0.0, n_estimators=100,\n",
            "                       n_jobs=None, oob_score=False, random_state=None,\n",
            "                       verbose=0, warm_start=False)\n",
            "classes [array([0., 1.]), array([0., 1.]), array([0., 1.]), array([0., 1.]), array([0., 1.]), array([0., 1.]), array([0., 1.]), array([0., 1.]), array([0., 1.]), array([0., 1.]), array([0., 1.]), array([0., 1.]), array([0., 1.]), array([0., 1.]), array([0., 1.]), array([0., 1.]), array([0., 1.]), array([0., 1.]), array([0., 1.]), array([0., 1.]), array([0., 1.]), array([0., 1.]), array([0., 1.]), array([0., 1.]), array([0., 1.]), array([0., 1.]), array([0., 1.]), array([0., 1.]), array([0., 1.]), array([0., 1.]), array([0., 1.]), array([0., 1.]), array([0., 1.]), array([0., 1.]), array([0., 1.]), array([0., 1.]), array([0., 1.]), array([0., 1.]), array([0., 1.]), array([0., 1.]), array([0., 1.]), array([0., 1.]), array([0., 1.]), array([0., 1.]), array([0., 1.])]\n"
          ],
          "name": "stdout"
        }
      ]
    },
    {
      "cell_type": "markdown",
      "metadata": {
        "id": "3on_K4wdsIGX",
        "colab_type": "text"
      },
      "source": [
        "# Метрики на всех"
      ]
    },
    {
      "cell_type": "code",
      "metadata": {
        "id": "TaSswOKEMmfl",
        "colab_type": "code",
        "outputId": "816ffd5e-8c5b-4343-9a07-368ab6081751",
        "colab": {
          "base_uri": "https://localhost:8080/",
          "height": 898
        }
      },
      "source": [
        "def my_metric(metric_func):\n",
        "    train_ = [metric_func(y_train[:,k],preds_train[:,k]) for k in range(y.shape[1])]\n",
        "    test_ = [metric_func(y_test[:,k],preds_test[:,k]) for k in range(y.shape[1])]\n",
        "\n",
        "    plt.figure(figsize=(12,7))\n",
        "    plt.bar(cur_names,test_,label=\"test (среднее={})\".format(np.mean(test_)))\n",
        "    plt.bar(cur_names,train_,width=0.3,label=\"train (среднее={})\".format(np.mean(train_)))\n",
        "    plt.xticks(rotation=70)\n",
        "    plt.legend()\n",
        "    plt.title(\"Метрика {}\".format(metric_func))\n",
        "    plt.show()\n",
        "\n",
        "my_metric(accuracy_score)\n",
        "my_metric(f1_score)\n"
      ],
      "execution_count": 0,
      "outputs": [
        {
          "output_type": "display_data",
          "data": {
            "image/png": "[encoded data removed]",
            "text/plain": [
              "<Figure size 864x504 with 1 Axes>"
            ]
          },
          "metadata": {
            "tags": []
          }
        },
        {
          "output_type": "display_data",
          "data": {
            "image/png": "[encoded data removed]",
            "text/plain": [
              "<Figure size 864x504 with 1 Axes>"
            ]
          },
          "metadata": {
            "tags": []
          }
        }
      ]
    },
    {
      "cell_type": "markdown",
      "metadata": {
        "id": "ivVvgUPwkAGB",
        "colab_type": "text"
      },
      "source": [
        "На одной модели такой-же результат. Только быстрее."
      ]
    }
  ]
}