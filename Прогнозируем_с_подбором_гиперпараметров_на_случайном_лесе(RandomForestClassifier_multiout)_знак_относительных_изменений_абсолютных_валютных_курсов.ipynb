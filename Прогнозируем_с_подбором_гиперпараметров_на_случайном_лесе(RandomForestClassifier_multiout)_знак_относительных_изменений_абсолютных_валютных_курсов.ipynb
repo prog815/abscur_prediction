{
  "nbformat": 4,
  "nbformat_minor": 0,
  "metadata": {
    "colab": {
      "name": "Прогнозируем с подбором гиперпараметров на случайном лесе(RandomForestClassifier-multiout) знак относительных изменений абсолютных валютных курсов.ipynb",
      "provenance": [],
      "collapsed_sections": [],
      "toc_visible": true,
      "authorship_tag": "ABX9TyNyMy7udVDYqQouKyrYY4nM",
      "include_colab_link": true
    },
    "kernelspec": {
      "name": "python3",
      "display_name": "Python 3"
    }
  },
  "cells": [
    {
      "cell_type": "markdown",
      "metadata": {
        "id": "view-in-github",
        "colab_type": "text"
      },
      "source": [
        "<a href=\"https://colab.research.google.com/github/prog815/abscur_prediction/blob/master/%D0%9F%D1%80%D0%BE%D0%B3%D0%BD%D0%BE%D0%B7%D0%B8%D1%80%D1%83%D0%B5%D0%BC_%D1%81_%D0%BF%D0%BE%D0%B4%D0%B1%D0%BE%D1%80%D0%BE%D0%BC_%D0%B3%D0%B8%D0%BF%D0%B5%D1%80%D0%BF%D0%B0%D1%80%D0%B0%D0%BC%D0%B5%D1%82%D1%80%D0%BE%D0%B2_%D0%BD%D0%B0_%D1%81%D0%BB%D1%83%D1%87%D0%B0%D0%B9%D0%BD%D0%BE%D0%BC_%D0%BB%D0%B5%D1%81%D0%B5(RandomForestClassifier_multiout)_%D0%B7%D0%BD%D0%B0%D0%BA_%D0%BE%D1%82%D0%BD%D0%BE%D1%81%D0%B8%D1%82%D0%B5%D0%BB%D1%8C%D0%BD%D1%8B%D1%85_%D0%B8%D0%B7%D0%BC%D0%B5%D0%BD%D0%B5%D0%BD%D0%B8%D0%B9_%D0%B0%D0%B1%D1%81%D0%BE%D0%BB%D1%8E%D1%82%D0%BD%D1%8B%D1%85_%D0%B2%D0%B0%D0%BB%D1%8E%D1%82%D0%BD%D1%8B%D1%85_%D0%BA%D1%83%D1%80%D1%81%D0%BE%D0%B2.ipynb\" target=\"_parent\"><img src=\"https://colab.research.google.com/assets/colab-badge.svg\" alt=\"Open In Colab\"/></a>"
      ]
    },
    {
      "cell_type": "markdown",
      "metadata": {
        "id": "1mkX7IMcVHgR",
        "colab_type": "text"
      },
      "source": [
        "# **Прогнозируем с подбором гиперпараметров на случайном лесе(RandomForestClassifier-multiout) знак относительных изменений абсолютных валютных курсов**"
      ]
    },
    {
      "cell_type": "markdown",
      "metadata": {
        "id": "aM--woXnu26D",
        "colab_type": "text"
      },
      "source": [
        "**Абсолютный курс**\n",
        "\n",
        "Енин А.В.\n",
        "\n",
        "г. Оренбург\n",
        "\n",
        "2020 г."
      ]
    },
    {
      "cell_type": "markdown",
      "metadata": {
        "id": "q_qWG0YvRMXa",
        "colab_type": "text"
      },
      "source": [
        "Сайт - http://www.abscur.ru\n",
        "\n",
        "Twitter - https://twitter.com/abscurs\n",
        "\n",
        "ВКонтакте -  https://vk.com/abscur\n",
        "\n",
        "Одноклассники -  https://ok.ru/group/53547043520717\n",
        "\n",
        "FB -  https://www.facebook.com/abscur \n",
        "\n",
        "Telegram - https://t.me/AbsCur\n",
        "\n",
        "GitHub - https://github.com/prog815/abscur_prediction\n",
        "\n",
        "WhatsUp - https://chat.whatsapp.com/KrNJXAKizPxDlDSjYfdpQs\n",
        "\n",
        "Viber - https://invite.viber.com/?g2=AQB63y7Cm%2BNJK0tNZW%2F9kI00M6Wr8HuZ7XeamzN4jZCve8Aq9%2FiD3DY56Eqcf7dc"
      ]
    },
    {
      "cell_type": "markdown",
      "metadata": {
        "id": "WzppVKjwUDDD",
        "colab_type": "text"
      },
      "source": [
        "Подбираем гиперпараметры. Прогнозируем знак относительных изменений абсолютного курса. Для этого применяем модель случайного леса (RandomForestClassifier-multiout) по предыдущим значениям (с некоторым окном) относительных изменений абсолютного курса."
      ]
    },
    {
      "cell_type": "markdown",
      "metadata": {
        "id": "unzAhdbWwsg2",
        "colab_type": "text"
      },
      "source": [
        "# Библиотеки"
      ]
    },
    {
      "cell_type": "code",
      "metadata": {
        "id": "lWBV_HiFwqX8",
        "colab_type": "code",
        "outputId": "d4125613-9fca-44ca-c658-7e08b7e9cce5",
        "colab": {
          "base_uri": "https://localhost:8080/",
          "height": 35
        }
      },
      "source": [
        "import datetime\n",
        "print('[{}]'.format(datetime.date.today()))\n",
        "\n",
        "import numpy as np\n",
        "import pandas as pd\n",
        "\n",
        "import matplotlib.pyplot as plt\n",
        "\n",
        "from sklearn.ensemble import *\n",
        "from sklearn.model_selection import *\n",
        "from sklearn.metrics import *"
      ],
      "execution_count": 9,
      "outputs": [
        {
          "output_type": "stream",
          "text": [
            "[2020-04-07]\n"
          ],
          "name": "stdout"
        }
      ]
    },
    {
      "cell_type": "markdown",
      "metadata": {
        "id": "GauqzexkvZhl",
        "colab_type": "text"
      },
      "source": [
        "# Импорт данных"
      ]
    },
    {
      "cell_type": "markdown",
      "metadata": {
        "id": "QBPxlyfLvxZm",
        "colab_type": "text"
      },
      "source": [
        "Таблица с историей абсолютных курсов: https://docs.google.com/spreadsheets/d/1_-cdNCIC6NgyRDj0zLJBaohXo-K8qCfxfDLbYq2JLhs/edit#gid=422799220"
      ]
    },
    {
      "cell_type": "code",
      "metadata": {
        "id": "l-fOlyOOtRJo",
        "colab_type": "code",
        "outputId": "6d2309a5-fe7a-41c9-9a66-bfd14c484217",
        "colab": {
          "base_uri": "https://localhost:8080/",
          "height": 35
        }
      },
      "source": [
        "data_url = 'https://docs.google.com/spreadsheets/d/1_-cdNCIC6NgyRDj0zLJBaohXo-K8qCfxfDLbYq2JLhs/export?format=csv&id=1_-cdNCIC6NgyRDj0zLJBaohXo-K8qCfxfDLbYq2JLhs&gid=422799220'\n",
        "abs_data = pd.read_csv(data_url,decimal=',',parse_dates=True,index_col=0)\n",
        "abs_data.shape"
      ],
      "execution_count": 10,
      "outputs": [
        {
          "output_type": "execute_result",
          "data": {
            "text/plain": [
              "(1312, 45)"
            ]
          },
          "metadata": {
            "tags": []
          },
          "execution_count": 10
        }
      ]
    },
    {
      "cell_type": "markdown",
      "metadata": {
        "id": "Yo6hLX-7UqBA",
        "colab_type": "text"
      },
      "source": [
        "# Подготовка данных\n",
        "\n",
        "Вычисляем матрицу относительных изменений абсолютных валютных курсов"
      ]
    },
    {
      "cell_type": "code",
      "metadata": {
        "id": "JYtnp5stSazH",
        "colab_type": "code",
        "colab": {}
      },
      "source": [
        "dates = abs_data.index.values # даты\n",
        "cur_names = abs_data.columns.values # имена валют\n",
        "data = abs_data.values # матрица абсолютных курсов\n",
        "d_data = np.zeros_like(data) # матрица относительных изменений\n",
        "d_data[1:,:] = (data[1:,:]-data[:-1,:])/data[:-1,:] # расчет матрицы относительных изменений"
      ],
      "execution_count": 0,
      "outputs": []
    },
    {
      "cell_type": "markdown",
      "metadata": {
        "id": "jGFfzbkBb5M2",
        "colab_type": "text"
      },
      "source": [
        "# Готовим входы и выходы модели\n",
        "\n",
        "Нормируем относительные изменения.\n",
        "Сибираем матрицу входов и выходов для модели прогнозирования."
      ]
    },
    {
      "cell_type": "code",
      "metadata": {
        "id": "300mylGoKEst",
        "colab_type": "code",
        "colab": {}
      },
      "source": [
        "window = 30 # окно для входов\n",
        "\n",
        "y = d_data.copy()\n",
        "\n",
        "y = (y - y.mean(axis=0)) / y.std(axis=0) # нормируем\n",
        "\n",
        "x_ = [0]*window\n",
        "\n",
        "for w in range(window):\n",
        "    x_[w] = np.zeros_like(y)\n",
        "    x_[w][(1+w):,:] = y[:(-1-w),:]\n",
        "\n",
        "X = np.concatenate(x_,axis=1)[window:,:]\n",
        "y = y[window:]\n",
        "y = np.array(y >= 0,dtype=float) # бинаризируем"
      ],
      "execution_count": 0,
      "outputs": []
    },
    {
      "cell_type": "code",
      "metadata": {
        "id": "_HYf3zgrbK8w",
        "colab_type": "code",
        "outputId": "7284a0ca-81f3-4610-dad5-42c578172deb",
        "colab": {
          "base_uri": "https://localhost:8080/",
          "height": 35
        }
      },
      "source": [
        "X.shape,y.shape"
      ],
      "execution_count": 13,
      "outputs": [
        {
          "output_type": "execute_result",
          "data": {
            "text/plain": [
              "((1282, 1350), (1282, 45))"
            ]
          },
          "metadata": {
            "tags": []
          },
          "execution_count": 13
        }
      ]
    },
    {
      "cell_type": "markdown",
      "metadata": {
        "id": "SLA-WqzB3MSH",
        "colab_type": "text"
      },
      "source": [
        "# Одна модель для всех валют"
      ]
    },
    {
      "cell_type": "markdown",
      "metadata": {
        "id": "C14zct3WcLPP",
        "colab_type": "text"
      },
      "source": [
        "## Учим классификатор в одной модели для всех валют\n",
        "\n",
        "Используем стандартный пакет **scikit-learn**\n",
        "\n",
        "**RandimForest классификатор:** https://scikit-learn.org/stable/modules/generated/sklearn.ensemble.RandomForestClassifier.html?highlight=randomforest#sklearn.ensemble.RandomForestClassifier\n",
        "\n",
        "Одна модель со многими выходами.\n",
        "\n",
        "**Ищем параметры на GridSearchCV:** https://scikit-learn.org/stable/modules/generated/sklearn.model_selection.GridSearchCV.html\n",
        "\n",
        "\n",
        "\n"
      ]
    },
    {
      "cell_type": "code",
      "metadata": {
        "id": "MjhK9YscBuaP",
        "colab_type": "code",
        "outputId": "50935100-b484-4c90-c592-7ae82598bbe4",
        "colab": {
          "base_uri": "https://localhost:8080/",
          "height": 936
        }
      },
      "source": [
        "X_train,X_test,y_train,y_test = train_test_split(X,y,shuffle=False)\n",
        "                                # разделяем выборки обучающую и тестовую\n",
        "\n",
        "clf = GridSearchCV(RandomForestClassifier(),\n",
        "                   {'n_estimators':np.linspace(5,50,10,dtype=int), \n",
        "                                # варьируем размер ансамбля\n",
        "                    'max_depth':np.linspace(2,20,10,dtype=int)}, \n",
        "                                # варьируем глубину деревьев   \n",
        "                   verbose=10,  # выводим 10 результатов в процессе поиска                                  \n",
        "                   n_jobs=-1,   # используем многопроцессорность                                       \n",
        "                   cv=5,        # используем кроссвалидацию \n",
        "                   scoring=make_scorer(f1_score,average='weighted'),\n",
        "                                # скор берем по F1 норме\n",
        "                   return_train_score=True)\n",
        "\n",
        "clf.fit(X_train,y_train)        # учим \n",
        "\n",
        "print(clf)\n",
        "\n",
        "preds_train = clf.predict(X_train)\n",
        "                                # результат на обучающей выборке\n",
        "preds_test = clf.predict(X_test)\n",
        "                                # результат на тестовой выборке"
      ],
      "execution_count": 63,
      "outputs": [
        {
          "output_type": "stream",
          "text": [
            "Fitting 5 folds for each of 100 candidates, totalling 500 fits\n"
          ],
          "name": "stdout"
        },
        {
          "output_type": "stream",
          "text": [
            "[Parallel(n_jobs=-1)]: Using backend LokyBackend with 2 concurrent workers.\n",
            "[Parallel(n_jobs=-1)]: Done   1 tasks      | elapsed:    1.1s\n",
            "[Parallel(n_jobs=-1)]: Done   4 tasks      | elapsed:    1.5s\n",
            "[Parallel(n_jobs=-1)]: Done   9 tasks      | elapsed:    2.9s\n",
            "[Parallel(n_jobs=-1)]: Done  14 tasks      | elapsed:    4.8s\n",
            "[Parallel(n_jobs=-1)]: Done  21 tasks      | elapsed:    8.7s\n",
            "[Parallel(n_jobs=-1)]: Done  28 tasks      | elapsed:   13.7s\n",
            "[Parallel(n_jobs=-1)]: Done  37 tasks      | elapsed:   22.0s\n",
            "[Parallel(n_jobs=-1)]: Done  46 tasks      | elapsed:   32.2s\n",
            "[Parallel(n_jobs=-1)]: Done  57 tasks      | elapsed:   39.0s\n",
            "[Parallel(n_jobs=-1)]: Done  68 tasks      | elapsed:   46.9s\n",
            "[Parallel(n_jobs=-1)]: Done  81 tasks      | elapsed:  1.0min\n",
            "[Parallel(n_jobs=-1)]: Done  94 tasks      | elapsed:  1.4min\n",
            "[Parallel(n_jobs=-1)]: Done 109 tasks      | elapsed:  1.7min\n",
            "[Parallel(n_jobs=-1)]: Done 124 tasks      | elapsed:  2.0min\n",
            "[Parallel(n_jobs=-1)]: Done 141 tasks      | elapsed:  2.7min\n",
            "[Parallel(n_jobs=-1)]: Done 158 tasks      | elapsed:  3.2min\n",
            "[Parallel(n_jobs=-1)]: Done 177 tasks      | elapsed:  3.7min\n",
            "[Parallel(n_jobs=-1)]: Done 196 tasks      | elapsed:  4.7min\n",
            "[Parallel(n_jobs=-1)]: Done 217 tasks      | elapsed:  5.2min\n",
            "[Parallel(n_jobs=-1)]: Done 238 tasks      | elapsed:  6.2min\n",
            "[Parallel(n_jobs=-1)]: Done 261 tasks      | elapsed:  7.2min\n",
            "[Parallel(n_jobs=-1)]: Done 284 tasks      | elapsed:  8.2min\n",
            "[Parallel(n_jobs=-1)]: Done 309 tasks      | elapsed:  9.6min\n",
            "[Parallel(n_jobs=-1)]: Done 334 tasks      | elapsed: 10.7min\n",
            "[Parallel(n_jobs=-1)]: Done 361 tasks      | elapsed: 12.1min\n",
            "[Parallel(n_jobs=-1)]: Done 388 tasks      | elapsed: 13.5min\n",
            "[Parallel(n_jobs=-1)]: Done 417 tasks      | elapsed: 14.9min\n",
            "[Parallel(n_jobs=-1)]: Done 446 tasks      | elapsed: 16.8min\n",
            "[Parallel(n_jobs=-1)]: Done 477 tasks      | elapsed: 17.9min\n",
            "[Parallel(n_jobs=-1)]: Done 500 out of 500 | elapsed: 19.7min finished\n"
          ],
          "name": "stderr"
        },
        {
          "output_type": "stream",
          "text": [
            "GridSearchCV(cv=5, error_score=nan,\n",
            "             estimator=RandomForestClassifier(bootstrap=True, ccp_alpha=0.0,\n",
            "                                              class_weight=None,\n",
            "                                              criterion='gini', max_depth=None,\n",
            "                                              max_features='auto',\n",
            "                                              max_leaf_nodes=None,\n",
            "                                              max_samples=None,\n",
            "                                              min_impurity_decrease=0.0,\n",
            "                                              min_impurity_split=None,\n",
            "                                              min_samples_leaf=1,\n",
            "                                              min_samples_split=2,\n",
            "                                              min_weight_fraction_leaf=0.0,\n",
            "                                              n_estimators=100, n_jobs=None,\n",
            "                                              oob_score=False,\n",
            "                                              random_state=None, verbose=0,\n",
            "                                              warm_start=False),\n",
            "             iid='deprecated', n_jobs=-1,\n",
            "             param_grid={'max_depth': array([ 2,  4,  6,  8, 10, 12, 14, 16, 18, 20]),\n",
            "                         'n_estimators': array([ 5, 10, 15, 20, 25, 30, 35, 40, 45, 50])},\n",
            "             pre_dispatch='2*n_jobs', refit=True, return_train_score=True,\n",
            "             scoring=make_scorer(f1_score, average=weighted), verbose=10)\n"
          ],
          "name": "stdout"
        }
      ]
    },
    {
      "cell_type": "code",
      "metadata": {
        "id": "OPmU4wLcM5ID",
        "colab_type": "code",
        "outputId": "49dcde18-1eef-47ba-cd6b-4b8c3c7ac20a",
        "colab": {
          "base_uri": "https://localhost:8080/",
          "height": 35
        }
      },
      "source": [
        "print('лучшие параметры',clf.best_params_)"
      ],
      "execution_count": 64,
      "outputs": [
        {
          "output_type": "stream",
          "text": [
            "лучшие параметры {'max_depth': 18, 'n_estimators': 15}\n"
          ],
          "name": "stdout"
        }
      ]
    },
    {
      "cell_type": "markdown",
      "metadata": {
        "id": "3on_K4wdsIGX",
        "colab_type": "text"
      },
      "source": [
        "## Метрики на всех"
      ]
    },
    {
      "cell_type": "code",
      "metadata": {
        "id": "TaSswOKEMmfl",
        "colab_type": "code",
        "outputId": "227826c2-fcca-45ff-bada-0694a26468ef",
        "colab": {
          "base_uri": "https://localhost:8080/",
          "height": 899
        }
      },
      "source": [
        "def my_metric(metric_func):\n",
        "    train_ = [metric_func(y_train[:,k],preds_train[:,k]) for k in range(y.shape[1])]\n",
        "    test_ = [metric_func(y_test[:,k],preds_test[:,k]) for k in range(y.shape[1])]\n",
        "\n",
        "    plt.figure(figsize=(12,7))\n",
        "    plt.bar(cur_names,test_,label=\"test (среднее={})\".format(np.mean(test_)))\n",
        "    plt.bar(cur_names,train_,width=0.3,label=\"train (среднее={})\".format(np.mean(train_)))\n",
        "    plt.xticks(rotation=70)\n",
        "    plt.legend()\n",
        "    plt.title(\"Метрика {}\".format(metric_func))\n",
        "    plt.show()\n",
        "\n",
        "my_metric(accuracy_score)\n",
        "my_metric(f1_score)\n"
      ],
      "execution_count": 65,
      "outputs": [
        {
          "output_type": "display_data",
          "data": {
            "image/png": "[encoded data removed]",
            "text/plain": [
              "<Figure size 864x504 with 1 Axes>"
            ]
          },
          "metadata": {
            "tags": []
          }
        },
        {
          "output_type": "display_data",
          "data": {
            "image/png": "[encoded data removed]",
            "text/plain": [
              "<Figure size 864x504 with 1 Axes>"
            ]
          },
          "metadata": {
            "tags": []
          }
        }
      ]
    },
    {
      "cell_type": "markdown",
      "metadata": {
        "id": "ivVvgUPwkAGB",
        "colab_type": "text"
      },
      "source": [
        "Модель попыталась поднять качество на всех валютах вместе. Общее среднее тестовое качество поднялось, но не перешло за 0.5. \n",
        "\n",
        "Можно предположить, что если искать гиперпараметры для каждой валюты по отдельности, то можно добиться лучшего общего результата."
      ]
    }
  ]
}