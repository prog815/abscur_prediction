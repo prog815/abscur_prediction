{
  "nbformat": 4,
  "nbformat_minor": 0,
  "metadata": {
    "colab": {
      "name": "Прогнозируем на линейной модели относительные изменения абсолютных валютных курсов.ipynb",
      "provenance": [],
      "collapsed_sections": [],
      "toc_visible": true,
      "authorship_tag": "ABX9TyNGUJcLWEtU71ksWg+tQuIb",
      "include_colab_link": true
    },
    "kernelspec": {
      "name": "python3",
      "display_name": "Python 3"
    }
  },
  "cells": [
    {
      "cell_type": "markdown",
      "metadata": {
        "id": "view-in-github",
        "colab_type": "text"
      },
      "source": [
        "<a href=\"https://colab.research.google.com/github/prog815/abscur_prediction/blob/master/%D0%9F%D1%80%D0%BE%D0%B3%D0%BD%D0%BE%D0%B7%D0%B8%D1%80%D1%83%D0%B5%D0%BC_%D0%BD%D0%B0_%D0%BB%D0%B8%D0%BD%D0%B5%D0%B9%D0%BD%D0%BE%D0%B9_%D0%BC%D0%BE%D0%B4%D0%B5%D0%BB%D0%B8_%D0%BE%D1%82%D0%BD%D0%BE%D1%81%D0%B8%D1%82%D0%B5%D0%BB%D1%8C%D0%BD%D1%8B%D0%B5_%D0%B8%D0%B7%D0%BC%D0%B5%D0%BD%D0%B5%D0%BD%D0%B8%D1%8F_%D0%B0%D0%B1%D1%81%D0%BE%D0%BB%D1%8E%D1%82%D0%BD%D1%8B%D1%85_%D0%B2%D0%B0%D0%BB%D1%8E%D1%82%D0%BD%D1%8B%D1%85_%D0%BA%D1%83%D1%80%D1%81%D0%BE%D0%B2.ipynb\" target=\"_parent\"><img src=\"https://colab.research.google.com/assets/colab-badge.svg\" alt=\"Open In Colab\"/></a>"
      ]
    },
    {
      "cell_type": "markdown",
      "metadata": {
        "id": "1mkX7IMcVHgR",
        "colab_type": "text"
      },
      "source": [
        "# **Прогнозируем на линейной модели относительные изменения абсолютных валютных курсов**"
      ]
    },
    {
      "cell_type": "markdown",
      "metadata": {
        "id": "aM--woXnu26D",
        "colab_type": "text"
      },
      "source": [
        "**Абсолютный курс**\n",
        "\n",
        "Енин А.В.\n",
        "\n",
        "г. Оренбург\n",
        "\n",
        "2020 г."
      ]
    },
    {
      "cell_type": "markdown",
      "metadata": {
        "id": "q_qWG0YvRMXa",
        "colab_type": "text"
      },
      "source": [
        "Сайт - http://www.abscur.ru\n",
        "\n",
        "Twitter - https://twitter.com/abscurs\n",
        "\n",
        "ВКонтакте -  https://vk.com/abscur\n",
        "\n",
        "Одноклассники -  https://ok.ru/group/53547043520717\n",
        "\n",
        "FB -  https://www.facebook.com/abscur \n",
        "\n",
        "Telegram - https://t.me/AbsCur\n",
        "\n",
        "GitHub - https://github.com/prog815/abscur_prediction\n",
        "\n",
        "WhatsUp - https://chat.whatsapp.com/KrNJXAKizPxDlDSjYfdpQs\n",
        "\n",
        "Viber - https://invite.viber.com/?g2=AQB63y7Cm%2BNJK0tNZW%2F9kI00M6Wr8HuZ7XeamzN4jZCve8Aq9%2FiD3DY56Eqcf7dc"
      ]
    },
    {
      "cell_type": "markdown",
      "metadata": {
        "id": "WzppVKjwUDDD",
        "colab_type": "text"
      },
      "source": [
        "Прогнозируем следующие значения относительных изменений абсолютного курса. Для этого применяем линейную модель по предыдущим значениям (с некоторым окном) относительных изменений абсолютного курса."
      ]
    },
    {
      "cell_type": "markdown",
      "metadata": {
        "id": "unzAhdbWwsg2",
        "colab_type": "text"
      },
      "source": [
        "# Библиотеки"
      ]
    },
    {
      "cell_type": "code",
      "metadata": {
        "id": "lWBV_HiFwqX8",
        "colab_type": "code",
        "outputId": "a918f4f4-d4bc-4472-a7ef-ff1e17df14ca",
        "colab": {
          "base_uri": "https://localhost:8080/",
          "height": 34
        }
      },
      "source": [
        "import datetime\n",
        "print(datetime.date.today())\n",
        "\n",
        "import numpy as np\n",
        "import pandas as pd\n",
        "\n",
        "import matplotlib.pyplot as plt"
      ],
      "execution_count": 0,
      "outputs": [
        {
          "output_type": "stream",
          "text": [
            "2020-03-26\n"
          ],
          "name": "stdout"
        }
      ]
    },
    {
      "cell_type": "markdown",
      "metadata": {
        "id": "GauqzexkvZhl",
        "colab_type": "text"
      },
      "source": [
        "# Импорт данных"
      ]
    },
    {
      "cell_type": "markdown",
      "metadata": {
        "id": "QBPxlyfLvxZm",
        "colab_type": "text"
      },
      "source": [
        "Таблица с историей абсолютных курсов: https://docs.google.com/spreadsheets/d/1_-cdNCIC6NgyRDj0zLJBaohXo-K8qCfxfDLbYq2JLhs/edit#gid=422799220"
      ]
    },
    {
      "cell_type": "code",
      "metadata": {
        "id": "l-fOlyOOtRJo",
        "colab_type": "code",
        "outputId": "e356a15c-12a2-47e8-9857-62823acff542",
        "colab": {
          "base_uri": "https://localhost:8080/",
          "height": 34
        }
      },
      "source": [
        "data_url = 'https://docs.google.com/spreadsheets/d/1_-cdNCIC6NgyRDj0zLJBaohXo-K8qCfxfDLbYq2JLhs/export?format=csv&id=1_-cdNCIC6NgyRDj0zLJBaohXo-K8qCfxfDLbYq2JLhs&gid=422799220'\n",
        "abs_data = pd.read_csv(data_url,decimal=',',parse_dates=True,index_col=0)\n",
        "abs_data.shape"
      ],
      "execution_count": 0,
      "outputs": [
        {
          "output_type": "execute_result",
          "data": {
            "text/plain": [
              "(1300, 45)"
            ]
          },
          "metadata": {
            "tags": []
          },
          "execution_count": 8
        }
      ]
    },
    {
      "cell_type": "markdown",
      "metadata": {
        "id": "Yo6hLX-7UqBA",
        "colab_type": "text"
      },
      "source": [
        "# Подготовка данных\n",
        "\n",
        "Вычисляем матрицу относительных изменений абсолютных валютных курсов"
      ]
    },
    {
      "cell_type": "code",
      "metadata": {
        "id": "JYtnp5stSazH",
        "colab_type": "code",
        "colab": {}
      },
      "source": [
        "dates = abs_data.index.values # даты\n",
        "cur_names = abs_data.columns.values # имена валют\n",
        "data = abs_data.values # матрица абсолютных курсов\n",
        "d_data = np.zeros_like(data) # матрица относительных изменений\n",
        "d_data[1:,:] = (data[1:,:]-data[:-1,:])/data[:-1,:] # расчет матрицы относительных изменений"
      ],
      "execution_count": 0,
      "outputs": []
    },
    {
      "cell_type": "markdown",
      "metadata": {
        "id": "jGFfzbkBb5M2",
        "colab_type": "text"
      },
      "source": [
        "# Готовоим входы и выходы модели\n",
        "\n",
        "Нормируем относительные изменения.\n",
        "Сибираем матрицу входов и выходов для модели прогнозирования."
      ]
    },
    {
      "cell_type": "code",
      "metadata": {
        "id": "300mylGoKEst",
        "colab_type": "code",
        "colab": {}
      },
      "source": [
        "window = 30 # окно для входов\n",
        "\n",
        "y = d_data.copy()\n",
        "\n",
        "y = (y - y.mean(axis=0)) / y.std(axis=0) # нормаируем\n",
        "\n",
        "x_ = [0]*window\n",
        "\n",
        "for w in range(window):\n",
        "    x_[w] = np.zeros_like(y)\n",
        "    x_[w][(1+w):,:] = y[:(-1-w),:]\n",
        "\n",
        "X = np.concatenate(x_,axis=1)[window:,:]\n",
        "y = y[window:]"
      ],
      "execution_count": 0,
      "outputs": []
    },
    {
      "cell_type": "code",
      "metadata": {
        "id": "_HYf3zgrbK8w",
        "colab_type": "code",
        "outputId": "8a15ac96-4ccd-4987-fc40-b98eefc76cc7",
        "colab": {
          "base_uri": "https://localhost:8080/",
          "height": 34
        }
      },
      "source": [
        "X.shape,y.shape"
      ],
      "execution_count": 0,
      "outputs": [
        {
          "output_type": "execute_result",
          "data": {
            "text/plain": [
              "((1270, 1350), (1270, 45))"
            ]
          },
          "metadata": {
            "tags": []
          },
          "execution_count": 68
        }
      ]
    },
    {
      "cell_type": "markdown",
      "metadata": {
        "id": "C14zct3WcLPP",
        "colab_type": "text"
      },
      "source": [
        "# Учим модель\n",
        "\n",
        "Используем стандартный пакет **scikit-learn**\n",
        "\n",
        "https://scikit-learn.org/stable/modules/linear_model.html#ridge-regression-and-classification\n",
        "\n",
        "Готовим обучающую и тестовую выборки. Не перемешиваем. Выборки последовательные.\n",
        "Но при перемешивании получили те-же результаты.\n",
        "\n",
        "Создаем модель.\n",
        "Учим модель на обучающей выборке.\n",
        "\n",
        "Прогнозируем результаты для тестовой и обучающей выборок.\n"
      ]
    },
    {
      "cell_type": "code",
      "metadata": {
        "id": "DHiVIH9zEJ0m",
        "colab_type": "code",
        "colab": {}
      },
      "source": [
        "from sklearn import linear_model\n",
        "from sklearn.model_selection import train_test_split\n",
        "\n",
        "X_train,X_test,y_train,y_test = train_test_split(X,y,shuffle=False)\n",
        "\n",
        "reg = linear_model.Ridge(alpha=.5,normalize=True,max_iter=1000)\n",
        "\n",
        "reg.fit(X_train,y_train)\n",
        "\n",
        "preds_train = reg.predict(X_train)\n",
        "preds_test = reg.predict(X_test)"
      ],
      "execution_count": 0,
      "outputs": []
    },
    {
      "cell_type": "markdown",
      "metadata": {
        "id": "pY_9-GWLm3MQ",
        "colab_type": "text"
      },
      "source": [
        "# Смотрим результаты\n",
        "\n"
      ]
    },
    {
      "cell_type": "code",
      "metadata": {
        "id": "fmcFEGFAd2iC",
        "colab_type": "code",
        "outputId": "acd7dc71-2f10-4a5a-8636-132f573e01ec",
        "colab": {
          "base_uri": "https://localhost:8080/",
          "height": 545
        }
      },
      "source": [
        "n = np.random.randint(y.shape[1])\n",
        "\n",
        "plt.figure()\n",
        "plt.scatter(y_train[:,n],preds_train[:,n])\n",
        "plt.grid()\n",
        "plt.title(\"качество на обучении для {} (нормировано)\".format(cur_names[n]))\n",
        "plt.show()\n",
        "\n",
        "plt.figure()\n",
        "plt.scatter(y_test[:,n],preds_test[:,n])\n",
        "plt.grid()\n",
        "plt.title(\"качество на тесте для {} (нормировано)\".format(cur_names[n]))\n",
        "plt.show()"
      ],
      "execution_count": 0,
      "outputs": [
        {
          "output_type": "display_data",
          "data": {
            "image/png": "[encoded data removed]",
            "text/plain": [
              "<Figure size 432x288 with 1 Axes>"
            ]
          },
          "metadata": {
            "tags": []
          }
        },
        {
          "output_type": "display_data",
          "data": {
            "image/png": "[encoded data removed]",
            "text/plain": [
              "<Figure size 432x288 with 1 Axes>"
            ]
          },
          "metadata": {
            "tags": []
          }
        }
      ]
    },
    {
      "cell_type": "markdown",
      "metadata": {
        "id": "ivVvgUPwkAGB",
        "colab_type": "text"
      },
      "source": [
        "Сразу хорошие результаты получить не получается. За хороший результат надо биться. Поищем."
      ]
    }
  ]
}