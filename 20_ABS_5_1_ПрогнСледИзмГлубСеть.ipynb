{
  "nbformat": 4,
  "nbformat_minor": 0,
  "metadata": {
    "colab": {
      "name": "20-ABS-5.1 - ПрогнСледИзмГлубСеть.ipynb",
      "provenance": [],
      "collapsed_sections": [],
      "toc_visible": true,
      "authorship_tag": "ABX9TyOtwbdcUMfN/flStOZnbUpz",
      "include_colab_link": true
    },
    "kernelspec": {
      "name": "python3",
      "display_name": "Python 3"
    },
    "accelerator": "GPU"
  },
  "cells": [
    {
      "cell_type": "markdown",
      "metadata": {
        "id": "view-in-github",
        "colab_type": "text"
      },
      "source": [
        "<a href=\"https://colab.research.google.com/github/prog815/abscur_prediction/blob/master/20_ABS_5_1_%D0%9F%D1%80%D0%BE%D0%B3%D0%BD%D0%A1%D0%BB%D0%B5%D0%B4%D0%98%D0%B7%D0%BC%D0%93%D0%BB%D1%83%D0%B1%D0%A1%D0%B5%D1%82%D1%8C.ipynb\" target=\"_parent\"><img src=\"https://colab.research.google.com/assets/colab-badge.svg\" alt=\"Open In Colab\"/></a>"
      ]
    },
    {
      "cell_type": "markdown",
      "metadata": {
        "id": "1mkX7IMcVHgR",
        "colab_type": "text"
      },
      "source": [
        "# **Прогноз следующего изменения (глубокая сеть)**"
      ]
    },
    {
      "cell_type": "markdown",
      "metadata": {
        "id": "aM--woXnu26D",
        "colab_type": "text"
      },
      "source": [
        "**Абсолютный курс**\n",
        "\n",
        "Енин А.В.\n",
        "\n",
        "г. Оренбург\n",
        "\n",
        "25.04.2020 г."
      ]
    },
    {
      "cell_type": "markdown",
      "metadata": {
        "id": "q_qWG0YvRMXa",
        "colab_type": "text"
      },
      "source": [
        "Сайт - http://www.abscur.ru\n",
        "\n",
        "Twitter - https://twitter.com/abscurs\n",
        "\n",
        "ВКонтакте -  https://vk.com/abscur\n",
        "\n",
        "Одноклассники -  https://ok.ru/group/53547043520717\n",
        "\n",
        "FB -  https://www.facebook.com/abscur \n",
        "\n",
        "Telegram - https://t.me/AbsCur\n",
        "\n",
        "GitHub - https://github.com/prog815/abscur_prediction\n",
        "\n",
        "WhatsUp - https://chat.whatsapp.com/KrNJXAKizPxDlDSjYfdpQs\n",
        "\n",
        "Viber - https://invite.viber.com/?g2=AQB63y7Cm%2BNJK0tNZW%2F9kI00M6Wr8HuZ7XeamzN4jZCve8Aq9%2FiD3DY56Eqcf7dc"
      ]
    },
    {
      "cell_type": "markdown",
      "metadata": {
        "id": "e6YeYGNnM3va",
        "colab_type": "text"
      },
      "source": [
        "## Альбом"
      ]
    },
    {
      "cell_type": "markdown",
      "metadata": {
        "id": "MR8YNhsLNxAd",
        "colab_type": "text"
      },
      "source": [
        "# Библиотеки"
      ]
    },
    {
      "cell_type": "code",
      "metadata": {
        "id": "hJf-lI45NvXv",
        "colab_type": "code",
        "colab": {}
      },
      "source": [
        "import numpy as np\n",
        "import pandas as pd\n",
        "import matplotlib.pyplot as plt\n",
        "from sklearn.model_selection import train_test_split"
      ],
      "execution_count": 0,
      "outputs": []
    },
    {
      "cell_type": "markdown",
      "metadata": {
        "id": "GauqzexkvZhl",
        "colab_type": "text"
      },
      "source": [
        "# Импорт данных"
      ]
    },
    {
      "cell_type": "markdown",
      "metadata": {
        "id": "QBPxlyfLvxZm",
        "colab_type": "text"
      },
      "source": [
        "Таблица с историей абсолютных курсов: https://docs.google.com/spreadsheets/d/1_-cdNCIC6NgyRDj0zLJBaohXo-K8qCfxfDLbYq2JLhs/edit#gid=422799220"
      ]
    },
    {
      "cell_type": "code",
      "metadata": {
        "id": "SF6XkvL0b2C3",
        "colab_type": "code",
        "outputId": "33a9be01-0173-477b-b303-0c7594bd7445",
        "colab": {
          "base_uri": "https://localhost:8080/",
          "height": 315
        }
      },
      "source": [
        "! wget -O abscur.py https://github.com/prog815/abscur_prediction/raw/master/abscur.py \n",
        "import abscur"
      ],
      "execution_count": 0,
      "outputs": [
        {
          "output_type": "stream",
          "text": [
            "--2020-04-30 08:34:11--  https://github.com/prog815/abscur_prediction/raw/master/abscur.py\n",
            "Resolving github.com (github.com)... 140.82.118.4\n",
            "Connecting to github.com (github.com)|140.82.118.4|:443... connected.\n",
            "HTTP request sent, awaiting response... 302 Found\n",
            "Location: https://raw.githubusercontent.com/prog815/abscur_prediction/master/abscur.py [following]\n",
            "--2020-04-30 08:34:12--  https://raw.githubusercontent.com/prog815/abscur_prediction/master/abscur.py\n",
            "Resolving raw.githubusercontent.com (raw.githubusercontent.com)... 151.101.0.133, 151.101.64.133, 151.101.128.133, ...\n",
            "Connecting to raw.githubusercontent.com (raw.githubusercontent.com)|151.101.0.133|:443... connected.\n",
            "HTTP request sent, awaiting response... 200 OK\n",
            "Length: 727 [text/plain]\n",
            "Saving to: ‘abscur.py’\n",
            "\n",
            "\rabscur.py             0%[                    ]       0  --.-KB/s               \rabscur.py           100%[===================>]     727  --.-KB/s    in 0s      \n",
            "\n",
            "2020-04-30 08:34:12 (33.2 MB/s) - ‘abscur.py’ saved [727/727]\n",
            "\n"
          ],
          "name": "stdout"
        }
      ]
    },
    {
      "cell_type": "code",
      "metadata": {
        "id": "UHy9hWr4w1qq",
        "colab_type": "code",
        "colab": {}
      },
      "source": [
        "import sys\n",
        "if 'abscur' in sys.modules:\n",
        "    del sys.modules['abscur']\n",
        "import abscur"
      ],
      "execution_count": 0,
      "outputs": []
    },
    {
      "cell_type": "code",
      "metadata": {
        "id": "bSCx1bzqw41a",
        "colab_type": "code",
        "colab": {}
      },
      "source": [
        "data = abscur.get_data()\n",
        "d_data = data.pct_change()"
      ],
      "execution_count": 0,
      "outputs": []
    },
    {
      "cell_type": "markdown",
      "metadata": {
        "id": "kjTlJkuNMBiJ",
        "colab_type": "text"
      },
      "source": [
        "# Подготовка данных для модели"
      ]
    },
    {
      "cell_type": "markdown",
      "metadata": {
        "id": "Q1nW7JyyNMWu",
        "colab_type": "text"
      },
      "source": [
        "## Входы"
      ]
    },
    {
      "cell_type": "code",
      "metadata": {
        "id": "amAQbrc5PRZ7",
        "colab_type": "code",
        "colab": {}
      },
      "source": [
        "glub = 30 # глубина линии задержки\n",
        "cur_names = list(data.columns)\n",
        "inp_names = []\n",
        "inp_grups = []\n",
        "for cur in cur_names:\n",
        "    grup = []\n",
        "    for n in range(1,glub+1):\n",
        "        name = 'inp_' + cur + '_' + str(n)\n",
        "        inp_names.append(name)\n",
        "        grup.append(name)\n",
        "        d_data[name] = d_data[cur].shift(n)\n",
        "    inp_grups.append(grup)"
      ],
      "execution_count": 0,
      "outputs": []
    },
    {
      "cell_type": "markdown",
      "metadata": {
        "id": "Lp6F4UnzNO8A",
        "colab_type": "text"
      },
      "source": [
        "## Выход"
      ]
    },
    {
      "cell_type": "code",
      "metadata": {
        "id": "UdginOfbNF5T",
        "colab_type": "code",
        "outputId": "97fded00-cd04-45a4-f01a-863a813ea546",
        "colab": {
          "base_uri": "https://localhost:8080/",
          "height": 35
        }
      },
      "source": [
        "out_cur = np.random.choice(cur_names)\n",
        "print('прогнозная валюта - ',out_cur)\n",
        "out_name = 'out_' + cur\n",
        "d_data[out_name] = np.array(d_data[out_cur]>0,dtype=int)"
      ],
      "execution_count": 0,
      "outputs": [
        {
          "output_type": "stream",
          "text": [
            "прогнозная валюта -  brl\n"
          ],
          "name": "stdout"
        }
      ]
    },
    {
      "cell_type": "markdown",
      "metadata": {
        "id": "Yvl9tWVPTaNE",
        "colab_type": "text"
      },
      "source": [
        "## Чистим пустоты"
      ]
    },
    {
      "cell_type": "code",
      "metadata": {
        "id": "UoNpisvRTWga",
        "colab_type": "code",
        "outputId": "1064baa7-5038-4fc8-89a2-f8987980886e",
        "colab": {
          "base_uri": "https://localhost:8080/",
          "height": 35
        }
      },
      "source": [
        "d_data.dropna(inplace=True)\n",
        "d_data.shape"
      ],
      "execution_count": 0,
      "outputs": [
        {
          "output_type": "execute_result",
          "data": {
            "text/plain": [
              "(1289, 1396)"
            ]
          },
          "metadata": {
            "tags": []
          },
          "execution_count": 17
        }
      ]
    },
    {
      "cell_type": "markdown",
      "metadata": {
        "id": "k6z5wG0jVfQf",
        "colab_type": "text"
      },
      "source": [
        "## Разделяем выборки (индексами)"
      ]
    },
    {
      "cell_type": "code",
      "metadata": {
        "id": "yGa-QvdwVxkl",
        "colab_type": "code",
        "colab": {}
      },
      "source": [
        "all_len = d_data.shape[0]\n",
        "train_len = int(all_len * 0.7)\n",
        "test_len = all_len - train_len\n",
        "ind_all = list(range(all_len))\n",
        "ind_train = ind_all[:train_len]\n",
        "ind_test = ind_all[train_len:]"
      ],
      "execution_count": 0,
      "outputs": []
    },
    {
      "cell_type": "markdown",
      "metadata": {
        "id": "dblkUl9QqNWX",
        "colab_type": "text"
      },
      "source": [
        "## Нормировка и кодирование"
      ]
    },
    {
      "cell_type": "code",
      "metadata": {
        "id": "5WpT_bUMqMHZ",
        "colab_type": "code",
        "outputId": "4bead399-1370-4a4a-e01a-6cc19c69dbbd",
        "colab": {
          "base_uri": "https://localhost:8080/",
          "height": 52
        }
      },
      "source": [
        "X_train = d_data[inp_names].values[ind_train]\n",
        "y_train = d_data[out_name].values[ind_train].reshape(-1,1)\n",
        "X_test = d_data[inp_names].values[ind_test]\n",
        "y_test = d_data[out_name].values[ind_test].reshape(-1,1)\n",
        "\n",
        "from sklearn.preprocessing import OneHotEncoder, StandardScaler\n",
        "\n",
        "ss = StandardScaler()\n",
        "ss.fit(X_train)\n",
        "\n",
        "enc = OneHotEncoder(sparse=False)\n",
        "enc.fit(y_train)"
      ],
      "execution_count": 0,
      "outputs": [
        {
          "output_type": "execute_result",
          "data": {
            "text/plain": [
              "OneHotEncoder(categories='auto', drop=None, dtype=<class 'numpy.float64'>,\n",
              "              handle_unknown='error', sparse=False)"
            ]
          },
          "metadata": {
            "tags": []
          },
          "execution_count": 19
        }
      ]
    },
    {
      "cell_type": "markdown",
      "metadata": {
        "id": "MGk6PZNiLzEJ",
        "colab_type": "text"
      },
      "source": [
        "# Сеть"
      ]
    },
    {
      "cell_type": "code",
      "metadata": {
        "id": "xB4MGmV3Jr_E",
        "colab_type": "code",
        "outputId": "3d58ee40-8261-43d0-b804-8c4d4c856ccf",
        "colab": {
          "base_uri": "https://localhost:8080/",
          "height": 35
        }
      },
      "source": [
        "from __future__ import absolute_import, division, print_function, unicode_literals\n",
        "\n",
        "# TensorFlow и tf.keras\n",
        "import tensorflow as tf\n",
        "from tensorflow import keras\n",
        "\n",
        "# Вспомогательные библиотеки\n",
        "import numpy as np\n",
        "import matplotlib.pyplot as plt\n",
        "\n",
        "print(tf.__version__)"
      ],
      "execution_count": 0,
      "outputs": [
        {
          "output_type": "stream",
          "text": [
            "2.2.0-rc3\n"
          ],
          "name": "stdout"
        }
      ]
    },
    {
      "cell_type": "markdown",
      "metadata": {
        "id": "Dsyk7rxWMMyD",
        "colab_type": "text"
      },
      "source": [
        "## Создание модели"
      ]
    },
    {
      "cell_type": "code",
      "metadata": {
        "id": "K7-McpQ6KoCh",
        "colab_type": "code",
        "outputId": "4d9fe5e3-5335-423f-8600-d2cb1355c112",
        "colab": {
          "base_uri": "https://localhost:8080/",
          "height": 416
        }
      },
      "source": [
        "regul = 1e-1\n",
        "dropout = 0.3\n",
        "lr = 1e-2\n",
        "\n",
        "model = keras.Sequential()\n",
        "model.add(keras.layers.Dense(800,\n",
        "                             input_shape=(X_train.shape[1],),\n",
        "                             activation='relu',\n",
        "                             kernel_regularizer=keras.regularizers.l2(regul)))\n",
        "model.add(keras.layers.Dropout(dropout))\n",
        "\n",
        "model.add(keras.layers.BatchNormalization())\n",
        "model.add(keras.layers.Dense(800,\n",
        "                             activation='relu',\n",
        "                             kernel_regularizer=keras.regularizers.l2(regul)))\n",
        "model.add(keras.layers.Dropout(dropout))\n",
        "\n",
        "model.add(keras.layers.BatchNormalization())\n",
        "model.add(keras.layers.Dense(2,activation='softmax'))\n",
        "\n",
        "model.compile(optimizer=tf.optimizers.Adam(learning_rate=lr),\n",
        "              loss=tf.losses.CategoricalCrossentropy(),\n",
        "              metrics=['accuracy'])\n",
        "\n",
        "print(model.summary())"
      ],
      "execution_count": 0,
      "outputs": [
        {
          "output_type": "stream",
          "text": [
            "Model: \"sequential_25\"\n",
            "_________________________________________________________________\n",
            "Layer (type)                 Output Shape              Param #   \n",
            "=================================================================\n",
            "dense_75 (Dense)             (None, 800)               1080800   \n",
            "_________________________________________________________________\n",
            "dropout_50 (Dropout)         (None, 800)               0         \n",
            "_________________________________________________________________\n",
            "batch_normalization_50 (Batc (None, 800)               3200      \n",
            "_________________________________________________________________\n",
            "dense_76 (Dense)             (None, 800)               640800    \n",
            "_________________________________________________________________\n",
            "dropout_51 (Dropout)         (None, 800)               0         \n",
            "_________________________________________________________________\n",
            "batch_normalization_51 (Batc (None, 800)               3200      \n",
            "_________________________________________________________________\n",
            "dense_77 (Dense)             (None, 2)                 1602      \n",
            "=================================================================\n",
            "Total params: 1,729,602\n",
            "Trainable params: 1,726,402\n",
            "Non-trainable params: 3,200\n",
            "_________________________________________________________________\n",
            "None\n"
          ],
          "name": "stdout"
        }
      ]
    },
    {
      "cell_type": "markdown",
      "metadata": {
        "id": "1TTB0t2FMPk7",
        "colab_type": "text"
      },
      "source": [
        "## Обучение"
      ]
    },
    {
      "cell_type": "code",
      "metadata": {
        "id": "uhCXwbAErFXJ",
        "colab_type": "code",
        "outputId": "03a8479f-e3c4-4c56-c71b-55dd60a3acb2",
        "colab": {
          "base_uri": "https://localhost:8080/",
          "height": 1000
        }
      },
      "source": [
        "es_callback = keras.callbacks.EarlyStopping(monitor='val_accuracy',patience=50,mode='max',restore_best_weights=True)\n",
        "\n",
        "hist = model.fit(ss.transform(X_train),enc.transform(y_train),\n",
        "          validation_split=0.2,epochs=300,callbacks=[es_callback])\n",
        "\n",
        "print(model.evaluate(ss.transform(X_test),enc.transform(y_test)))"
      ],
      "execution_count": 0,
      "outputs": [
        {
          "output_type": "stream",
          "text": [
            "Epoch 1/300\n",
            "23/23 [==============================] - 0s 16ms/step - loss: 69.5645 - accuracy: 0.4965 - val_loss: 35.4764 - val_accuracy: 0.4862\n",
            "Epoch 2/300\n",
            "23/23 [==============================] - 0s 9ms/step - loss: 32.0339 - accuracy: 0.4813 - val_loss: 27.4779 - val_accuracy: 0.5138\n",
            "Epoch 3/300\n",
            "23/23 [==============================] - 0s 9ms/step - loss: 22.2640 - accuracy: 0.5562 - val_loss: 22.8926 - val_accuracy: 0.4199\n",
            "Epoch 4/300\n",
            "23/23 [==============================] - 0s 9ms/step - loss: 20.0497 - accuracy: 0.5354 - val_loss: 19.2100 - val_accuracy: 0.4917\n",
            "Epoch 5/300\n",
            "23/23 [==============================] - 0s 8ms/step - loss: 18.5577 - accuracy: 0.5160 - val_loss: 18.7171 - val_accuracy: 0.4641\n",
            "Epoch 6/300\n",
            "23/23 [==============================] - 0s 9ms/step - loss: 17.7146 - accuracy: 0.5368 - val_loss: 17.2678 - val_accuracy: 0.5138\n",
            "Epoch 7/300\n",
            "23/23 [==============================] - 0s 9ms/step - loss: 15.3474 - accuracy: 0.5395 - val_loss: 16.3072 - val_accuracy: 0.5304\n",
            "Epoch 8/300\n",
            "23/23 [==============================] - 0s 8ms/step - loss: 13.8337 - accuracy: 0.5229 - val_loss: 14.1148 - val_accuracy: 0.5304\n",
            "Epoch 9/300\n",
            "23/23 [==============================] - 0s 9ms/step - loss: 12.0003 - accuracy: 0.5284 - val_loss: 11.9359 - val_accuracy: 0.5801\n",
            "Epoch 10/300\n",
            "23/23 [==============================] - 0s 8ms/step - loss: 10.2035 - accuracy: 0.5201 - val_loss: 8.4824 - val_accuracy: 0.4972\n",
            "Epoch 11/300\n",
            "23/23 [==============================] - 0s 9ms/step - loss: 8.0974 - accuracy: 0.5118 - val_loss: 7.4749 - val_accuracy: 0.5414\n",
            "Epoch 12/300\n",
            "23/23 [==============================] - 0s 8ms/step - loss: 6.9600 - accuracy: 0.5229 - val_loss: 6.8152 - val_accuracy: 0.4917\n",
            "Epoch 13/300\n",
            "23/23 [==============================] - 0s 9ms/step - loss: 6.2692 - accuracy: 0.5381 - val_loss: 5.4827 - val_accuracy: 0.5083\n",
            "Epoch 14/300\n",
            "23/23 [==============================] - 0s 8ms/step - loss: 5.1281 - accuracy: 0.5118 - val_loss: 4.7495 - val_accuracy: 0.5193\n",
            "Epoch 15/300\n",
            "23/23 [==============================] - 0s 9ms/step - loss: 5.0221 - accuracy: 0.5645 - val_loss: 4.4770 - val_accuracy: 0.4972\n",
            "Epoch 16/300\n",
            "23/23 [==============================] - 0s 9ms/step - loss: 3.9607 - accuracy: 0.5326 - val_loss: 3.3262 - val_accuracy: 0.4696\n",
            "Epoch 17/300\n",
            "23/23 [==============================] - 0s 8ms/step - loss: 3.1702 - accuracy: 0.5160 - val_loss: 2.8393 - val_accuracy: 0.5083\n",
            "Epoch 18/300\n",
            "23/23 [==============================] - 0s 9ms/step - loss: 2.7916 - accuracy: 0.5368 - val_loss: 2.6627 - val_accuracy: 0.5028\n",
            "Epoch 19/300\n",
            "23/23 [==============================] - 0s 8ms/step - loss: 2.7723 - accuracy: 0.5270 - val_loss: 2.9911 - val_accuracy: 0.5083\n",
            "Epoch 20/300\n",
            "23/23 [==============================] - 0s 8ms/step - loss: 2.5601 - accuracy: 0.5465 - val_loss: 2.7002 - val_accuracy: 0.4751\n",
            "Epoch 21/300\n",
            "23/23 [==============================] - 0s 9ms/step - loss: 2.5871 - accuracy: 0.5284 - val_loss: 2.3322 - val_accuracy: 0.5028\n",
            "Epoch 22/300\n",
            "23/23 [==============================] - 0s 8ms/step - loss: 2.3876 - accuracy: 0.5492 - val_loss: 2.1559 - val_accuracy: 0.4751\n",
            "Epoch 23/300\n",
            "23/23 [==============================] - 0s 8ms/step - loss: 2.1790 - accuracy: 0.5700 - val_loss: 2.5254 - val_accuracy: 0.5028\n",
            "Epoch 24/300\n",
            "23/23 [==============================] - 0s 8ms/step - loss: 2.5310 - accuracy: 0.5243 - val_loss: 2.3620 - val_accuracy: 0.5470\n",
            "Epoch 25/300\n",
            "23/23 [==============================] - 0s 9ms/step - loss: 2.2988 - accuracy: 0.5520 - val_loss: 2.6336 - val_accuracy: 0.5249\n",
            "Epoch 26/300\n",
            "23/23 [==============================] - 0s 9ms/step - loss: 2.4105 - accuracy: 0.5160 - val_loss: 1.6484 - val_accuracy: 0.4862\n",
            "Epoch 27/300\n",
            "23/23 [==============================] - 0s 9ms/step - loss: 1.7477 - accuracy: 0.5506 - val_loss: 2.0713 - val_accuracy: 0.5193\n",
            "Epoch 28/300\n",
            "23/23 [==============================] - 0s 9ms/step - loss: 1.9380 - accuracy: 0.5437 - val_loss: 1.7634 - val_accuracy: 0.5470\n",
            "Epoch 29/300\n",
            "23/23 [==============================] - 0s 8ms/step - loss: 1.8370 - accuracy: 0.5492 - val_loss: 2.0326 - val_accuracy: 0.5691\n",
            "Epoch 30/300\n",
            "23/23 [==============================] - 0s 8ms/step - loss: 1.8654 - accuracy: 0.5423 - val_loss: 1.5700 - val_accuracy: 0.5525\n",
            "Epoch 31/300\n",
            "23/23 [==============================] - 0s 9ms/step - loss: 1.5480 - accuracy: 0.5187 - val_loss: 1.4367 - val_accuracy: 0.5138\n",
            "Epoch 32/300\n",
            "23/23 [==============================] - 0s 9ms/step - loss: 1.4181 - accuracy: 0.5520 - val_loss: 1.5297 - val_accuracy: 0.5801\n",
            "Epoch 33/300\n",
            "23/23 [==============================] - 0s 8ms/step - loss: 2.1774 - accuracy: 0.5395 - val_loss: 1.6592 - val_accuracy: 0.5193\n",
            "Epoch 34/300\n",
            "23/23 [==============================] - 0s 9ms/step - loss: 1.7881 - accuracy: 0.5284 - val_loss: 1.5696 - val_accuracy: 0.5083\n",
            "Epoch 35/300\n",
            "23/23 [==============================] - 0s 9ms/step - loss: 1.5166 - accuracy: 0.5381 - val_loss: 1.6860 - val_accuracy: 0.5083\n",
            "Epoch 36/300\n",
            "23/23 [==============================] - 0s 9ms/step - loss: 1.6681 - accuracy: 0.5576 - val_loss: 1.9187 - val_accuracy: 0.5414\n",
            "Epoch 37/300\n",
            "23/23 [==============================] - 0s 9ms/step - loss: 2.3944 - accuracy: 0.5215 - val_loss: 2.6135 - val_accuracy: 0.5414\n",
            "Epoch 38/300\n",
            "23/23 [==============================] - 0s 9ms/step - loss: 2.2022 - accuracy: 0.5229 - val_loss: 1.5418 - val_accuracy: 0.5525\n",
            "Epoch 39/300\n",
            "23/23 [==============================] - 0s 9ms/step - loss: 1.5252 - accuracy: 0.5284 - val_loss: 1.5475 - val_accuracy: 0.5249\n",
            "Epoch 40/300\n",
            "23/23 [==============================] - 0s 9ms/step - loss: 1.5570 - accuracy: 0.5465 - val_loss: 2.1023 - val_accuracy: 0.5304\n",
            "Epoch 41/300\n",
            "23/23 [==============================] - 0s 10ms/step - loss: 1.5974 - accuracy: 0.5423 - val_loss: 1.5521 - val_accuracy: 0.5083\n",
            "Epoch 42/300\n",
            "23/23 [==============================] - 0s 9ms/step - loss: 1.7042 - accuracy: 0.5118 - val_loss: 2.4365 - val_accuracy: 0.4917\n",
            "Epoch 43/300\n",
            "23/23 [==============================] - 0s 9ms/step - loss: 1.8543 - accuracy: 0.5589 - val_loss: 2.0200 - val_accuracy: 0.5580\n",
            "Epoch 44/300\n",
            "23/23 [==============================] - 0s 9ms/step - loss: 1.7567 - accuracy: 0.5506 - val_loss: 1.8194 - val_accuracy: 0.5359\n",
            "Epoch 45/300\n",
            "23/23 [==============================] - 0s 9ms/step - loss: 4.0186 - accuracy: 0.5326 - val_loss: 4.5661 - val_accuracy: 0.4807\n",
            "Epoch 46/300\n",
            "23/23 [==============================] - 0s 9ms/step - loss: 2.3573 - accuracy: 0.5312 - val_loss: 2.2543 - val_accuracy: 0.5304\n",
            "Epoch 47/300\n",
            "23/23 [==============================] - 0s 9ms/step - loss: 1.9900 - accuracy: 0.5354 - val_loss: 1.9717 - val_accuracy: 0.5028\n",
            "Epoch 48/300\n",
            "23/23 [==============================] - 0s 9ms/step - loss: 1.8653 - accuracy: 0.5243 - val_loss: 1.5885 - val_accuracy: 0.5414\n",
            "Epoch 49/300\n",
            "23/23 [==============================] - 0s 9ms/step - loss: 1.4659 - accuracy: 0.5062 - val_loss: 1.2057 - val_accuracy: 0.5138\n",
            "Epoch 50/300\n",
            "23/23 [==============================] - 0s 9ms/step - loss: 1.2417 - accuracy: 0.4993 - val_loss: 1.2093 - val_accuracy: 0.4972\n",
            "Epoch 51/300\n",
            "23/23 [==============================] - 0s 9ms/step - loss: 1.3651 - accuracy: 0.5146 - val_loss: 1.6926 - val_accuracy: 0.4530\n",
            "Epoch 52/300\n",
            "23/23 [==============================] - 0s 9ms/step - loss: 1.2877 - accuracy: 0.5160 - val_loss: 1.2132 - val_accuracy: 0.4862\n",
            "Epoch 53/300\n",
            "23/23 [==============================] - 0s 9ms/step - loss: 1.4209 - accuracy: 0.5187 - val_loss: 1.3588 - val_accuracy: 0.5083\n",
            "Epoch 54/300\n",
            "23/23 [==============================] - 0s 10ms/step - loss: 1.3065 - accuracy: 0.4965 - val_loss: 1.1484 - val_accuracy: 0.5525\n",
            "Epoch 55/300\n",
            "23/23 [==============================] - 0s 9ms/step - loss: 1.1042 - accuracy: 0.5326 - val_loss: 1.1706 - val_accuracy: 0.4972\n",
            "Epoch 56/300\n",
            "23/23 [==============================] - 0s 9ms/step - loss: 1.2378 - accuracy: 0.5354 - val_loss: 1.1760 - val_accuracy: 0.4972\n",
            "Epoch 57/300\n",
            "23/23 [==============================] - 0s 9ms/step - loss: 1.1314 - accuracy: 0.5340 - val_loss: 1.1085 - val_accuracy: 0.5249\n",
            "Epoch 58/300\n",
            "23/23 [==============================] - 0s 9ms/step - loss: 1.8143 - accuracy: 0.5312 - val_loss: 3.1464 - val_accuracy: 0.5028\n",
            "Epoch 59/300\n",
            "23/23 [==============================] - 0s 10ms/step - loss: 1.6838 - accuracy: 0.5270 - val_loss: 3.3011 - val_accuracy: 0.4751\n",
            "13/13 [==============================] - 0s 4ms/step - loss: 12.0322 - accuracy: 0.5375\n",
            "[12.032209396362305, 0.5374677181243896]\n"
          ],
          "name": "stdout"
        }
      ]
    },
    {
      "cell_type": "markdown",
      "metadata": {
        "id": "OfmNL734MTOm",
        "colab_type": "text"
      },
      "source": [
        "## Графики обучения"
      ]
    },
    {
      "cell_type": "code",
      "metadata": {
        "id": "XzSMdY8wnuHd",
        "colab_type": "code",
        "outputId": "ba083c78-9142-4013-b162-e85c03039ad0",
        "colab": {
          "base_uri": "https://localhost:8080/",
          "height": 545
        }
      },
      "source": [
        "plt.plot(hist.history['accuracy'],label='train')\n",
        "plt.plot(hist.history['val_accuracy'],label='val')\n",
        "plt.title('accuracy')\n",
        "plt.legend()\n",
        "plt.show()\n",
        "\n",
        "plt.plot(hist.history['loss'],label='train')\n",
        "plt.plot(hist.history['val_loss'],label='val')\n",
        "plt.title('loss')\n",
        "plt.legend()\n",
        "plt.show()"
      ],
      "execution_count": 0,
      "outputs": [
        {
          "output_type": "display_data",
          "data": {
            "image/png": "[encoded data removed]",
            "text/plain": [
              "<Figure size 432x288 with 1 Axes>"
            ]
          },
          "metadata": {
            "tags": [],
            "needs_background": "light"
          }
        },
        {
          "output_type": "display_data",
          "data": {
            "image/png": "[encoded data removed]",
            "text/plain": [
              "<Figure size 432x288 with 1 Axes>"
            ]
          },
          "metadata": {
            "tags": [],
            "needs_background": "light"
          }
        }
      ]
    },
    {
      "cell_type": "markdown",
      "metadata": {
        "id": "b2Z4wyofL2oS",
        "colab_type": "text"
      },
      "source": [
        "# Расчет по модели"
      ]
    },
    {
      "cell_type": "code",
      "metadata": {
        "id": "D_zyLv8Aq18M",
        "colab_type": "code",
        "colab": {}
      },
      "source": [
        "pred_train = enc.inverse_transform(model.predict(ss.transform(X_train)))\n",
        "pred_test = enc.inverse_transform(model.predict(ss.transform(X_test)))"
      ],
      "execution_count": 0,
      "outputs": []
    },
    {
      "cell_type": "markdown",
      "metadata": {
        "id": "0SQd_IvhLoHW",
        "colab_type": "text"
      },
      "source": [
        "# Результаты эксперимента"
      ]
    },
    {
      "cell_type": "code",
      "metadata": {
        "id": "hc94Ib7KvB-N",
        "colab_type": "code",
        "outputId": "69b6fcd4-4e17-408f-f6ef-50d543b1a946",
        "colab": {
          "base_uri": "https://localhost:8080/",
          "height": 364
        }
      },
      "source": [
        "from sklearn.metrics import *\n",
        "\n",
        "print('----------- train report -----------')\n",
        "print(classification_report(y_train,pred_train))\n",
        "\n",
        "print('----------- test report -----------')\n",
        "print(classification_report(y_test,pred_test))"
      ],
      "execution_count": 0,
      "outputs": [
        {
          "output_type": "stream",
          "text": [
            "----------- train report -----------\n",
            "              precision    recall  f1-score   support\n",
            "\n",
            "           0       0.58      0.64      0.61       464\n",
            "           1       0.57      0.51      0.54       438\n",
            "\n",
            "    accuracy                           0.58       902\n",
            "   macro avg       0.57      0.57      0.57       902\n",
            "weighted avg       0.57      0.58      0.57       902\n",
            "\n",
            "----------- test report -----------\n",
            "              precision    recall  f1-score   support\n",
            "\n",
            "           0       0.57      0.73      0.64       215\n",
            "           1       0.47      0.30      0.37       172\n",
            "\n",
            "    accuracy                           0.54       387\n",
            "   macro avg       0.52      0.51      0.50       387\n",
            "weighted avg       0.52      0.54      0.52       387\n",
            "\n"
          ],
          "name": "stdout"
        }
      ]
    }
  ]
}