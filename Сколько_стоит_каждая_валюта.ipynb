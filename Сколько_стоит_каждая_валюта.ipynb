{
  "nbformat": 4,
  "nbformat_minor": 0,
  "metadata": {
    "colab": {
      "name": "Сколько стоит каждая валюта.ipynb",
      "provenance": [],
      "collapsed_sections": [],
      "toc_visible": true,
      "authorship_tag": "ABX9TyNB+KmtPoWeJoi7hHADDWyn",
      "include_colab_link": true
    },
    "kernelspec": {
      "name": "python3",
      "display_name": "Python 3"
    }
  },
  "cells": [
    {
      "cell_type": "markdown",
      "metadata": {
        "id": "view-in-github",
        "colab_type": "text"
      },
      "source": [
        "<a href=\"https://colab.research.google.com/github/prog815/abscur_prediction/blob/master/%D0%A1%D0%BA%D0%BE%D0%BB%D1%8C%D0%BA%D0%BE_%D1%81%D1%82%D0%BE%D0%B8%D1%82_%D0%BA%D0%B0%D0%B6%D0%B4%D0%B0%D1%8F_%D0%B2%D0%B0%D0%BB%D1%8E%D1%82%D0%B0.ipynb\" target=\"_parent\"><img src=\"https://colab.research.google.com/assets/colab-badge.svg\" alt=\"Open In Colab\"/></a>"
      ]
    },
    {
      "cell_type": "markdown",
      "metadata": {
        "id": "1mkX7IMcVHgR",
        "colab_type": "text"
      },
      "source": [
        "# **Сколько стоит каждая валюта?**"
      ]
    },
    {
      "cell_type": "markdown",
      "metadata": {
        "id": "aM--woXnu26D",
        "colab_type": "text"
      },
      "source": [
        "**Абсолютный курс**\n",
        "\n",
        "Енин А.В.\n",
        "\n",
        "г. Оренбург\n",
        "\n",
        "2020 г.\n",
        "\n"
      ]
    },
    {
      "cell_type": "markdown",
      "metadata": {
        "id": "q_qWG0YvRMXa",
        "colab_type": "text"
      },
      "source": [
        "Сайт - http://www.abscur.ru\n",
        "\n",
        "Twitter - https://twitter.com/abscurs\n",
        "\n",
        "ВКонтакте -  https://vk.com/abscur\n",
        "\n",
        "Одноклассники -  https://ok.ru/group/53547043520717\n",
        "\n",
        "FB -  https://www.facebook.com/abscur \n",
        "\n",
        "Telegram - https://t.me/AbsCur\n",
        "\n",
        "GitHub - https://github.com/prog815/abscur_prediction"
      ]
    },
    {
      "cell_type": "markdown",
      "metadata": {
        "id": "WzppVKjwUDDD",
        "colab_type": "text"
      },
      "source": [
        "Смотрим последние абсолютные курсы и сравниваем друг с другом."
      ]
    },
    {
      "cell_type": "markdown",
      "metadata": {
        "id": "unzAhdbWwsg2",
        "colab_type": "text"
      },
      "source": [
        "# Библиотеки"
      ]
    },
    {
      "cell_type": "code",
      "metadata": {
        "id": "lWBV_HiFwqX8",
        "colab_type": "code",
        "outputId": "ed454728-6fe7-4194-9f00-2b3c2ad2b104",
        "colab": {
          "base_uri": "https://localhost:8080/",
          "height": 34
        }
      },
      "source": [
        "import datetime\n",
        "print(datetime.date.today())\n",
        "\n",
        "import numpy as np\n",
        "import pandas as pd\n",
        "\n",
        "import matplotlib.pyplot as plt\n",
        "import seaborn as sns"
      ],
      "execution_count": 0,
      "outputs": [
        {
          "output_type": "stream",
          "text": [
            "2020-03-23\n"
          ],
          "name": "stdout"
        }
      ]
    },
    {
      "cell_type": "markdown",
      "metadata": {
        "id": "GauqzexkvZhl",
        "colab_type": "text"
      },
      "source": [
        "# Импорт данных"
      ]
    },
    {
      "cell_type": "markdown",
      "metadata": {
        "id": "QBPxlyfLvxZm",
        "colab_type": "text"
      },
      "source": [
        "Таблица с историей абсолютных курсов: https://docs.google.com/spreadsheets/d/1_-cdNCIC6NgyRDj0zLJBaohXo-K8qCfxfDLbYq2JLhs/edit#gid=422799220"
      ]
    },
    {
      "cell_type": "code",
      "metadata": {
        "id": "l-fOlyOOtRJo",
        "colab_type": "code",
        "outputId": "ed2e775b-4fa1-4f8b-eeda-4ab90559e9c8",
        "colab": {
          "base_uri": "https://localhost:8080/",
          "height": 34
        }
      },
      "source": [
        "data_url = 'https://docs.google.com/spreadsheets/d/1_-cdNCIC6NgyRDj0zLJBaohXo-K8qCfxfDLbYq2JLhs/export?format=csv&id=1_-cdNCIC6NgyRDj0zLJBaohXo-K8qCfxfDLbYq2JLhs&gid=422799220'\n",
        "abs_data = pd.read_csv(data_url,decimal=',',parse_dates=True,index_col=0)\n",
        "abs_data.shape"
      ],
      "execution_count": 0,
      "outputs": [
        {
          "output_type": "execute_result",
          "data": {
            "text/plain": [
              "(1297, 45)"
            ]
          },
          "metadata": {
            "tags": []
          },
          "execution_count": 8
        }
      ]
    },
    {
      "cell_type": "markdown",
      "metadata": {
        "id": "Yo6hLX-7UqBA",
        "colab_type": "text"
      },
      "source": [
        "## Подготовка данных"
      ]
    },
    {
      "cell_type": "code",
      "metadata": {
        "id": "JYtnp5stSazH",
        "colab_type": "code",
        "colab": {}
      },
      "source": [
        "dates = abs_data.index.values # даты\n",
        "cur_names = abs_data.columns.values # имена валют\n",
        "data = abs_data.values # матрица абсолютных курсов"
      ],
      "execution_count": 0,
      "outputs": []
    },
    {
      "cell_type": "markdown",
      "metadata": {
        "id": "P-ab6ya48iCT",
        "colab_type": "text"
      },
      "source": [
        "# Извлекаем последние абсолютные курсы"
      ]
    },
    {
      "cell_type": "code",
      "metadata": {
        "id": "Crdzs5UMj3_t",
        "colab_type": "code",
        "outputId": "7fabacf1-c307-4304-d446-73355b678962",
        "colab": {
          "base_uri": "https://localhost:8080/",
          "height": 1000
        }
      },
      "source": [
        "res = pd.DataFrame(data[-1,:],index=cur_names,columns=['close'])\n",
        "res = res.sort_values(by='close',ascending=False)\n",
        "res"
      ],
      "execution_count": 0,
      "outputs": [
        {
          "output_type": "execute_result",
          "data": {
            "text/html": [
              "<div>\n",
              "<style scoped>\n",
              "    .dataframe tbody tr th:only-of-type {\n",
              "        vertical-align: middle;\n",
              "    }\n",
              "\n",
              "    .dataframe tbody tr th {\n",
              "        vertical-align: top;\n",
              "    }\n",
              "\n",
              "    .dataframe thead th {\n",
              "        text-align: right;\n",
              "    }\n",
              "</style>\n",
              "<table border=\"1\" class=\"dataframe\">\n",
              "  <thead>\n",
              "    <tr style=\"text-align: right;\">\n",
              "      <th></th>\n",
              "      <th>close</th>\n",
              "    </tr>\n",
              "  </thead>\n",
              "  <tbody>\n",
              "    <tr>\n",
              "      <th>kwd</th>\n",
              "      <td>62.093066</td>\n",
              "    </tr>\n",
              "    <tr>\n",
              "      <th>gbp</th>\n",
              "      <td>22.564641</td>\n",
              "    </tr>\n",
              "    <tr>\n",
              "      <th>eur</th>\n",
              "      <td>20.542561</td>\n",
              "    </tr>\n",
              "    <tr>\n",
              "      <th>chf</th>\n",
              "      <td>19.665275</td>\n",
              "    </tr>\n",
              "    <tr>\n",
              "      <th>usd</th>\n",
              "      <td>19.316921</td>\n",
              "    </tr>\n",
              "    <tr>\n",
              "      <th>cad</th>\n",
              "      <td>13.455821</td>\n",
              "    </tr>\n",
              "    <tr>\n",
              "      <th>sgd</th>\n",
              "      <td>13.324936</td>\n",
              "    </tr>\n",
              "    <tr>\n",
              "      <th>aud</th>\n",
              "      <td>11.199962</td>\n",
              "    </tr>\n",
              "    <tr>\n",
              "      <th>nzd</th>\n",
              "      <td>10.982262</td>\n",
              "    </tr>\n",
              "    <tr>\n",
              "      <th>pen</th>\n",
              "      <td>5.458532</td>\n",
              "    </tr>\n",
              "    <tr>\n",
              "      <th>ils</th>\n",
              "      <td>5.352535</td>\n",
              "    </tr>\n",
              "    <tr>\n",
              "      <th>qar</th>\n",
              "      <td>5.291424</td>\n",
              "    </tr>\n",
              "    <tr>\n",
              "      <th>aed</th>\n",
              "      <td>5.259039</td>\n",
              "    </tr>\n",
              "    <tr>\n",
              "      <th>sar</th>\n",
              "      <td>5.138408</td>\n",
              "    </tr>\n",
              "    <tr>\n",
              "      <th>pln</th>\n",
              "      <td>4.552493</td>\n",
              "    </tr>\n",
              "    <tr>\n",
              "      <th>myr</th>\n",
              "      <td>4.359167</td>\n",
              "    </tr>\n",
              "    <tr>\n",
              "      <th>ron</th>\n",
              "      <td>4.249742</td>\n",
              "    </tr>\n",
              "    <tr>\n",
              "      <th>brl</th>\n",
              "      <td>3.823478</td>\n",
              "    </tr>\n",
              "    <tr>\n",
              "      <th>try</th>\n",
              "      <td>2.948138</td>\n",
              "    </tr>\n",
              "    <tr>\n",
              "      <th>dkk</th>\n",
              "      <td>2.767726</td>\n",
              "    </tr>\n",
              "    <tr>\n",
              "      <th>cny</th>\n",
              "      <td>2.725346</td>\n",
              "    </tr>\n",
              "    <tr>\n",
              "      <th>hkd</th>\n",
              "      <td>2.490221</td>\n",
              "    </tr>\n",
              "    <tr>\n",
              "      <th>sek</th>\n",
              "      <td>1.858878</td>\n",
              "    </tr>\n",
              "    <tr>\n",
              "      <th>nok</th>\n",
              "      <td>1.636718</td>\n",
              "    </tr>\n",
              "    <tr>\n",
              "      <th>egp</th>\n",
              "      <td>1.225360</td>\n",
              "    </tr>\n",
              "    <tr>\n",
              "      <th>zar</th>\n",
              "      <td>1.099121</td>\n",
              "    </tr>\n",
              "    <tr>\n",
              "      <th>mxn</th>\n",
              "      <td>0.790862</td>\n",
              "    </tr>\n",
              "    <tr>\n",
              "      <th>czk</th>\n",
              "      <td>0.755684</td>\n",
              "    </tr>\n",
              "    <tr>\n",
              "      <th>uah</th>\n",
              "      <td>0.697594</td>\n",
              "    </tr>\n",
              "    <tr>\n",
              "      <th>twd</th>\n",
              "      <td>0.637939</td>\n",
              "    </tr>\n",
              "    <tr>\n",
              "      <th>thb</th>\n",
              "      <td>0.590908</td>\n",
              "    </tr>\n",
              "    <tr>\n",
              "      <th>php</th>\n",
              "      <td>0.377404</td>\n",
              "    </tr>\n",
              "    <tr>\n",
              "      <th>ars</th>\n",
              "      <td>0.303515</td>\n",
              "    </tr>\n",
              "    <tr>\n",
              "      <th>inr</th>\n",
              "      <td>0.257359</td>\n",
              "    </tr>\n",
              "    <tr>\n",
              "      <th>rub</th>\n",
              "      <td>0.244944</td>\n",
              "    </tr>\n",
              "    <tr>\n",
              "      <th>jpy</th>\n",
              "      <td>0.174265</td>\n",
              "    </tr>\n",
              "    <tr>\n",
              "      <th>isk</th>\n",
              "      <td>0.137318</td>\n",
              "    </tr>\n",
              "    <tr>\n",
              "      <th>pkr</th>\n",
              "      <td>0.121702</td>\n",
              "    </tr>\n",
              "    <tr>\n",
              "      <th>huf</th>\n",
              "      <td>0.058899</td>\n",
              "    </tr>\n",
              "    <tr>\n",
              "      <th>kzt</th>\n",
              "      <td>0.042802</td>\n",
              "    </tr>\n",
              "    <tr>\n",
              "      <th>clp</th>\n",
              "      <td>0.022538</td>\n",
              "    </tr>\n",
              "    <tr>\n",
              "      <th>krw</th>\n",
              "      <td>0.015412</td>\n",
              "    </tr>\n",
              "    <tr>\n",
              "      <th>cop</th>\n",
              "      <td>0.004715</td>\n",
              "    </tr>\n",
              "    <tr>\n",
              "      <th>idr</th>\n",
              "      <td>0.001205</td>\n",
              "    </tr>\n",
              "    <tr>\n",
              "      <th>vnd</th>\n",
              "      <td>0.000824</td>\n",
              "    </tr>\n",
              "  </tbody>\n",
              "</table>\n",
              "</div>"
            ],
            "text/plain": [
              "         close\n",
              "kwd  62.093066\n",
              "gbp  22.564641\n",
              "eur  20.542561\n",
              "chf  19.665275\n",
              "usd  19.316921\n",
              "cad  13.455821\n",
              "sgd  13.324936\n",
              "aud  11.199962\n",
              "nzd  10.982262\n",
              "pen   5.458532\n",
              "ils   5.352535\n",
              "qar   5.291424\n",
              "aed   5.259039\n",
              "sar   5.138408\n",
              "pln   4.552493\n",
              "myr   4.359167\n",
              "ron   4.249742\n",
              "brl   3.823478\n",
              "try   2.948138\n",
              "dkk   2.767726\n",
              "cny   2.725346\n",
              "hkd   2.490221\n",
              "sek   1.858878\n",
              "nok   1.636718\n",
              "egp   1.225360\n",
              "zar   1.099121\n",
              "mxn   0.790862\n",
              "czk   0.755684\n",
              "uah   0.697594\n",
              "twd   0.637939\n",
              "thb   0.590908\n",
              "php   0.377404\n",
              "ars   0.303515\n",
              "inr   0.257359\n",
              "rub   0.244944\n",
              "jpy   0.174265\n",
              "isk   0.137318\n",
              "pkr   0.121702\n",
              "huf   0.058899\n",
              "kzt   0.042802\n",
              "clp   0.022538\n",
              "krw   0.015412\n",
              "cop   0.004715\n",
              "idr   0.001205\n",
              "vnd   0.000824"
            ]
          },
          "metadata": {
            "tags": []
          },
          "execution_count": 31
        }
      ]
    },
    {
      "cell_type": "markdown",
      "metadata": {
        "id": "hp-PDGsgqXdS",
        "colab_type": "text"
      },
      "source": [
        "# Выводим на диаграмме"
      ]
    },
    {
      "cell_type": "code",
      "metadata": {
        "id": "wdaQfSgZkukX",
        "colab_type": "code",
        "outputId": "19e210cf-8055-464f-9706-138971d7cf84",
        "colab": {
          "base_uri": "https://localhost:8080/",
          "height": 458
        }
      },
      "source": [
        "x = res.index\n",
        "h = res.values.flatten()\n",
        "plt.figure(figsize=(10,7))\n",
        "plt.bar(x,h)\n",
        "plt.xticks(rotation=70)\n",
        "plt.grid(axis='y')\n",
        "plt.title('Абсолютные стоимости мировых валют на ' + str(dates[-1]))\n",
        "plt.show()"
      ],
      "execution_count": 0,
      "outputs": [
        {
          "output_type": "display_data",
          "data": {
            "image/png": "[encoded data removed]",
            "text/plain": [
              "<Figure size 720x504 with 1 Axes>"
            ]
          },
          "metadata": {
            "tags": []
          }
        }
      ]
    },
    {
      "cell_type": "markdown",
      "metadata": {
        "id": "ivVvgUPwkAGB",
        "colab_type": "text"
      },
      "source": [
        "Самая дорогая валюта - это кувейтский доллар. И стоит он более 60 абсов. Доллар США стоит 19 абсов. Рубль стоит 0,24 абса. Самая дешевая валюта - вьетнамский донг (0.0008 абса)."
      ]
    }
  ]
}